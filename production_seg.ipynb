{
  "nbformat": 4,
  "nbformat_minor": 0,
  "metadata": {
    "colab": {
      "name": "production_seg.ipynb",
      "version": "0.3.2",
      "provenance": [],
      "collapsed_sections": [
        "aIKo3jQicN02",
        "zitxbEqEiyn8",
        "g4Qhmrutq9Su",
        "5M-eEf8ollCh",
        "Sx59YdkgRLhr",
        "3gI4z6iBRLiT",
        "gJYmgMEZuffb"
      ],
      "include_colab_link": true
    },
    "kernelspec": {
      "display_name": "Python 3",
      "language": "python",
      "name": "python3"
    },
    "accelerator": "GPU"
  },
  "cells": [
    {
      "cell_type": "markdown",
      "metadata": {
        "id": "view-in-github",
        "colab_type": "text"
      },
      "source": [
        "<a href=\"https://colab.research.google.com/github/yasrynn/ML-Notebooks/blob/master/production_seg.ipynb\" target=\"_parent\"><img src=\"https://colab.research.google.com/assets/colab-badge.svg\" alt=\"Open In Colab\"/></a>"
      ]
    },
    {
      "metadata": {
        "colab_type": "text",
        "id": "bRSXktZrcGrX"
      },
      "cell_type": "markdown",
      "source": [
        "# Introduction"
      ]
    },
    {
      "metadata": {
        "colab_type": "text",
        "id": "9AZg2G7VcPPV"
      },
      "cell_type": "markdown",
      "source": [
        "While meeting with the OAG data science team on March 1st, a problem was described to me where the team received a dataset that described a profile of a producing oil well in terms of production amount vs. time.  The team's objective was to produce a model predicting such profiles.  The team described how there would be time periods with zero production, and time periods with missing data, but those could easily be identified and removed from the dataset.  A more difficult issue was the presence of non-zero, but artificially lowered periods of production, after which production would return to previous levels (or levels consistent with a curve).  These \"gaps\" were difficult to algorithmically identify, and would cause problems for the predictive model when included in the training dataset.\n",
        "\n",
        "After the meeting, I thought about the problem of identifying these \"gaps\", and had the thought that the problem could be treated as a segmentation problem, with a model that predicts whether each data point could be included in the dataset.\n",
        "\n",
        "I have created this notebook to generate simulated data, train a model, and analyze the performance of the model."
      ]
    },
    {
      "metadata": {
        "colab_type": "text",
        "heading_collapsed": true,
        "id": "aIKo3jQicN02"
      },
      "cell_type": "markdown",
      "source": [
        "# Setup"
      ]
    },
    {
      "metadata": {
        "colab_type": "text",
        "hidden": true,
        "id": "ZWm0f6Rzo8di"
      },
      "cell_type": "markdown",
      "source": [
        "We'll need the [fast.ai library](https://www.fast.ai/)"
      ]
    },
    {
      "metadata": {
        "colab_type": "code",
        "hidden": true,
        "id": "omIz-65Kian6",
        "colab": {}
      },
      "cell_type": "code",
      "source": [
        "# !curl -s https://course.fast.ai/setup/colab | bash # Uncomment to set up a version of fast.ai in colab."
      ],
      "execution_count": 0,
      "outputs": []
    },
    {
      "metadata": {
        "colab_type": "code",
        "hidden": true,
        "id": "ffWFrE53JuAB",
        "colab": {}
      },
      "cell_type": "code",
      "source": [
        "# !pip uninstall fastai # In case there are issues with the version installed by the above line."
      ],
      "execution_count": 0,
      "outputs": []
    },
    {
      "metadata": {
        "colab_type": "code",
        "hidden": true,
        "id": "-TbcgNSaJ3hx",
        "colab": {}
      },
      "cell_type": "code",
      "source": [
        "# !pip install fastai"
      ],
      "execution_count": 0,
      "outputs": []
    },
    {
      "metadata": {
        "colab_type": "code",
        "hidden": true,
        "id": "Byjb6toRjDEz",
        "colab": {}
      },
      "cell_type": "code",
      "source": [
        "%reload_ext autoreload\n",
        "%autoreload 2"
      ],
      "execution_count": 0,
      "outputs": []
    },
    {
      "metadata": {
        "colab_type": "code",
        "hidden": true,
        "id": "rJ-dIhd8jVSP",
        "colab": {}
      },
      "cell_type": "code",
      "source": [
        "from fastai import *\n",
        "from fastai.data_block import *\n",
        "from fastai.torch_core import *\n",
        "from fastai.layers import *\n",
        "from fastai.basic_train import *\n",
        "from fastai.train import *\n",
        "from fastai.callbacks.hooks import *\n",
        "from fastai.basic_data import *\n",
        "\n",
        "import matplotlib.pyplot as plt\n",
        "from matplotlib import patches, patheffects\n",
        "import numpy as np\n",
        "import functools as ft"
      ],
      "execution_count": 0,
      "outputs": []
    },
    {
      "metadata": {
        "colab_type": "text",
        "hidden": true,
        "id": "UPbCmyJNtG8y"
      },
      "cell_type": "markdown",
      "source": [
        "We'll also be looking at the simulated profiles."
      ]
    },
    {
      "metadata": {
        "colab_type": "code",
        "hidden": true,
        "id": "1TiSYq2tjXYM",
        "colab": {}
      },
      "cell_type": "code",
      "source": [
        "def lin_plot(vs,mask,*args):\n",
        "    assert len(args)%2 == 0, \"Expected even number of axis views.\"\n",
        "    for arg in args:\n",
        "        assert len(arg) == 2, \"Arguments >0 must be value range pairs.\"\n",
        "        for x in arg:\n",
        "            assert isinstance(x,float) or isinstance(x,int), \\\n",
        "                \"Expected numerical values in value range pairs.\"\n",
        "    \n",
        "    xranges,yranges = args[0::2],args[1::2]\n",
        "    fig = plt.figure(figsize=(4*len(xranges)+len(xranges), 4))\n",
        "    \n",
        "    mask = [1 for v in vs] if mask is None else mask\n",
        "    \n",
        "    if isinstance(vs, torch.Tensor):\n",
        "      vs = to_np(vs)\n",
        "    \n",
        "    n = len(xranges)\n",
        "    \n",
        "    for i,(xrange,yrange) in enumerate(zip(xranges,yranges)):\n",
        "        ax = fig.add_subplot(1,n,i+1)\n",
        "        \n",
        "        vs_split = []\n",
        "        acc = []\n",
        "        lastm = 1\n",
        "        for m,v in zip(mask,vs):\n",
        "          if m == lastm:\n",
        "            acc.append(v)\n",
        "          else:\n",
        "            if acc: vs_split.append((lastm,acc))\n",
        "            acc = [v]\n",
        "          lastm = m\n",
        "        vs_split.append((m,torch.Tensor(acc)))\n",
        "        \n",
        "        for m,v_list in vs_split:\n",
        "          path = patches.Path(v_list)\n",
        "          color = 'blue' if bool(m == 1) else 'red'\n",
        "          alpha = 1.0\n",
        "\n",
        "          pathpatch = patches.PathPatch(path, facecolor='none', edgecolor=patches.colors.to_rgba(color,alpha))\n",
        "          patch = ax.add_patch(pathpatch)\n",
        "        ax.set_xlim(xrange[0],xrange[1])\n",
        "        ax.set_ylim(yrange[0],yrange[1])\n",
        "    plt.show()"
      ],
      "execution_count": 0,
      "outputs": []
    },
    {
      "metadata": {
        "id": "iuPLchI01Tkx",
        "colab_type": "text"
      },
      "cell_type": "markdown",
      "source": [
        "# Data"
      ]
    },
    {
      "metadata": {
        "colab_type": "text",
        "hidden": true,
        "id": "QIg8nT6CkP0P"
      },
      "cell_type": "markdown",
      "source": [
        "We want to train the model on simulated data to find artificially low levels of production.  The idea is to have the network will flag those data points for removal.  The sample graph that was drawn for me looked roughly like a noisy exponential decay curve with gaps of artificially lower production, so this is the type of simulated data we'll create."
      ]
    },
    {
      "metadata": {
        "colab_type": "code",
        "hidden": true,
        "id": "LRDSpwFvkQg5",
        "colab": {}
      },
      "cell_type": "code",
      "source": [
        "# Data parameters\n",
        "\n",
        "data_sz    = 50000 + 12500      # training and validation\n",
        "length     = 10000              # number of data points in each profile\n",
        "interval   = (0.0, 10.0)        # time interval\n",
        "y_interval = (0.0,  5.0)        # y-axis interval\n",
        "noise_amp  = 0.1                # amplitude of noise\n",
        "avg_gaps   = 1.                 # average number of gaps\n",
        "std_gaps   = 1.                 # standard deviation of number of gaps\n",
        "avg_size   = 1.                 # average gap size\n",
        "mult_range = (0.0,0.8)          # range of multiplier applied for a gap\n",
        "a_range    = (.8,y_interval[1]) # range of exponential multiple\n",
        "b_range    = (0.,.3)            # range of exponential constant\n",
        "k_range    = (0.1,0.4)          # range of exponential exponent multiple\n"
      ],
      "execution_count": 0,
      "outputs": []
    },
    {
      "metadata": {
        "colab_type": "text",
        "heading_collapsed": true,
        "id": "zitxbEqEiyn8"
      },
      "cell_type": "markdown",
      "source": [
        "## Generating fake production profiles"
      ]
    },
    {
      "metadata": {
        "colab_type": "text",
        "hidden": true,
        "id": "jbsqZBAIifzR"
      },
      "cell_type": "markdown",
      "source": [
        "We don't want to store all the data points from every profile, so we want a way to take a few parameters and generate a profile on-the-fly.  We'll start by generating a profile with no gaps..."
      ]
    },
    {
      "metadata": {
        "colab_type": "code",
        "hidden": true,
        "id": "kskVn5YClua_",
        "colab": {}
      },
      "cell_type": "code",
      "source": [
        "def f(a, b, k, x):\n",
        "  return a*torch.exp(-x*k)+b"
      ],
      "execution_count": 0,
      "outputs": []
    },
    {
      "metadata": {
        "colab_type": "code",
        "hidden": true,
        "id": "4D4kPuTYe7zM",
        "colab": {}
      },
      "cell_type": "code",
      "source": [
        "def getprofile(length,interval,a,b,k):\n",
        "  xs = torch.Tensor([interval[1]*i/length+interval[0] for i in range(length)])\n",
        "  return xs,f(a,b,k,xs)"
      ],
      "execution_count": 0,
      "outputs": []
    },
    {
      "metadata": {
        "colab_type": "text",
        "hidden": true,
        "id": "SxV_yCdyjMCv"
      },
      "cell_type": "markdown",
      "source": [
        "Let's have a look at a sample profile."
      ]
    },
    {
      "metadata": {
        "colab_type": "code",
        "hidden": true,
        "id": "peF98t19kUvA",
        "colab": {}
      },
      "cell_type": "code",
      "source": [
        "xs,ys = getprofile(length,interval,1.0,0.0,0.2)\n",
        "vs = torch.stack([xs,ys]).transpose(0,1)"
      ],
      "execution_count": 0,
      "outputs": []
    },
    {
      "metadata": {
        "colab_type": "code",
        "hidden": true,
        "id": "8m9aEw9um7Zg",
        "outputId": "23fed43c-09ff-4000-89bb-113a50333710",
        "colab": {
          "base_uri": "https://localhost:8080/",
          "height": 289
        }
      },
      "cell_type": "code",
      "source": [
        "lin_plot(vs, None, [0,10], [0,1])"
      ],
      "execution_count": 0,
      "outputs": [
        {
          "output_type": "display_data",
          "data": {
            "image/png": "[encoded data removed]",
            "text/plain": [
              "<Figure size 360x288 with 1 Axes>"
            ]
          },
          "metadata": {
            "tags": []
          }
        }
      ]
    },
    {
      "metadata": {
        "colab_type": "text",
        "hidden": true,
        "id": "4ZKp-70pkXlx"
      },
      "cell_type": "markdown",
      "source": [
        "We also want the profile to be noisy, so here's how we'll add some noise to it."
      ]
    },
    {
      "metadata": {
        "colab_type": "code",
        "hidden": true,
        "id": "NPVG0BuRvZol",
        "colab": {}
      },
      "cell_type": "code",
      "source": [
        "noise = noise_amp * torch.randn(length)"
      ],
      "execution_count": 0,
      "outputs": []
    },
    {
      "metadata": {
        "colab_type": "code",
        "hidden": true,
        "id": "on-Eu3AROxNj",
        "colab": {}
      },
      "cell_type": "code",
      "source": [
        "ys_noisy = ys.add(noise).clamp(*y_interval)"
      ],
      "execution_count": 0,
      "outputs": []
    },
    {
      "metadata": {
        "colab_type": "code",
        "hidden": true,
        "id": "2LUBVB3SuV0-",
        "outputId": "b4054403-71da-4257-ee15-5c6e1b9a072a",
        "colab": {
          "base_uri": "https://localhost:8080/",
          "height": 54
        }
      },
      "cell_type": "code",
      "source": [
        "vs = torch.stack([torch.Tensor(xs),ys_noisy]).transpose(0,1); vs.shape"
      ],
      "execution_count": 0,
      "outputs": [
        {
          "output_type": "execute_result",
          "data": {
            "text/plain": [
              "torch.Size([10000, 2])"
            ]
          },
          "metadata": {
            "tags": []
          },
          "execution_count": 14
        }
      ]
    },
    {
      "metadata": {
        "colab_type": "code",
        "hidden": true,
        "id": "Cp6coWmPujJJ",
        "outputId": "0c773200-4fd5-44c8-cd9d-06c1da2ec4ba",
        "colab": {
          "base_uri": "https://localhost:8080/",
          "height": 289
        }
      },
      "cell_type": "code",
      "source": [
        "lin_plot(vs, None, [0,10], [0,1])"
      ],
      "execution_count": 0,
      "outputs": [
        {
          "output_type": "display_data",
          "data": {
            "image/png": "[encoded data removed]",
            "text/plain": [
              "<Figure size 360x288 with 1 Axes>"
            ]
          },
          "metadata": {
            "tags": []
          }
        }
      ]
    },
    {
      "metadata": {
        "colab_type": "text",
        "hidden": true,
        "id": "IwPfcyxd8lkh"
      },
      "cell_type": "markdown",
      "source": [
        "Now we need to add gaps in the data.   We'll start by generating integers that represent the number of gaps in each profile."
      ]
    },
    {
      "metadata": {
        "colab_type": "code",
        "hidden": true,
        "id": "C-KpanAHyIMc",
        "outputId": "9855be7e-a809-4c18-ba22-edafa80fc9da",
        "colab": {
          "base_uri": "https://localhost:8080/",
          "height": 54
        }
      },
      "cell_type": "code",
      "source": [
        "num_gaps = np.stack([np.random.normal(avg_gaps,std_gaps,data_sz).astype(int),np.zeros((data_sz,),dtype=int)]).max(0); num_gaps[0:10]"
      ],
      "execution_count": 0,
      "outputs": [
        {
          "output_type": "execute_result",
          "data": {
            "text/plain": [
              "array([0, 3, 0, 0, 1, 2, 0, 1, 0, 0])"
            ]
          },
          "metadata": {
            "tags": []
          },
          "execution_count": 16
        }
      ]
    },
    {
      "metadata": {
        "colab_type": "text",
        "hidden": true,
        "id": "9N-UxxXA8t26"
      },
      "cell_type": "markdown",
      "source": [
        "Each gap is generated randomly as below.  `interval` is the total (fake) time interval on which the data is defined, `avg_size` is the nominal average size desired for gaps, but not quite because we will arbitrarily truncate the randomly generated gaps to exist only on the appropriate time interval (which shortens the actual average) and sometimes the gaps will overlap and be effectively a single gap (which increases the actual average).\n",
        "\n",
        "The function returns the start and end of the gap (in terms of the time axis), and the factor by which the data will be multiplied (between 0 and .8)."
      ]
    },
    {
      "metadata": {
        "colab_type": "code",
        "hidden": true,
        "id": "4zb2e61w6z5-",
        "colab": {}
      },
      "cell_type": "code",
      "source": [
        "def random_gap(interval, avg_size):\n",
        "  low,high = interval\n",
        "  middle = np.random.uniform(low,high)\n",
        "  size = np.abs(np.random.normal(0.,avg_size))\n",
        "  start = max(middle-size/2,low)\n",
        "  end   = min(middle+size/2,high)\n",
        "  drop_factor = np.random.uniform(*mult_range)\n",
        "  return start,end,drop_factor"
      ],
      "execution_count": 0,
      "outputs": []
    },
    {
      "metadata": {
        "colab_type": "code",
        "hidden": true,
        "id": "AdWinKEE739T",
        "outputId": "a1ee5001-6e03-4c19-ee11-5cc531db584a",
        "colab": {
          "base_uri": "https://localhost:8080/",
          "height": 54
        }
      },
      "cell_type": "code",
      "source": [
        "random_gap(interval,avg_size=1) # Start x-value, end x-value, multiplication factor."
      ],
      "execution_count": 0,
      "outputs": [
        {
          "output_type": "execute_result",
          "data": {
            "text/plain": [
              "(6.060007484244158, 7.6632093302160165, 0.10342018689542076)"
            ]
          },
          "metadata": {
            "tags": []
          },
          "execution_count": 18
        }
      ]
    },
    {
      "metadata": {
        "colab_type": "text",
        "hidden": true,
        "id": "LT1JiEfwD1kF"
      },
      "cell_type": "markdown",
      "source": [
        "The above will be passed to our new `ItemList` class.  Now we need a way to take a curve and add the gaps..."
      ]
    },
    {
      "metadata": {
        "colab_type": "code",
        "hidden": true,
        "id": "Z-iAu22Tm5JU",
        "colab": {}
      },
      "cell_type": "code",
      "source": [
        "def getmults(xs, gaplist):\n",
        "  mults = torch.ones_like(xs)\n",
        "  for gap in gaplist:\n",
        "    start,end,mult = gap\n",
        "    mask = (torch.lt((start*torch.ones_like(xs)),xs)*torch.lt(xs,(end*torch.ones_like(xs)))).to(dtype=torch.float32)\n",
        "    mults =  mults * ((mask*mult) + (1.-mask))\n",
        "  return mults  "
      ],
      "execution_count": 0,
      "outputs": []
    },
    {
      "metadata": {
        "colab_type": "text",
        "hidden": true,
        "id": "emAjh63fh7Dj"
      },
      "cell_type": "markdown",
      "source": [
        "...and a way to generate labels, i.e. which data points on the profile we want the model to identify as gaps."
      ]
    },
    {
      "metadata": {
        "colab_type": "code",
        "hidden": true,
        "id": "Cu9iA_5_pasa",
        "colab": {}
      },
      "cell_type": "code",
      "source": [
        "def getlabels(xs, gaplist):\n",
        "  labels = torch.zeros_like(xs)\n",
        "  for gap in gaplist:\n",
        "    start,end,mult = gap\n",
        "    mask = (torch.lt((start*torch.ones_like(xs)),xs)*torch.lt(xs,(end*torch.ones_like(xs)))).to(dtype=torch.float32)\n",
        "    labels = labels + mask\n",
        "  return 1.-labels.clamp(0.,1.)"
      ],
      "execution_count": 0,
      "outputs": []
    },
    {
      "metadata": {
        "colab_type": "text",
        "hidden": true,
        "id": "cJWRdnWeIOkZ"
      },
      "cell_type": "markdown",
      "source": [
        "Here's a sample of what we'll multiply a profile by, elementwise.  First create a list of gaps then generate the multipliers."
      ]
    },
    {
      "metadata": {
        "colab_type": "code",
        "hidden": true,
        "id": "dKo7b23bDtWj",
        "colab": {}
      },
      "cell_type": "code",
      "source": [
        "gaplist = [(7.895473695650945, 8.5611717232079, 0.7412393215396834),\n",
        " (9.42338378189132, 10.0, 0.49183629537436746),\n",
        " (3.267080298267579, 4.566375305422216, 0.7222552666207067)]"
      ],
      "execution_count": 0,
      "outputs": []
    },
    {
      "metadata": {
        "colab_type": "code",
        "hidden": true,
        "id": "gJvPa1csoEHv",
        "outputId": "4031a31c-4f87-49a1-c043-cd67137e9e33",
        "colab": {
          "base_uri": "https://localhost:8080/",
          "height": 71
        }
      },
      "cell_type": "code",
      "source": [
        "%time mults = getmults(xs,gaplist)"
      ],
      "execution_count": 0,
      "outputs": [
        {
          "output_type": "stream",
          "text": [
            "CPU times: user 1.53 ms, sys: 482 µs, total: 2.01 ms\n",
            "Wall time: 1.71 ms\n"
          ],
          "name": "stdout"
        }
      ]
    },
    {
      "metadata": {
        "colab_type": "text",
        "hidden": true,
        "id": "uj3YDdq6lZvQ"
      },
      "cell_type": "markdown",
      "source": [
        "Now let's incorporate the gaps in our sample profile."
      ]
    },
    {
      "metadata": {
        "colab_type": "code",
        "hidden": true,
        "id": "d_X-4Q74YwPG",
        "colab": {}
      },
      "cell_type": "code",
      "source": [
        "ys_gaps = (ys*mults).add(noise).clamp(*y_interval)"
      ],
      "execution_count": 0,
      "outputs": []
    },
    {
      "metadata": {
        "colab_type": "code",
        "hidden": true,
        "id": "mP2bX1z9YwPK",
        "outputId": "e7d2af21-7fa1-4cf6-b188-7272068d0177",
        "colab": {
          "base_uri": "https://localhost:8080/",
          "height": 54
        }
      },
      "cell_type": "code",
      "source": [
        "vs = to_np(torch.stack([torch.Tensor(xs),ys_gaps]).transpose(0,1)); vs.shape"
      ],
      "execution_count": 0,
      "outputs": [
        {
          "output_type": "execute_result",
          "data": {
            "text/plain": [
              "(10000, 2)"
            ]
          },
          "metadata": {
            "tags": []
          },
          "execution_count": 24
        }
      ]
    },
    {
      "metadata": {
        "colab_type": "text",
        "hidden": true,
        "id": "sMj8mS5jhnDD"
      },
      "cell_type": "markdown",
      "source": [
        "Here's the result, with a demo of labelling.  Gaps are indicated in red, non-gaps in blue."
      ]
    },
    {
      "metadata": {
        "colab_type": "code",
        "hidden": true,
        "id": "IlVzlGNWYwPQ",
        "outputId": "671d355e-66dc-4e77-8543-3c64809e9d89",
        "scrolled": true,
        "colab": {
          "base_uri": "https://localhost:8080/",
          "height": 289
        }
      },
      "cell_type": "code",
      "source": [
        "lin_plot(vs, getlabels(xs,gaplist), [0,10], [0,1])"
      ],
      "execution_count": 0,
      "outputs": [
        {
          "output_type": "display_data",
          "data": {
            "image/png": "[encoded data removed]",
            "text/plain": [
              "<Figure size 360x288 with 1 Axes>"
            ]
          },
          "metadata": {
            "tags": []
          }
        }
      ]
    },
    {
      "metadata": {
        "colab_type": "text",
        "heading_collapsed": true,
        "id": "g4Qhmrutq9Su"
      },
      "cell_type": "markdown",
      "source": [
        "## Generate dataset"
      ]
    },
    {
      "metadata": {
        "colab_type": "text",
        "hidden": true,
        "id": "gc9BrCw2-v0d"
      },
      "cell_type": "markdown",
      "source": [
        "This is what we'll store in the dataset to generate the gaps."
      ]
    },
    {
      "metadata": {
        "colab_type": "code",
        "hidden": true,
        "id": "9LYB0zBd4zA2",
        "colab": {}
      },
      "cell_type": "code",
      "source": [
        "gaps = [[random_gap(interval,avg_size) for i in range(n)] for n in num_gaps]"
      ],
      "execution_count": 0,
      "outputs": []
    },
    {
      "metadata": {
        "colab_type": "code",
        "hidden": true,
        "id": "FzCVo_sKlt1w",
        "colab": {}
      },
      "cell_type": "code",
      "source": [
        "a_list = np.random.uniform(*a_range,data_sz)\n",
        "b_list = np.random.uniform(*b_range,data_sz)\n",
        "k_list = np.random.uniform(*k_range,data_sz)\n",
        "profile_params = np.array( list(zip(list(zip(list(a_list),list(b_list),list(k_list))),gaps)) )"
      ],
      "execution_count": 0,
      "outputs": []
    },
    {
      "metadata": {
        "colab_type": "code",
        "hidden": true,
        "id": "MqmPVqy2-rWW",
        "colab": {}
      },
      "cell_type": "code",
      "source": [
        "items = array(gaps, dtype=object)"
      ],
      "execution_count": 0,
      "outputs": []
    },
    {
      "metadata": {
        "colab_type": "text",
        "heading_collapsed": true,
        "id": "5M-eEf8ollCh"
      },
      "cell_type": "markdown",
      "source": [
        "## An ItemList to handle the data in fast.ai"
      ]
    },
    {
      "metadata": {
        "colab_type": "text",
        "hidden": true,
        "id": "pmcZqpGkrrB2"
      },
      "cell_type": "markdown",
      "source": [
        "The `ProfileItemList` (subclassing a fast.ai wrapper for PyTorch datasets, sort of) will store the parameters for all profiles in (regular) memory and build and serve full profiles to the dataloader on the fly as PyTorch `Tensor`s, which will end up in GPU memory one batch at a time.  The noise is generated randomly, so the profile won't be exactly the same each time it's served, but this is fine (even desirable)."
      ]
    },
    {
      "metadata": {
        "colab_type": "code",
        "hidden": true,
        "id": "m9IW38t6oIK-",
        "colab": {}
      },
      "cell_type": "code",
      "source": [
        "class ProfileLabelItemList(ItemList):\n",
        "\n",
        "    def __init__(self, items, length=10000, interval=(0.,10.), **kwargs):\n",
        "        super().__init__(items, **kwargs)\n",
        "        self.length,self.interval = length,interval\n",
        "        self.copy_new.append('length')\n",
        "        self.copy_new.append('interval')\n",
        "        \n",
        "    def get(self, i): \n",
        "        xs,ys = getprofile(self.length,self.interval,*self.items[i][0])\n",
        "        label = getlabels(xs,self.items[i][1])\n",
        "        return label"
      ],
      "execution_count": 0,
      "outputs": []
    },
    {
      "metadata": {
        "colab_type": "code",
        "hidden": true,
        "id": "NvIj9p2EyVOg",
        "colab": {}
      },
      "cell_type": "code",
      "source": [
        "class ProfileItemList(ItemList):\n",
        "    _label_cls = ProfileLabelItemList\n",
        "\n",
        "    def __init__(self, items, noise_amp=0.01, length=10000, interval=(0.,10.), **kwargs):\n",
        "        super().__init__(items, **kwargs)\n",
        "        self.noise_amp,self.length,self.interval = noise_amp,length,interval\n",
        "        self.copy_new.append('length')\n",
        "        self.copy_new.append('interval')\n",
        "        self.copy_new.append('noise_amp')\n",
        "\n",
        "    def get(self, i):\n",
        "        noise = self.noise_amp * torch.randn(self.length)\n",
        "        xs,ys = getprofile(self.length,self.interval,*self.items[i][0])\n",
        "        mults = getmults(xs,self.items[i][1])\n",
        "        return (ys*mults).add(noise).clamp(*y_interval).unsqueeze(0)"
      ],
      "execution_count": 0,
      "outputs": []
    },
    {
      "metadata": {
        "colab_type": "code",
        "hidden": true,
        "id": "_DOdu6Qwn0DP",
        "colab": {}
      },
      "cell_type": "code",
      "source": [
        "il = ProfileItemList(profile_params, noise_amp, length, interval)"
      ],
      "execution_count": 0,
      "outputs": []
    },
    {
      "metadata": {
        "colab_type": "code",
        "hidden": true,
        "id": "2QcQuYOyrk07",
        "colab": {}
      },
      "cell_type": "code",
      "source": [
        "labels = ProfileLabelItemList(profile_params, length, interval)"
      ],
      "execution_count": 0,
      "outputs": []
    },
    {
      "metadata": {
        "colab_type": "code",
        "hidden": true,
        "id": "FxzHXkEVxic3",
        "outputId": "9e52ebc6-c3a9-4c5d-8f7f-ab61de42c55d",
        "colab": {
          "base_uri": "https://localhost:8080/",
          "height": 68
        }
      },
      "cell_type": "code",
      "source": [
        "i = 1\n",
        "\n",
        "il.items[i]"
      ],
      "execution_count": 80,
      "outputs": [
        {
          "output_type": "execute_result",
          "data": {
            "text/plain": [
              "array([(1.2780566253593133, 0.28699739971043103, 0.11989891715300743),\n",
              "       list([(6.183537904326836, 6.751093142291009, 0.3439988199246575), (2.9365144165846426, 4.471805087927873, 0.38723431479048387), (6.14921629659169, 7.362948266915738, 0.1860385923312481)])],\n",
              "      dtype=object)"
            ]
          },
          "metadata": {
            "tags": []
          },
          "execution_count": 80
        }
      ]
    },
    {
      "metadata": {
        "colab_type": "code",
        "hidden": true,
        "id": "ysOgbAbzqj7V",
        "outputId": "3d237676-2848-4461-bb9d-45785d57515b",
        "colab": {
          "base_uri": "https://localhost:8080/",
          "height": 269
        }
      },
      "cell_type": "code",
      "source": [
        "lin_plot(list(zip(xs,il[i].squeeze())),labels[i],[0,10],[0,2])"
      ],
      "execution_count": 81,
      "outputs": [
        {
          "output_type": "display_data",
          "data": {
            "image/png": "[encoded data removed]",
            "text/plain": [
              "<Figure size 360x288 with 1 Axes>"
            ]
          },
          "metadata": {
            "tags": []
          }
        }
      ]
    },
    {
      "metadata": {
        "colab_type": "code",
        "hidden": true,
        "id": "UH1zCLTvyiLr",
        "colab": {}
      },
      "cell_type": "code",
      "source": [
        "np.random.seed(5) # To prevent data leakage in case we happen to run this again without a fresh dataset.\n",
        "valid_pct = .2\n",
        "\n",
        "rand_idx = np.random.permutation(range(data_sz))\n",
        "cut = int(valid_pct * data_sz)\n",
        "\n",
        "ils,lils = il.split_by_idx(rand_idx[:cut]),labels.split_by_idx(rand_idx[:cut])"
      ],
      "execution_count": 0,
      "outputs": []
    },
    {
      "metadata": {
        "colab_type": "code",
        "hidden": true,
        "id": "dR-RwDuPt5lV",
        "colab": {}
      },
      "cell_type": "code",
      "source": [
        "train,valid = LabelList(ils.train,lils.train),LabelList(ils.valid,lils.valid)"
      ],
      "execution_count": 0,
      "outputs": []
    },
    {
      "metadata": {
        "colab_type": "code",
        "hidden": true,
        "id": "S4B7Br3-tmWb",
        "colab": {}
      },
      "cell_type": "code",
      "source": [
        "db = LabelLists('.',train,valid).databunch()"
      ],
      "execution_count": 0,
      "outputs": []
    },
    {
      "metadata": {
        "colab_type": "text",
        "heading_collapsed": true,
        "id": "MVr1iM3AqD-n"
      },
      "cell_type": "markdown",
      "source": [
        "# Model"
      ]
    },
    {
      "metadata": {
        "colab_type": "text",
        "hidden": true,
        "id": "jV1DzOaJaq3n"
      },
      "cell_type": "markdown",
      "source": [
        "We will use a variation on the [U-net](https://arxiv.org/abs/1505.04597) model which was developed for image segmentation.  We are not processing images here, but we are trying to predict a mask on a 1-d set of data points, which is similar.  Therefore, we will use a 1-d convolutional model that uses an encoder/decoder structure with nested skip-connections."
      ]
    },
    {
      "metadata": {
        "colab_type": "code",
        "hidden": true,
        "id": "vzSarrrAfa2M",
        "outputId": "50bc16ba-6fec-4a08-ba5c-14c5ac7f433e",
        "colab": {
          "base_uri": "https://localhost:8080/",
          "height": 34
        }
      },
      "cell_type": "code",
      "source": [
        "# Parameter           # Value for best performer\n",
        "\n",
        "bb_kernel_sz = 3      # 3\n",
        "min_feat     = 16     # 16\n",
        "max_feat     = 64     # 64\n",
        "n_lay        = 6      # 6\n",
        "scaling      = 2      # 2\n",
        "add_mode     = True   # True\n",
        "trans_ker    = 9      # 9\n",
        "\n",
        "feats = [(min(max_feat, min_feat*(2 ** i)), min(max_feat, min_feat*(2 ** (i+1)))) for i in range(n_lay)]; feats"
      ],
      "execution_count": 0,
      "outputs": [
        {
          "output_type": "execute_result",
          "data": {
            "text/plain": [
              "[(16, 32), (32, 64), (64, 64), (64, 64), (64, 64), (64, 64)]"
            ]
          },
          "metadata": {
            "tags": []
          },
          "execution_count": 38
        }
      ]
    },
    {
      "metadata": {
        "colab_type": "text",
        "hidden": true,
        "id": "Sx59YdkgRLhr"
      },
      "cell_type": "markdown",
      "source": [
        "## Framework"
      ]
    },
    {
      "metadata": {
        "colab_type": "text",
        "hidden": true,
        "id": "Ccj1hrZP8Jtt"
      },
      "cell_type": "markdown",
      "source": [
        "Much of the following was modified from the fast.ai library."
      ]
    },
    {
      "metadata": {
        "colab_type": "code",
        "hidden": true,
        "id": "gcYrZQGl2iJK",
        "colab": {}
      },
      "cell_type": "code",
      "source": [
        "def _bn(ni, init_zero=False):\n",
        "    \"Batchnorm layer with 0 initialization\"\n",
        "    m = nn.BatchNorm1d(ni)\n",
        "    m.weight.data.fill_(0 if init_zero else 1)\n",
        "    m.bias.data.zero_()\n",
        "    return m\n",
        "  \n",
        "def bn_relu_conv(ni, nf, ks, stride, init_zero=False):\n",
        "    bn_initzero = _bn(ni, init_zero=init_zero)\n",
        "    return nn.Sequential(bn_initzero, nn.ReLU(inplace=True), conv1d(ni, nf, ks, stride))\n",
        "\n",
        "class BasicBlock(nn.Module):\n",
        "    \"Block from a wide ResNet.\"\n",
        "    def __init__(self, ni, nf, ks, stride, drop_p=0.0):\n",
        "        super().__init__()\n",
        "        self.bn = nn.BatchNorm1d(ni)\n",
        "        self.conv1 = conv1d(ni, nf, ks, stride)\n",
        "        self.conv2 = bn_relu_conv(nf, nf, ks, 1)\n",
        "        self.drop = nn.Dropout(drop_p, inplace=True) if drop_p else None\n",
        "        self.shortcut = conv1d(ni, nf, 1, stride) if (ni != nf or stride != 1) else noop\n",
        "\n",
        "    def forward(self, x):\n",
        "        x2 = F.relu(self.bn(x), inplace=True)\n",
        "        r = self.shortcut(x2)\n",
        "        x = self.conv1(x2)\n",
        "        if self.drop: x = self.drop(x)\n",
        "        x = self.conv2(x) * 0.2\n",
        "        return x.add_(r)"
      ],
      "execution_count": 0,
      "outputs": []
    },
    {
      "metadata": {
        "colab_type": "code",
        "hidden": true,
        "id": "S2_TaxXnHZWa",
        "colab": {}
      },
      "cell_type": "code",
      "source": [
        "def conv1d(ni:int, no:int, ks:int=1, stride:int=1, padding=None, bias:bool=False):\n",
        "    \"Create and initialize `nn.Conv1d` layer.\"\n",
        "    if padding is None: padding = ks//2\n",
        "    conv = nn.Conv1d(ni, no, ks, stride=stride, padding=padding, bias=bias)\n",
        "    nn.init.kaiming_normal_(conv.weight)\n",
        "    if bias: conv.bias.data.zero_()\n",
        "    return spectral_norm(conv)"
      ],
      "execution_count": 0,
      "outputs": []
    },
    {
      "metadata": {
        "colab_type": "code",
        "hidden": true,
        "id": "uSWUUcNqjuXi",
        "colab": {}
      },
      "cell_type": "code",
      "source": [
        "class UnetBlock(nn.Module):\n",
        "    \"A quasi-UNet block, upsampling by using linear interpolation followed by convolution.\"\n",
        "    def __init__(self, dn_in_c:int, dn_out_c:int, x_c:int, in_hook:Hook, out_hook:Hook, final_div:bool=True, \n",
        "                 blur:bool=False, leaky:float=None, self_attention:bool=False, add_mode=True):\n",
        "        super().__init__()\n",
        "        self.in_hook,self.out_hook = in_hook,out_hook\n",
        "        self.bn = nn.BatchNorm1d(x_c)\n",
        "        with torch.no_grad():\n",
        "            self.bn.bias.fill_(1e-3)\n",
        "            self.bn.weight.fill_(1.)\n",
        "        \n",
        "        conv_in = x_c if add_mode else 2*x_c\n",
        "        \n",
        "        self.conv1 = conv_layer(conv_in, dn_out_c, leaky=leaky, is_1d=True)\n",
        "        self.conv2 = conv_layer(dn_out_c, dn_in_c, leaky=leaky, self_attention=self_attention, is_1d=True)\n",
        "#         self.relu = relu(leaky=leaky)\n",
        "\n",
        "    def forward(self, up_in:Tensor) -> Tensor:\n",
        "        s = self.in_hook.stored\n",
        "        ssh = s.shape[-1:]\n",
        "        out_sz = self.out_hook.stored.shape[-1:]\n",
        "#         up_out = F.interpolate(up_in, ssh, mode='linear')\n",
        "        up_out = up_in\n",
        "#         cat_x = self.relu(torch.cat([up_out, self.bn(s)], dim=1))\n",
        "        cat_x = up_out + self.bn(s) if add_mode \\\n",
        "            else torch.cat([up_out, self.bn(s)], dim=1)\n",
        "        \n",
        "        return self.conv2(F.interpolate(self.conv1(cat_x),out_sz, mode='linear', align_corners=False))"
      ],
      "execution_count": 0,
      "outputs": []
    },
    {
      "metadata": {
        "colab_type": "code",
        "hidden": true,
        "id": "NwAnePJCgywI",
        "colab": {}
      },
      "cell_type": "code",
      "source": [
        "class Noop_module(nn.Module): # Used to easily hook the raw input to the network\n",
        "  def forward(self,x):\n",
        "    return noop(x)"
      ],
      "execution_count": 0,
      "outputs": []
    },
    {
      "metadata": {
        "colab_type": "code",
        "hidden": true,
        "id": "BZT2IuohXpz3",
        "colab": {}
      },
      "cell_type": "code",
      "source": [
        "def sequentialize(l):\n",
        "  return SequentialEx(*list(l))"
      ],
      "execution_count": 0,
      "outputs": []
    },
    {
      "metadata": {
        "colab_type": "text",
        "hidden": true,
        "id": "3gI4z6iBRLiT"
      },
      "cell_type": "markdown",
      "source": [
        "## Construction"
      ]
    },
    {
      "metadata": {
        "colab_type": "text",
        "hidden": true,
        "id": "9HWMf96cmu0S"
      },
      "cell_type": "markdown",
      "source": [
        "We now have the pieces needed to build the encoder and decoder."
      ]
    },
    {
      "metadata": {
        "hidden": true,
        "id": "UF6Jui-yG9rM",
        "colab_type": "text"
      },
      "cell_type": "markdown",
      "source": [
        "### Encoder"
      ]
    },
    {
      "metadata": {
        "colab_type": "code",
        "hidden": true,
        "id": "U0B9aHsAbDNH",
        "colab": {}
      },
      "cell_type": "code",
      "source": [
        "enc_layers = [\n",
        "              [BasicBlock(in_f,out_f,bb_kernel_sz,scaling),BasicBlock(out_f,out_f,bb_kernel_sz,1)]\n",
        "              for (in_f,out_f) in feats\n",
        "             ]\n",
        "\n",
        "initial = Noop_module()\n",
        "hook = hook_output(initial)\n",
        "\n",
        "enc_layers = [[initial,BasicBlock(1,min_feat,9,2),BasicBlock(min_feat,min_feat,bb_kernel_sz,1)]] + enc_layers\n",
        "\n",
        "enc = list(map(sequentialize, enc_layers))"
      ],
      "execution_count": 0,
      "outputs": []
    },
    {
      "metadata": {
        "colab_type": "code",
        "hidden": true,
        "id": "mkEjyNxPQ4Mk",
        "colab": {}
      },
      "cell_type": "code",
      "source": [
        "encoder = SequentialEx(*enc)"
      ],
      "execution_count": 0,
      "outputs": []
    },
    {
      "metadata": {
        "hidden": true,
        "id": "pDvawmTfG9rw",
        "colab_type": "text"
      },
      "cell_type": "markdown",
      "source": [
        "### Transition"
      ]
    },
    {
      "metadata": {
        "hidden": true,
        "id": "goBGSO-BG9ry",
        "colab_type": "code",
        "colab": {}
      },
      "cell_type": "code",
      "source": [
        "encoded_feats = feats[-1][1]\n",
        "\n",
        "trans = BasicBlock(encoded_feats,encoded_feats,trans_ker,1)"
      ],
      "execution_count": 0,
      "outputs": []
    },
    {
      "metadata": {
        "hidden": true,
        "id": "NIgSvhJHG9r-",
        "colab_type": "text"
      },
      "cell_type": "markdown",
      "source": [
        "### Decoder"
      ]
    },
    {
      "metadata": {
        "colab_type": "text",
        "hidden": true,
        "id": "grrw_2l5m2Zh"
      },
      "cell_type": "markdown",
      "source": [
        "For the decoder we construct the layers, hooking the outputs from the encoder layers as partial inputs."
      ]
    },
    {
      "metadata": {
        "colab_type": "code",
        "hidden": true,
        "id": "ROGOIYRflsVB",
        "colab": {}
      },
      "cell_type": "code",
      "source": [
        "sfs = hook_outputs(encoder)\n",
        "\n",
        "dec_layers = [UnetBlock(out_f,in_f,in_f,in_hook,out_hook,add_mode=add_mode) \n",
        "              for (i,(out_f,in_f)),in_hook,out_hook in zip(enumerate(feats),sfs[1:],sfs[:-1])\n",
        "             ]\n",
        "\n",
        "last_in_f,last_out_f = 1,feats[0][0]\n",
        "last_up = UnetBlock(last_out_f,last_out_f,last_out_f,sfs[0],hook,add_mode=add_mode)\n",
        "last_conv = conv_layer(last_out_f, last_in_f, is_1d=True, use_activ=False)\n",
        "sig = nn.Sigmoid()\n",
        "\n",
        "dec_layers = list(reversed(dec_layers)) + [last_up,last_conv,sig]\n"
      ],
      "execution_count": 0,
      "outputs": []
    },
    {
      "metadata": {
        "hidden": true,
        "id": "wy2fN7J6G9sE",
        "colab_type": "code",
        "colab": {}
      },
      "cell_type": "code",
      "source": [
        "decoder = SequentialEx(*dec_layers)"
      ],
      "execution_count": 0,
      "outputs": []
    },
    {
      "metadata": {
        "hidden": true,
        "id": "b9X8a9o4G9sO",
        "colab_type": "text"
      },
      "cell_type": "markdown",
      "source": [
        "### Combined model"
      ]
    },
    {
      "metadata": {
        "colab_type": "code",
        "hidden": true,
        "id": "4yVd-0y-qErs",
        "colab": {}
      },
      "cell_type": "code",
      "source": [
        "model = nn.Sequential(encoder,trans,decoder)"
      ],
      "execution_count": 0,
      "outputs": []
    },
    {
      "metadata": {
        "colab_type": "text",
        "heading_collapsed": true,
        "id": "gJYmgMEZuffb"
      },
      "cell_type": "markdown",
      "source": [
        "# Loss Function"
      ]
    },
    {
      "metadata": {
        "colab_type": "text",
        "hidden": true,
        "id": "5nU70IV_aEVC"
      },
      "cell_type": "markdown",
      "source": [
        "For a loss function we use a variation on the DICE loss function (described [here](https://www.jeremyjordan.me/semantic-segmentation/#loss))."
      ]
    },
    {
      "metadata": {
        "colab_type": "code",
        "hidden": true,
        "id": "vVMrr0Hq0l9s",
        "colab": {}
      },
      "cell_type": "code",
      "source": [
        "def dice(preds,targs):\n",
        "  return .5-((1.-preds.squeeze())*(1.-targs)).mean()/((1.-preds.squeeze()).mean()+(1.-targs).mean())"
      ],
      "execution_count": 0,
      "outputs": []
    },
    {
      "metadata": {
        "colab_type": "text",
        "id": "gFsKTzxCt1Ls"
      },
      "cell_type": "markdown",
      "source": [
        "# Training"
      ]
    },
    {
      "metadata": {
        "colab_type": "code",
        "id": "vIzEJON2ud9M",
        "colab": {}
      },
      "cell_type": "code",
      "source": [
        "learn = Learner(db,model.cuda(),loss_func=dice)"
      ],
      "execution_count": 0,
      "outputs": []
    },
    {
      "metadata": {
        "colab_type": "code",
        "id": "Dsw2wfjJHZ7Y",
        "outputId": "b5b91d0c-fd4a-445d-b6d7-6956f1757d2c",
        "colab": {
          "base_uri": "https://localhost:8080/",
          "height": 34
        }
      },
      "cell_type": "code",
      "source": [
        "learn.lr_find()"
      ],
      "execution_count": 0,
      "outputs": [
        {
          "output_type": "display_data",
          "data": {
            "text/html": [
              ""
            ],
            "text/plain": [
              "<IPython.core.display.HTML object>"
            ]
          },
          "metadata": {
            "tags": []
          }
        },
        {
          "output_type": "stream",
          "text": [
            "LR Finder is complete, type {learner_name}.recorder.plot() to see the graph.\n"
          ],
          "name": "stdout"
        }
      ]
    },
    {
      "metadata": {
        "colab_type": "code",
        "id": "XOR70STII9_O",
        "outputId": "59c67ddc-9d90-4aed-e985-aa8205060de6",
        "scrolled": true,
        "colab": {
          "base_uri": "https://localhost:8080/",
          "height": 361
        }
      },
      "cell_type": "code",
      "source": [
        "learn.recorder.plot()"
      ],
      "execution_count": 0,
      "outputs": [
        {
          "output_type": "display_data",
          "data": {
            "image/png": "[encoded data removed]",
            "text/plain": [
              "<Figure size 576x396 with 1 Axes>"
            ]
          },
          "metadata": {
            "tags": []
          }
        }
      ]
    },
    {
      "metadata": {
        "colab_type": "code",
        "id": "SU2q-PnhjVM2",
        "outputId": "7c6f79d4-ab47-4965-fe35-66bae9ab330e",
        "colab": {
          "base_uri": "https://localhost:8080/",
          "height": 320
        }
      },
      "cell_type": "code",
      "source": [
        "learn.fit_one_cycle(8,max_lr=5e-2)"
      ],
      "execution_count": 54,
      "outputs": [
        {
          "output_type": "display_data",
          "data": {
            "text/html": [
              "Total time: 43:38 <p><table border=\"1\" class=\"dataframe\">\n",
              "  <thead>\n",
              "    <tr style=\"text-align: left;\">\n",
              "      <th>epoch</th>\n",
              "      <th>train_loss</th>\n",
              "      <th>valid_loss</th>\n",
              "      <th>time</th>\n",
              "    </tr>\n",
              "  </thead>\n",
              "  <tbody>\n",
              "    <tr>\n",
              "      <td>0</td>\n",
              "      <td>0.074554</td>\n",
              "      <td>0.061635</td>\n",
              "      <td>05:29</td>\n",
              "    </tr>\n",
              "    <tr>\n",
              "      <td>1</td>\n",
              "      <td>0.040382</td>\n",
              "      <td>0.049042</td>\n",
              "      <td>05:29</td>\n",
              "    </tr>\n",
              "    <tr>\n",
              "      <td>2</td>\n",
              "      <td>0.019250</td>\n",
              "      <td>0.021283</td>\n",
              "      <td>05:27</td>\n",
              "    </tr>\n",
              "    <tr>\n",
              "      <td>3</td>\n",
              "      <td>0.021380</td>\n",
              "      <td>0.091546</td>\n",
              "      <td>05:29</td>\n",
              "    </tr>\n",
              "    <tr>\n",
              "      <td>4</td>\n",
              "      <td>0.007272</td>\n",
              "      <td>0.008852</td>\n",
              "      <td>05:25</td>\n",
              "    </tr>\n",
              "    <tr>\n",
              "      <td>5</td>\n",
              "      <td>0.005854</td>\n",
              "      <td>0.008339</td>\n",
              "      <td>05:23</td>\n",
              "    </tr>\n",
              "    <tr>\n",
              "      <td>6</td>\n",
              "      <td>0.003454</td>\n",
              "      <td>0.003389</td>\n",
              "      <td>05:22</td>\n",
              "    </tr>\n",
              "    <tr>\n",
              "      <td>7</td>\n",
              "      <td>0.002763</td>\n",
              "      <td>0.002545</td>\n",
              "      <td>05:30</td>\n",
              "    </tr>\n",
              "  </tbody>\n",
              "</table>"
            ],
            "text/plain": [
              "<IPython.core.display.HTML object>"
            ]
          },
          "metadata": {
            "tags": []
          }
        }
      ]
    },
    {
      "metadata": {
        "id": "TupbJH5ZQDqG",
        "colab_type": "code",
        "colab": {
          "base_uri": "https://localhost:8080/",
          "height": 361
        },
        "outputId": "bcf2d204-c20e-4fc4-a6d1-62b5fd70ab7b"
      },
      "cell_type": "code",
      "source": [
        "learn.recorder.plot_losses()"
      ],
      "execution_count": 55,
      "outputs": [
        {
          "output_type": "display_data",
          "data": {
            "image/png": "[encoded data removed]",
            "text/plain": [
              "<Figure size 576x396 with 1 Axes>"
            ]
          },
          "metadata": {
            "tags": []
          }
        }
      ]
    },
    {
      "metadata": {
        "colab_type": "text",
        "id": "nv8I7UGnt4FA"
      },
      "cell_type": "markdown",
      "source": [
        "# Analysis"
      ]
    },
    {
      "metadata": {
        "colab_type": "code",
        "id": "EVuXTBDstbhM",
        "colab": {}
      },
      "cell_type": "code",
      "source": [
        "x,y = db.one_batch(ds_type=DatasetType.Valid)"
      ],
      "execution_count": 0,
      "outputs": []
    },
    {
      "metadata": {
        "colab_type": "text",
        "id": "EyLBrscenttn"
      },
      "cell_type": "markdown",
      "source": [
        "The model is extemely accurate for almost all profiles:"
      ]
    },
    {
      "metadata": {
        "colab_type": "code",
        "id": "dk_rNR3sgyW8",
        "colab": {
          "base_uri": "https://localhost:8080/",
          "height": 269
        },
        "outputId": "b89b7bf7-e453-481f-901a-91cfc6965936"
      },
      "cell_type": "code",
      "source": [
        "i = 2\n",
        "lin_plot(list(zip(xs,x[i].squeeze())),learn.model(x[i].unsqueeze(0).cuda()).round().squeeze(),[0,10],[0,3]) # Predicted labels"
      ],
      "execution_count": 73,
      "outputs": [
        {
          "output_type": "display_data",
          "data": {
            "image/png": "[encoded data removed]",
            "text/plain": [
              "<Figure size 360x288 with 1 Axes>"
            ]
          },
          "metadata": {
            "tags": []
          }
        }
      ]
    },
    {
      "metadata": {
        "colab_type": "code",
        "id": "0NXDiTppPI6Y",
        "colab": {
          "base_uri": "https://localhost:8080/",
          "height": 269
        },
        "outputId": "b642ce3c-f0dd-48cf-84a6-4f7527167369"
      },
      "cell_type": "code",
      "source": [
        "lin_plot(list(zip(xs,x[i].squeeze())),y[i].squeeze(),[0,10],[0,3]) # Actual labels"
      ],
      "execution_count": 75,
      "outputs": [
        {
          "output_type": "display_data",
          "data": {
            "image/png": "[encoded data removed]",
            "text/plain": [
              "<Figure size 360x288 with 1 Axes>"
            ]
          },
          "metadata": {
            "tags": []
          }
        }
      ]
    },
    {
      "metadata": {
        "colab_type": "text",
        "id": "LDvIgwGJoDzK"
      },
      "cell_type": "markdown",
      "source": [
        "UPDATE: The model no longer falsely marks real data as fake."
      ]
    },
    {
      "metadata": {
        "colab_type": "code",
        "id": "8Is2eI3Kn9f_",
        "colab": {
          "base_uri": "https://localhost:8080/",
          "height": 269
        },
        "outputId": "e22e0102-e5c4-4d75-df38-dd460e561876"
      },
      "cell_type": "code",
      "source": [
        "i = 3\n",
        "lin_plot(list(zip(xs,x[i].squeeze())),learn.model(x[i].unsqueeze(0).cuda()).round().squeeze(),[0,10],[0,3]) # Predicted labels"
      ],
      "execution_count": 77,
      "outputs": [
        {
          "output_type": "display_data",
          "data": {
            "image/png": "[encoded data removed]",
            "text/plain": [
              "<Figure size 360x288 with 1 Axes>"
            ]
          },
          "metadata": {
            "tags": []
          }
        }
      ]
    },
    {
      "metadata": {
        "colab_type": "code",
        "id": "CwsR8qecn-4J",
        "colab": {
          "base_uri": "https://localhost:8080/",
          "height": 269
        },
        "outputId": "5fbb5e2c-c6f1-42d3-ec5a-a31fdf260556"
      },
      "cell_type": "code",
      "source": [
        "lin_plot(list(zip(xs,x[i].squeeze())),y[i].squeeze(),[0,10],[0,3]) # Actual labels"
      ],
      "execution_count": 78,
      "outputs": [
        {
          "output_type": "display_data",
          "data": {
            "image/png": "[encoded data removed]",
            "text/plain": [
              "<Figure size 360x288 with 1 Axes>"
            ]
          },
          "metadata": {
            "tags": []
          }
        }
      ]
    },
    {
      "metadata": {
        "id": "Hpsh7B08G9ud",
        "colab_type": "text"
      },
      "cell_type": "markdown",
      "source": [
        "The model occasionally labels as fake some, but not all data points of particular gaps (but this is rare enough that I couldn't find an instance in the batch of 64 that I sampled)."
      ]
    },
    {
      "metadata": {
        "colab_type": "text",
        "id": "7AdwETV4iTTD"
      },
      "cell_type": "markdown",
      "source": [
        "# Conclusion"
      ]
    },
    {
      "metadata": {
        "colab_type": "text",
        "id": "DkOTM2YqiWuC"
      },
      "cell_type": "markdown",
      "source": [
        "UPDATE: The performance of the model is excellent on the simulated data.  More information from the team would be needed to see whether the model would work as well on the real data.  Training on simulated data is generally a vulnerable process, and it would be preferrable to train on actual profiles, but it's unknown to me how much real data is available.  The model as it was demonstrated in this notebook had essentially unlimited data with which to train.  If real data is scarce, perhaps the real data could be analyzed to improve the quality of the simulated data to make it better for training.\n",
        "\n",
        "Areas of potential improvement for the model are:\n",
        "\n",
        "* Among various methods of implementing U-net style skip connections, addition and concatenation of the outputs of earlier layers with the input of the previous layer are common.  For this model, addition showed superior performance.  A hybrid method using concatenation but initializing the weights of the next layer to emulate an addition operation, could potentially give the performance of addition with the flexibility of concatenation.\n",
        "* Experiment with integration of a recurrent network for better parsing of gap start and end positions.\n",
        "* Integrate this model with the predictive model for single-pass training and prediction.\n",
        "\n",
        "Hopefully this model can be helpful to the OAG data science team."
      ]
    }
  ]
}