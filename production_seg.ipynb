{
  "nbformat": 4,
  "nbformat_minor": 0,
  "metadata": {
    "colab": {
      "name": "production-seg.ipynb",
      "version": "0.3.2",
      "provenance": [],
      "collapsed_sections": [],
      "include_colab_link": true
    },
    "kernelspec": {
      "name": "python3",
      "display_name": "Python 3"
    },
    "accelerator": "GPU"
  },
  "cells": [
    {
      "cell_type": "markdown",
      "metadata": {
        "id": "view-in-github",
        "colab_type": "text"
      },
      "source": [
        "<a href=\"https://colab.research.google.com/github/yasrynn/ML-Notebooks/blob/master/production_seg.ipynb\" target=\"_parent\"><img src=\"https://colab.research.google.com/assets/colab-badge.svg\" alt=\"Open In Colab\"/></a>"
      ]
    },
    {
      "metadata": {
        "id": "bRSXktZrcGrX",
        "colab_type": "text"
      },
      "cell_type": "markdown",
      "source": [
        "# Introduction"
      ]
    },
    {
      "metadata": {
        "id": "9AZg2G7VcPPV",
        "colab_type": "text"
      },
      "cell_type": "markdown",
      "source": [
        "While meeting with the team on March 1st, a problem was described to me where the team received a dataset that described a profile of a producing oil well in terms of production amount vs. time.  The team's objective was to produce a model predicting such profiles.  The team described how there would be time periods with zero production, and time periods with missing data, but those could easily be identified and removed from the dataset.  A more difficult issue was the presence of non-zero, but artificially lowered periods of production, after which production would return to previous levels (or levels consistent with a curve).  These \"gaps\" were difficult to algorithmically identify, and would cause problems for the predictive model when included in the training dataset.\n",
        "\n",
        "After the meeting, I thought about the problem of identifying these \"gaps\", and had the thought that the problem could be treated as a segmentation problem, with a model that predicts whether each data point could be included in the dataset.\n",
        "\n",
        "To test my model I have created this notebook to create simulated data, train a model, and analyze the performance of the model."
      ]
    },
    {
      "metadata": {
        "id": "aIKo3jQicN02",
        "colab_type": "text"
      },
      "cell_type": "markdown",
      "source": [
        "# Setup"
      ]
    },
    {
      "metadata": {
        "id": "omIz-65Kian6",
        "colab_type": "code",
        "outputId": "7a080fa2-8a24-4e54-eb9d-2a2758e6852b",
        "colab": {
          "base_uri": "https://localhost:8080/",
          "height": 51
        }
      },
      "cell_type": "code",
      "source": [
        "!curl -s https://course.fast.ai/setup/colab | bash"
      ],
      "execution_count": 0,
      "outputs": [
        {
          "output_type": "stream",
          "text": [
            "Updating fastai...\n",
            "Done.\n"
          ],
          "name": "stdout"
        }
      ]
    },
    {
      "metadata": {
        "id": "ffWFrE53JuAB",
        "colab_type": "code",
        "colab": {}
      },
      "cell_type": "code",
      "source": [
        "# !pip uninstall fastai"
      ],
      "execution_count": 0,
      "outputs": []
    },
    {
      "metadata": {
        "id": "-TbcgNSaJ3hx",
        "colab_type": "code",
        "colab": {}
      },
      "cell_type": "code",
      "source": [
        "# !pip install fastai"
      ],
      "execution_count": 0,
      "outputs": []
    },
    {
      "metadata": {
        "id": "Byjb6toRjDEz",
        "colab_type": "code",
        "colab": {}
      },
      "cell_type": "code",
      "source": [
        "%reload_ext autoreload\n",
        "%autoreload 2"
      ],
      "execution_count": 0,
      "outputs": []
    },
    {
      "metadata": {
        "id": "rJ-dIhd8jVSP",
        "colab_type": "code",
        "colab": {}
      },
      "cell_type": "code",
      "source": [
        "from fastai import *\n",
        "from fastai.data_block import *\n",
        "from fastai.torch_core import *\n",
        "from fastai.layers import *\n",
        "from fastai.basic_train import *\n",
        "from fastai.train import *\n",
        "from fastai.callbacks.hooks import *\n",
        "\n",
        "import matplotlib.pyplot as plt\n",
        "from matplotlib import patches, patheffects\n",
        "import numpy as np"
      ],
      "execution_count": 0,
      "outputs": []
    },
    {
      "metadata": {
        "id": "1TiSYq2tjXYM",
        "colab_type": "code",
        "colab": {}
      },
      "cell_type": "code",
      "source": [
        "def lin_plot(vs,mask,*args):\n",
        "    assert len(args)%2 == 0, \"Expected even number of axis views.\"\n",
        "    for arg in args:\n",
        "        assert len(arg) == 2, \"Arguments >0 must be value range pairs.\"\n",
        "        for x in arg:\n",
        "            assert isinstance(x,float) or isinstance(x,int), \\\n",
        "                \"Expected numerical values in value range pairs.\"\n",
        "    \n",
        "    xranges,yranges = args[0::2],args[1::2]\n",
        "    fig = plt.figure(figsize=(4*len(xranges)+len(xranges), 4))\n",
        "    \n",
        "    mask = [1 for v in vs] if mask is None else mask\n",
        "    \n",
        "    if isinstance(vs, torch.Tensor):\n",
        "      vs = to_np(vs)\n",
        "    \n",
        "    n = len(xranges)\n",
        "    \n",
        "    for i,(xrange,yrange) in enumerate(zip(xranges,yranges)):\n",
        "        ax = fig.add_subplot(1,n,i+1)\n",
        "        \n",
        "        vs_split = []\n",
        "        acc = []\n",
        "        lastm = 1\n",
        "        for m,v in zip(mask,vs):\n",
        "          if m == lastm:\n",
        "            acc.append(v)\n",
        "          else:\n",
        "            if acc: vs_split.append((lastm,acc))\n",
        "            acc = [v]\n",
        "          lastm = m\n",
        "        vs_split.append((m,torch.Tensor(acc)))\n",
        "        \n",
        "        for m,v_list in vs_split:\n",
        "#           print(v_list)\n",
        "          path = patches.Path(v_list)\n",
        "          color = 'blue' if bool(m == 1) else 'red'\n",
        "  #         color = 'blue' if np.random.uniform(0,1)>.5 else 'red'\n",
        "  #         color = 'red'\n",
        "  #         color = 'blue'\n",
        "          alpha = 1.0\n",
        "\n",
        "          pathpatch = patches.PathPatch(path, facecolor='none', edgecolor=patches.colors.to_rgba(color,alpha))\n",
        "          patch = ax.add_patch(pathpatch)\n",
        "        ax.set_xlim(xrange[0],xrange[1])\n",
        "        ax.set_ylim(yrange[0],yrange[1])\n",
        "    plt.show()"
      ],
      "execution_count": 0,
      "outputs": []
    },
    {
      "metadata": {
        "id": "zitxbEqEiyn8",
        "colab_type": "text"
      },
      "cell_type": "markdown",
      "source": [
        "# Generating fake production profiles"
      ]
    },
    {
      "metadata": {
        "id": "QIg8nT6CkP0P",
        "colab_type": "text"
      },
      "cell_type": "markdown",
      "source": [
        "We want to train the model on simulated data to find artificially low levels of production.  The idea will be that the network will flag those data points for removal.  The sample graph that was drawn for me looked roughly like a noisy exponential decay curve with gaps of artificially lower production, so this is the type of simulated data we'll create.\n",
        "\n",
        "First we'll choose a data set size.  Since the data is simulated, it can be as large as we want."
      ]
    },
    {
      "metadata": {
        "id": "LRDSpwFvkQg5",
        "colab_type": "code",
        "colab": {}
      },
      "cell_type": "code",
      "source": [
        "data_sz = 50000"
      ],
      "execution_count": 0,
      "outputs": []
    },
    {
      "metadata": {
        "id": "jbsqZBAIifzR",
        "colab_type": "text"
      },
      "cell_type": "markdown",
      "source": [
        "We don't want to store all the data points from every profile on the GPU, so we want a way to take a few parameters and generate a profile on-the-fly.  We'll start by generating a profile with no gaps..."
      ]
    },
    {
      "metadata": {
        "id": "kskVn5YClua_",
        "colab_type": "code",
        "colab": {}
      },
      "cell_type": "code",
      "source": [
        "def f(a, b, k, x):\n",
        "  return a*torch.exp(-x*k)+b"
      ],
      "execution_count": 0,
      "outputs": []
    },
    {
      "metadata": {
        "id": "4D4kPuTYe7zM",
        "colab_type": "code",
        "colab": {}
      },
      "cell_type": "code",
      "source": [
        "def getprofile(length,interval,a,b,k):\n",
        "  xs = torch.Tensor([interval[1]*i/length+interval[0] for i in range(length)])\n",
        "  return xs,f(a,b,k,xs)"
      ],
      "execution_count": 0,
      "outputs": []
    },
    {
      "metadata": {
        "id": "SxV_yCdyjMCv",
        "colab_type": "text"
      },
      "cell_type": "markdown",
      "source": [
        "Let's have a look at a sample profile."
      ]
    },
    {
      "metadata": {
        "id": "peF98t19kUvA",
        "colab_type": "code",
        "colab": {}
      },
      "cell_type": "code",
      "source": [
        "interval = (0.0,10.0)\n",
        "length = 10000\n",
        "\n",
        "xs,ys = getprofile(length,interval,1.0,0.0,0.2)\n",
        "# ys = f(1.0, 0.0, 0.2, xs)\n",
        "vs = torch.stack([xs,ys]).transpose(0,1)"
      ],
      "execution_count": 0,
      "outputs": []
    },
    {
      "metadata": {
        "id": "8m9aEw9um7Zg",
        "colab_type": "code",
        "outputId": "f57786ef-36cb-4e3e-92bc-cbba3d318764",
        "colab": {
          "base_uri": "https://localhost:8080/",
          "height": 269
        }
      },
      "cell_type": "code",
      "source": [
        "lin_plot(vs, None, [0,10], [0,1])"
      ],
      "execution_count": 8,
      "outputs": [
        {
          "output_type": "display_data",
          "data": {
            "image/png": "[encoded data removed]",
            "text/plain": [
              "<Figure size 360x288 with 1 Axes>"
            ]
          },
          "metadata": {
            "tags": []
          }
        }
      ]
    },
    {
      "metadata": {
        "id": "4ZKp-70pkXlx",
        "colab_type": "text"
      },
      "cell_type": "markdown",
      "source": [
        "We also want the profile to be noisy, so here's how we'll add some noise to it."
      ]
    },
    {
      "metadata": {
        "id": "NPVG0BuRvZol",
        "colab_type": "code",
        "colab": {}
      },
      "cell_type": "code",
      "source": [
        "std = 0.01\n",
        "noise = std * torch.randn(length)"
      ],
      "execution_count": 0,
      "outputs": []
    },
    {
      "metadata": {
        "id": "on-Eu3AROxNj",
        "colab_type": "code",
        "colab": {}
      },
      "cell_type": "code",
      "source": [
        "x = ys.add_(noise).clamp(0.,5.)"
      ],
      "execution_count": 0,
      "outputs": []
    },
    {
      "metadata": {
        "id": "2LUBVB3SuV0-",
        "colab_type": "code",
        "outputId": "6b0723ae-fea4-47f5-fe67-96c740277ff9",
        "colab": {
          "base_uri": "https://localhost:8080/",
          "height": 34
        }
      },
      "cell_type": "code",
      "source": [
        "vs = torch.stack([torch.Tensor(xs),x]).transpose(0,1); vs.shape"
      ],
      "execution_count": 11,
      "outputs": [
        {
          "output_type": "execute_result",
          "data": {
            "text/plain": [
              "torch.Size([10000, 2])"
            ]
          },
          "metadata": {
            "tags": []
          },
          "execution_count": 11
        }
      ]
    },
    {
      "metadata": {
        "id": "Cp6coWmPujJJ",
        "colab_type": "code",
        "outputId": "8aee92db-f918-4dac-a249-38afa556babf",
        "colab": {
          "base_uri": "https://localhost:8080/",
          "height": 269
        }
      },
      "cell_type": "code",
      "source": [
        "lin_plot(vs, None, [0,10], [0,1])"
      ],
      "execution_count": 12,
      "outputs": [
        {
          "output_type": "display_data",
          "data": {
            "image/png": "[encoded data removed]",
            "text/plain": [
              "<Figure size 360x288 with 1 Axes>"
            ]
          },
          "metadata": {
            "tags": []
          }
        }
      ]
    },
    {
      "metadata": {
        "id": "IwPfcyxd8lkh",
        "colab_type": "text"
      },
      "cell_type": "markdown",
      "source": [
        "Now we need to add gaps in the data.   We'll start by generating integers that represent the number of gaps in each profile."
      ]
    },
    {
      "metadata": {
        "id": "C-KpanAHyIMc",
        "colab_type": "code",
        "outputId": "d480aae7-2890-4083-c6c4-579781db24e3",
        "colab": {
          "base_uri": "https://localhost:8080/",
          "height": 34
        }
      },
      "cell_type": "code",
      "source": [
        "num_gaps = np.stack([np.random.normal(1.,1.,data_sz).astype(int),np.zeros((data_sz,),dtype=int)]).max(0); num_gaps[0:10]"
      ],
      "execution_count": 13,
      "outputs": [
        {
          "output_type": "execute_result",
          "data": {
            "text/plain": [
              "array([1, 0, 0, 0, 0, 1, 0, 1, 2, 0])"
            ]
          },
          "metadata": {
            "tags": []
          },
          "execution_count": 13
        }
      ]
    },
    {
      "metadata": {
        "id": "9N-UxxXA8t26",
        "colab_type": "text"
      },
      "cell_type": "markdown",
      "source": [
        "Each gap is generated randomly as below.  `interval` is the total (fake) time interval on which the data is defined, `avg_size` is the nominal average size desired for gaps, but not quite because we will arbitrarily truncate the randomly generated gaps to exist only on the appropriate time interval (which shortens the actual average) and sometimes the gaps will overlap and be effectively a single gap (which increases the actual average).\n",
        "\n",
        "The function returns the start and end of the gap (in terms of the time axis), and the factor by which the data will be multiplied (between 0 and 1)."
      ]
    },
    {
      "metadata": {
        "id": "4zb2e61w6z5-",
        "colab_type": "code",
        "colab": {}
      },
      "cell_type": "code",
      "source": [
        "def random_gap(interval, avg_size):\n",
        "  low,high = interval\n",
        "  middle = np.random.uniform(low,high)\n",
        "  size = np.abs(np.random.normal(0.,avg_size))\n",
        "  start = max(middle-size/2,low)\n",
        "  end   = min(middle+size/2,high)\n",
        "  drop_factor = np.random.uniform(0.,1.)\n",
        "  return start,end,drop_factor"
      ],
      "execution_count": 0,
      "outputs": []
    },
    {
      "metadata": {
        "id": "AdWinKEE739T",
        "colab_type": "code",
        "outputId": "55dbdf6d-6a57-4976-afe6-42d4b70a2a32",
        "colab": {
          "base_uri": "https://localhost:8080/",
          "height": 34
        }
      },
      "cell_type": "code",
      "source": [
        "random_gap(interval,avg_size=1) # Start x-value, end x-value, factor of decrease."
      ],
      "execution_count": 15,
      "outputs": [
        {
          "output_type": "execute_result",
          "data": {
            "text/plain": [
              "(7.676521054594072, 7.872393976747355, 0.1221352667859541)"
            ]
          },
          "metadata": {
            "tags": []
          },
          "execution_count": 15
        }
      ]
    },
    {
      "metadata": {
        "id": "LT1JiEfwD1kF",
        "colab_type": "text"
      },
      "cell_type": "markdown",
      "source": [
        "The above will be passed to our new `ItemList` class.  Now we need a way to take a curve and add the gaps..."
      ]
    },
    {
      "metadata": {
        "id": "Z-iAu22Tm5JU",
        "colab_type": "code",
        "colab": {}
      },
      "cell_type": "code",
      "source": [
        "def getmults(xs, gaplist):\n",
        "  mults = torch.ones_like(xs)\n",
        "  for gap in gaplist:\n",
        "    start,end,mult = gap\n",
        "    mask = (torch.lt((start*torch.ones_like(xs)),xs)*torch.lt(xs,(end*torch.ones_like(xs)))).to(dtype=torch.float32)\n",
        "    mults =  mults * ((mask*mult) + (1.-mask))\n",
        "  return mults  "
      ],
      "execution_count": 0,
      "outputs": []
    },
    {
      "metadata": {
        "id": "emAjh63fh7Dj",
        "colab_type": "text"
      },
      "cell_type": "markdown",
      "source": [
        "...and a way to generate labels, i.e. which data points on the profile we want the model to identify as gaps."
      ]
    },
    {
      "metadata": {
        "id": "Cu9iA_5_pasa",
        "colab_type": "code",
        "colab": {}
      },
      "cell_type": "code",
      "source": [
        "def getlabels(xs, gaplist):\n",
        "  labels = torch.zeros_like(xs)\n",
        "  for gap in gaplist:\n",
        "    start,end,mult = gap\n",
        "    mask = (torch.lt((start*torch.ones_like(xs)),xs)*torch.lt(xs,(end*torch.ones_like(xs)))).to(dtype=torch.float32)\n",
        "    labels = labels + mask\n",
        "  return 1.-labels.clamp(0.,1.)"
      ],
      "execution_count": 0,
      "outputs": []
    },
    {
      "metadata": {
        "id": "cJWRdnWeIOkZ",
        "colab_type": "text"
      },
      "cell_type": "markdown",
      "source": [
        "Here's a sample of what we'll multiply a profile by, elementwise.  First create a list of gaps then generate the multipliers."
      ]
    },
    {
      "metadata": {
        "id": "dKo7b23bDtWj",
        "colab_type": "code",
        "colab": {}
      },
      "cell_type": "code",
      "source": [
        "gaplist = [(7.895473695650945, 8.5611717232079, 0.7412393215396834),\n",
        " (9.42338378189132, 10.0, 0.49183629537436746),\n",
        " (3.267080298267579, 4.566375305422216, 0.9222552666207067)]"
      ],
      "execution_count": 0,
      "outputs": []
    },
    {
      "metadata": {
        "id": "yHl6ONllpAdL",
        "colab_type": "code",
        "colab": {}
      },
      "cell_type": "code",
      "source": [
        "# %time mults = torch.Tensor( [ getmult(x,gaplist) for x in xs ] )"
      ],
      "execution_count": 0,
      "outputs": []
    },
    {
      "metadata": {
        "id": "gJvPa1csoEHv",
        "colab_type": "code",
        "outputId": "e1954516-9047-42f7-a334-f9cd46dec6eb",
        "colab": {
          "base_uri": "https://localhost:8080/",
          "height": 51
        }
      },
      "cell_type": "code",
      "source": [
        "%time mults = getmults(xs,gaplist)"
      ],
      "execution_count": 20,
      "outputs": [
        {
          "output_type": "stream",
          "text": [
            "CPU times: user 1.33 ms, sys: 442 µs, total: 1.77 ms\n",
            "Wall time: 1.57 ms\n"
          ],
          "name": "stdout"
        }
      ]
    },
    {
      "metadata": {
        "id": "uj3YDdq6lZvQ",
        "colab_type": "text"
      },
      "cell_type": "markdown",
      "source": [
        "Now let's incorporate the gaps in our sample profile."
      ]
    },
    {
      "metadata": {
        "colab_type": "code",
        "id": "d_X-4Q74YwPG",
        "colab": {}
      },
      "cell_type": "code",
      "source": [
        "x = ys*mults"
      ],
      "execution_count": 0,
      "outputs": []
    },
    {
      "metadata": {
        "colab_type": "code",
        "id": "mP2bX1z9YwPK",
        "outputId": "ae595af7-8df2-42af-e4cf-92f79112d2be",
        "colab": {
          "base_uri": "https://localhost:8080/",
          "height": 34
        }
      },
      "cell_type": "code",
      "source": [
        "vs = to_np(torch.stack([torch.Tensor(xs),x]).transpose(0,1)); vs.shape"
      ],
      "execution_count": 22,
      "outputs": [
        {
          "output_type": "execute_result",
          "data": {
            "text/plain": [
              "(10000, 2)"
            ]
          },
          "metadata": {
            "tags": []
          },
          "execution_count": 22
        }
      ]
    },
    {
      "metadata": {
        "id": "sMj8mS5jhnDD",
        "colab_type": "text"
      },
      "cell_type": "markdown",
      "source": [
        "Here's the result, with a demo of labelling."
      ]
    },
    {
      "metadata": {
        "colab_type": "code",
        "id": "IlVzlGNWYwPQ",
        "outputId": "bc472a47-4a32-49de-9744-46fece3e36ac",
        "colab": {
          "base_uri": "https://localhost:8080/",
          "height": 269
        }
      },
      "cell_type": "code",
      "source": [
        "lin_plot(vs, getlabels(xs,gaplist), [0,10], [0,1])"
      ],
      "execution_count": 23,
      "outputs": [
        {
          "output_type": "display_data",
          "data": {
            "image/png": "[encoded data removed]",
            "text/plain": [
              "<Figure size 360x288 with 1 Axes>"
            ]
          },
          "metadata": {
            "tags": []
          }
        }
      ]
    },
    {
      "metadata": {
        "id": "g4Qhmrutq9Su",
        "colab_type": "text"
      },
      "cell_type": "markdown",
      "source": [
        "# Generate dataset"
      ]
    },
    {
      "metadata": {
        "id": "gc9BrCw2-v0d",
        "colab_type": "text"
      },
      "cell_type": "markdown",
      "source": [
        "This is what we'll store in the dataset to generate the gaps."
      ]
    },
    {
      "metadata": {
        "id": "9LYB0zBd4zA2",
        "colab_type": "code",
        "colab": {}
      },
      "cell_type": "code",
      "source": [
        "avg_size = 1.\n",
        "gaps = [[random_gap(interval,avg_size) for i in range(n)] for n in num_gaps]"
      ],
      "execution_count": 0,
      "outputs": []
    },
    {
      "metadata": {
        "id": "FzCVo_sKlt1w",
        "colab_type": "code",
        "colab": {}
      },
      "cell_type": "code",
      "source": [
        "a_list = np.random.uniform(.8,5.,data_sz)\n",
        "b_list = np.random.uniform(0.,.3,data_sz)\n",
        "k_list = np.random.uniform(0.1,0.4,data_sz)\n",
        "profile_params = np.array( list(zip(list(zip(list(a_list),list(b_list),list(k_list))),gaps)) )"
      ],
      "execution_count": 0,
      "outputs": []
    },
    {
      "metadata": {
        "id": "MqmPVqy2-rWW",
        "colab_type": "code",
        "colab": {}
      },
      "cell_type": "code",
      "source": [
        "items = array(gaps, dtype=object)"
      ],
      "execution_count": 0,
      "outputs": []
    },
    {
      "metadata": {
        "id": "5M-eEf8ollCh",
        "colab_type": "text"
      },
      "cell_type": "markdown",
      "source": [
        "# An ItemList to handle the data in fast.ai."
      ]
    },
    {
      "metadata": {
        "id": "pmcZqpGkrrB2",
        "colab_type": "text"
      },
      "cell_type": "markdown",
      "source": [
        "The `ProfileItemList` (subclassing a fast.ai wrapper for PyTorch datasets, sort of) will store the parameters for all profiles in (regular) memory and build and serve full profiles to the dataloader on the fly as PyTorch `Tensor`s, which will end up in GPU memory one batch at a time.  The noise is generated randomly, so the profile won't be exactly the same each time it's served, but this is fine (even desirable)."
      ]
    },
    {
      "metadata": {
        "id": "m9IW38t6oIK-",
        "colab_type": "code",
        "colab": {}
      },
      "cell_type": "code",
      "source": [
        "class ProfileLabelItemList(ItemList):\n",
        "\n",
        "    def __init__(self, items, noise_mag=0.01, length=10000, interval=(0.,10.), **kwargs):\n",
        "        super().__init__(items, **kwargs)\n",
        "        self.noise_mag,self.length,self.interval = noise_mag,length,interval\n",
        "        \n",
        "    def get(self, i): \n",
        "        noise = self.noise_mag * torch.randn(self.length)\n",
        "        xs,ys = getprofile(self.length,self.interval,*self.items[i][0])\n",
        "        label = getlabels(xs,self.items[i][1])\n",
        "        return label\n",
        "      \n",
        "#     def reconstruct(self, t): return NoisyItem(t.size(0))\n",
        "\n",
        "#     def show_xys(self, xs, ys, imgsize:int=4, figsize:Optional[Tuple[int,int]]=None, **kwargs):\n",
        "#         \"Shows `ys` (target images) on a figure of `figsize`.\"\n",
        "#         super().show_xys(ys, xs, imgsize=imgsize, figsize=figsize, **kwargs)\n",
        "\n",
        "#     def show_xyzs(self, xs, ys, zs, imgsize:int=4, figsize:Optional[Tuple[int,int]]=None, **kwargs):\n",
        "#         \"Shows `zs` (generated images) on a figure of `figsize`.\"\n",
        "#         super().show_xys(zs, xs, imgsize=imgsize, figsize=figsize, **kwargs)"
      ],
      "execution_count": 0,
      "outputs": []
    },
    {
      "metadata": {
        "id": "NvIj9p2EyVOg",
        "colab_type": "code",
        "colab": {}
      },
      "cell_type": "code",
      "source": [
        "class ProfileItemList(ItemList):\n",
        "    _label_cls = ProfileLabelItemList\n",
        "\n",
        "    def __init__(self, items, noise_mag=0.01, length=10000, interval=(0.,10.), **kwargs):\n",
        "        super().__init__(items, **kwargs)\n",
        "        self.noise_mag,self.length,self.interval = noise_mag,length,interval\n",
        "        \n",
        "    def get(self, i): \n",
        "        noise = self.noise_mag * torch.randn(self.length)\n",
        "        xs,ys = getprofile(self.length,self.interval,*self.items[i][0])\n",
        "        mults = getmults(xs,self.items[i][1])\n",
        "        return (ys.add_(noise)*mults).unsqueeze(0)\n",
        "      \n",
        "#     def reconstruct(self, t): return NoisyItem(t.size(0))\n",
        "\n",
        "#     def show_xys(self, xs, ys, imgsize:int=4, figsize:Optional[Tuple[int,int]]=None, **kwargs):\n",
        "#         \"Shows `ys` (target images) on a figure of `figsize`.\"\n",
        "#         super().show_xys(ys, xs, imgsize=imgsize, figsize=figsize, **kwargs)\n",
        "\n",
        "#     def show_xyzs(self, xs, ys, zs, imgsize:int=4, figsize:Optional[Tuple[int,int]]=None, **kwargs):\n",
        "#         \"Shows `zs` (generated images) on a figure of `figsize`.\"\n",
        "#         super().show_xys(zs, xs, imgsize=imgsize, figsize=figsize, **kwargs)"
      ],
      "execution_count": 0,
      "outputs": []
    },
    {
      "metadata": {
        "id": "_DOdu6Qwn0DP",
        "colab_type": "code",
        "colab": {}
      },
      "cell_type": "code",
      "source": [
        "il = ProfileItemList(profile_params, 0.01, 10000, (0.,10.))"
      ],
      "execution_count": 0,
      "outputs": []
    },
    {
      "metadata": {
        "id": "2QcQuYOyrk07",
        "colab_type": "code",
        "colab": {}
      },
      "cell_type": "code",
      "source": [
        "labels = ProfileLabelItemList(profile_params, 0.01, 10000, (0.,10.))"
      ],
      "execution_count": 0,
      "outputs": []
    },
    {
      "metadata": {
        "id": "FxzHXkEVxic3",
        "colab_type": "code",
        "outputId": "d1033354-34d0-4b4d-df70-4f2b2aacf42f",
        "colab": {
          "base_uri": "https://localhost:8080/",
          "height": 34
        }
      },
      "cell_type": "code",
      "source": [
        "il.items[2]"
      ],
      "execution_count": 31,
      "outputs": [
        {
          "output_type": "execute_result",
          "data": {
            "text/plain": [
              "array([(3.6653052730532174, 0.026325902904946474, 0.2377626189919894), list([])], dtype=object)"
            ]
          },
          "metadata": {
            "tags": []
          },
          "execution_count": 31
        }
      ]
    },
    {
      "metadata": {
        "id": "dXbrpNRXxv-P",
        "colab_type": "code",
        "colab": {}
      },
      "cell_type": "code",
      "source": [
        "i = 2"
      ],
      "execution_count": 0,
      "outputs": []
    },
    {
      "metadata": {
        "id": "ysOgbAbzqj7V",
        "colab_type": "code",
        "outputId": "349ac2e2-7ed2-4c15-affd-70bf4cdc5e7e",
        "colab": {
          "base_uri": "https://localhost:8080/",
          "height": 269
        }
      },
      "cell_type": "code",
      "source": [
        "lin_plot(list(zip(xs,il[i].squeeze())),labels[i],[0,10],[0,2])"
      ],
      "execution_count": 33,
      "outputs": [
        {
          "output_type": "display_data",
          "data": {
            "image/png": "[encoded data removed]",
            "text/plain": [
              "<Figure size 360x288 with 1 Axes>"
            ]
          },
          "metadata": {
            "tags": []
          }
        }
      ]
    },
    {
      "metadata": {
        "id": "UH1zCLTvyiLr",
        "colab_type": "code",
        "colab": {}
      },
      "cell_type": "code",
      "source": [
        "il,labels = il.no_split(),labels.no_split()"
      ],
      "execution_count": 0,
      "outputs": []
    },
    {
      "metadata": {
        "id": "dR-RwDuPt5lV",
        "colab_type": "code",
        "colab": {}
      },
      "cell_type": "code",
      "source": [
        "train,valid = LabelList(il.train,labels.train),LabelList(il.valid,labels.valid)"
      ],
      "execution_count": 0,
      "outputs": []
    },
    {
      "metadata": {
        "id": "uwBmovImoE89",
        "colab_type": "code",
        "colab": {}
      },
      "cell_type": "code",
      "source": [
        "lls = LabelLists('.',train,valid)"
      ],
      "execution_count": 0,
      "outputs": []
    },
    {
      "metadata": {
        "id": "S4B7Br3-tmWb",
        "colab_type": "code",
        "colab": {}
      },
      "cell_type": "code",
      "source": [
        "db = lls.databunch()"
      ],
      "execution_count": 0,
      "outputs": []
    },
    {
      "metadata": {
        "id": "MVr1iM3AqD-n",
        "colab_type": "text"
      },
      "cell_type": "markdown",
      "source": [
        "# Model"
      ]
    },
    {
      "metadata": {
        "id": "jV1DzOaJaq3n",
        "colab_type": "text"
      },
      "cell_type": "markdown",
      "source": [
        "We will use a variation on the [U-net](https://arxiv.org/abs/1505.04597) model which was developed for image segmentation.  We are not processing images here, but we are trying to predict a mask on a 1-d set of data points, which is almost the same.  Therefore, we will use a convolutional model, modified to operate on 1-d data, that uses an encoder/decoder structure with nested skip-connections."
      ]
    },
    {
      "metadata": {
        "id": "Ccj1hrZP8Jtt",
        "colab_type": "text"
      },
      "cell_type": "markdown",
      "source": [
        "Much of the following was modified from the [fast.ai library](https://github.com/fastai/fastai)."
      ]
    },
    {
      "metadata": {
        "id": "gcYrZQGl2iJK",
        "colab_type": "code",
        "colab": {}
      },
      "cell_type": "code",
      "source": [
        "def _bn(ni, init_zero=False):\n",
        "    \"Batchnorm layer with 0 initialization\"\n",
        "    m = nn.BatchNorm1d(ni)\n",
        "    m.weight.data.fill_(0 if init_zero else 1)\n",
        "    m.bias.data.zero_()\n",
        "    return m\n",
        "  \n",
        "def bn_relu_conv(ni, nf, ks, stride, init_zero=False):\n",
        "    bn_initzero = _bn(ni, init_zero=init_zero)\n",
        "    return nn.Sequential(bn_initzero, nn.ReLU(inplace=True), conv1d(ni, nf, ks, stride))\n",
        "\n",
        "class BasicBlock(nn.Module):\n",
        "    \"Block from a wide ResNet.\"\n",
        "    def __init__(self, ni, nf, stride, drop_p=0.0):\n",
        "        super().__init__()\n",
        "        self.bn = nn.BatchNorm1d(ni)\n",
        "        self.conv1 = conv1d(ni, nf, 3, stride)\n",
        "        self.conv2 = bn_relu_conv(nf, nf, 3, 1)\n",
        "        self.drop = nn.Dropout(drop_p, inplace=True) if drop_p else None\n",
        "        self.shortcut = conv1d(ni, nf, 1, stride) if (ni != nf or stride != 1) else noop\n",
        "\n",
        "    def forward(self, x):\n",
        "        x2 = F.relu(self.bn(x), inplace=True)\n",
        "        r = self.shortcut(x2)\n",
        "        x = self.conv1(x2)\n",
        "        if self.drop: x = self.drop(x)\n",
        "        x = self.conv2(x) * 0.2\n",
        "        return x.add_(r)"
      ],
      "execution_count": 0,
      "outputs": []
    },
    {
      "metadata": {
        "id": "S2_TaxXnHZWa",
        "colab_type": "code",
        "colab": {}
      },
      "cell_type": "code",
      "source": [
        "def conv1d(ni:int, no:int, ks:int=1, stride:int=1, padding=None, bias:bool=False):\n",
        "    \"Create and initialize `nn.Conv1d` layer.\"\n",
        "    if padding is None: padding = ks//2\n",
        "    conv = nn.Conv1d(ni, no, ks, stride=stride, padding=padding, bias=bias)\n",
        "    nn.init.kaiming_normal_(conv.weight)\n",
        "    if bias: conv.bias.data.zero_()\n",
        "    return spectral_norm(conv)"
      ],
      "execution_count": 0,
      "outputs": []
    },
    {
      "metadata": {
        "id": "UDo9eu703UMu",
        "colab_type": "code",
        "colab": {}
      },
      "cell_type": "code",
      "source": [
        "class UpSample(nn.Module):\n",
        "    def __init__(self,feat_in,feat_out,out_shape=None,scale=2):\n",
        "        super().__init__()\n",
        "        self.conv = nn.Conv1d(feat_in,feat_out,kernel_size=3,stride=1,padding=1)\n",
        "        self.out_shape,self.scale = out_shape,scale\n",
        "    \n",
        "    def forward(self,x):\n",
        "        return self.conv(\n",
        "            nn.functional.interpolate(\n",
        "                x,size=self.out_shape,scale_factor=self.scale,mode='linear',align_corners=True))"
      ],
      "execution_count": 0,
      "outputs": []
    },
    {
      "metadata": {
        "id": "sioCkD5gnql7",
        "colab_type": "code",
        "colab": {}
      },
      "cell_type": "code",
      "source": [
        "def basic_up(ni:int, no:int, out_shape=None, scale=2):\n",
        "  return nn.Sequential(UpSample(ni, no, out_shape=out_shape, scale=scale),nn.ReLU())"
      ],
      "execution_count": 0,
      "outputs": []
    },
    {
      "metadata": {
        "id": "6nIOfpciCh41",
        "colab_type": "code",
        "colab": {}
      },
      "cell_type": "code",
      "source": [
        "def sequentialize(l):\n",
        "  return nn.Sequential(*list(l)).cuda()"
      ],
      "execution_count": 0,
      "outputs": []
    },
    {
      "metadata": {
        "id": "9HWMf96cmu0S",
        "colab_type": "text"
      },
      "cell_type": "markdown",
      "source": [
        "We now have the pieces needed to build the encoder."
      ]
    },
    {
      "metadata": {
        "id": "U0B9aHsAbDNH",
        "colab_type": "code",
        "colab": {}
      },
      "cell_type": "code",
      "source": [
        "enc_layers = []\n",
        "\n",
        "enc_layers += [[conv1d(1,64,9,3,None,True),nn.ReLU(),BasicBlock(64,64,1)]]# 3334\n",
        "enc_layers += [[BasicBlock(64,128,2),BasicBlock(128,128,1)]]# 1667\n",
        "enc_layers += [[BasicBlock(128,256,2),BasicBlock(256,256,1)]]# 834\n",
        "enc_layers += [[BasicBlock(256,256,2),BasicBlock(256,256,1)]]# 417\n",
        "enc_layers += [[BasicBlock(256,256,2),BasicBlock(256,256,1)]]# 209\n",
        "enc_layers += [[BasicBlock(256,256,2),BasicBlock(256,256,1)]]# 105\n",
        "enc_layers += [[BasicBlock(256,256,2),BasicBlock(256,256,1)]]# 53\n",
        "\n",
        "enc = list(map(sequentialize, enc_layers))"
      ],
      "execution_count": 0,
      "outputs": []
    },
    {
      "metadata": {
        "id": "mkEjyNxPQ4Mk",
        "colab_type": "code",
        "colab": {}
      },
      "cell_type": "code",
      "source": [
        "encoder = SequentialEx(*enc)"
      ],
      "execution_count": 0,
      "outputs": []
    },
    {
      "metadata": {
        "id": "grrw_2l5m2Zh",
        "colab_type": "text"
      },
      "cell_type": "markdown",
      "source": [
        "For the decoder we first construct the layers..."
      ]
    },
    {
      "metadata": {
        "id": "ROGOIYRflsVB",
        "colab_type": "code",
        "colab": {}
      },
      "cell_type": "code",
      "source": [
        "dec_layers = []\n",
        "\n",
        "dec_layers += [[basic_up(256,256,105,None),BasicBlock(256,256,1)]]# 105\n",
        "dec_layers += [[basic_up(256,256,209,None),BasicBlock(256,256,1)]]# 209\n",
        "dec_layers += [[basic_up(256,256,417,None),BasicBlock(256,256,1)]]# 417\n",
        "dec_layers += [[basic_up(256,256,834,None),BasicBlock(256,256,1)]]# 834\n",
        "dec_layers += [[basic_up(256,128,1667,None),BasicBlock(128,128,1)]]# 1667\n",
        "dec_layers += [[basic_up(128,64,3334,None),BasicBlock(64,64,1)]]# 3334\n",
        "dec_layers += [[basic_up(64,1,10000,None),conv1d(1,1,3,1,None,True),nn.Sigmoid()]]\n",
        "\n",
        "dec = list(map(sequentialize, dec_layers))"
      ],
      "execution_count": 0,
      "outputs": []
    },
    {
      "metadata": {
        "id": "7IClYGcam6gA",
        "colab_type": "text"
      },
      "cell_type": "markdown",
      "source": [
        "...then we wrap them with hooks from the encoder layers so they can receive additional input across many layers."
      ]
    },
    {
      "metadata": {
        "id": "uSWUUcNqjuXi",
        "colab_type": "code",
        "colab": {}
      },
      "cell_type": "code",
      "source": [
        "class Dec_wrapper(nn.Module):\n",
        "  def __init__(self,module,hook):\n",
        "    super().__init__()\n",
        "    self.module,self.hook = module,hook\n",
        "  def forward(self,x):\n",
        "    return self.module(x)+self.hook.stored"
      ],
      "execution_count": 0,
      "outputs": []
    },
    {
      "metadata": {
        "id": "fnu88yOBR9Cl",
        "colab_type": "code",
        "colab": {}
      },
      "cell_type": "code",
      "source": [
        "class Decoder(SequentialEx):\n",
        "    def __init__(self, encoder:nn.Module, decoderlist):\n",
        "        self.sfs = hook_outputs(encoder[:-1])\n",
        "\n",
        "        layers = []\n",
        "        for dec,hook in zip(decoderlist[:-1],reversed(self.sfs)):\n",
        "          layers.append(Dec_wrapper(dec,hook))\n",
        "        layers.append(decoderlist[-1])\n",
        "        \n",
        "        super().__init__(*layers)\n"
      ],
      "execution_count": 0,
      "outputs": []
    },
    {
      "metadata": {
        "id": "VuQcRq7fVWvg",
        "colab_type": "code",
        "colab": {}
      },
      "cell_type": "code",
      "source": [
        "decoder = Decoder(encoder,dec)"
      ],
      "execution_count": 0,
      "outputs": []
    },
    {
      "metadata": {
        "id": "4yVd-0y-qErs",
        "colab_type": "code",
        "colab": {}
      },
      "cell_type": "code",
      "source": [
        "model = sequentialize(map(sequentialize,[enc,dec]))"
      ],
      "execution_count": 0,
      "outputs": []
    },
    {
      "metadata": {
        "id": "so5-aZcxqZ8v",
        "colab_type": "code",
        "outputId": "daa825fb-3acb-4b94-d3a3-a48c32f97605",
        "colab": {
          "base_uri": "https://localhost:8080/",
          "height": 34
        }
      },
      "cell_type": "code",
      "source": [
        "# model(x.cuda()).shape"
      ],
      "execution_count": 68,
      "outputs": [
        {
          "output_type": "execute_result",
          "data": {
            "text/plain": [
              "torch.Size([64, 1, 10000])"
            ]
          },
          "metadata": {
            "tags": []
          },
          "execution_count": 68
        }
      ]
    },
    {
      "metadata": {
        "id": "gJYmgMEZuffb",
        "colab_type": "text"
      },
      "cell_type": "markdown",
      "source": [
        "# Loss Function"
      ]
    },
    {
      "metadata": {
        "id": "5nU70IV_aEVC",
        "colab_type": "text"
      },
      "cell_type": "markdown",
      "source": [
        "For a loss function we use a variation on the DICE loss function (described [here](https://www.jeremyjordan.me/semantic-segmentation/#loss))."
      ]
    },
    {
      "metadata": {
        "id": "vVMrr0Hq0l9s",
        "colab_type": "code",
        "colab": {}
      },
      "cell_type": "code",
      "source": [
        "def dice(preds,targs):\n",
        "  return .5-((1.-preds.squeeze())*(1.-targs)).mean()/((1.-preds.squeeze()).mean()+(1.-targs).mean())"
      ],
      "execution_count": 0,
      "outputs": []
    },
    {
      "metadata": {
        "id": "gFsKTzxCt1Ls",
        "colab_type": "text"
      },
      "cell_type": "markdown",
      "source": [
        "# Training"
      ]
    },
    {
      "metadata": {
        "id": "vIzEJON2ud9M",
        "colab_type": "code",
        "colab": {}
      },
      "cell_type": "code",
      "source": [
        "learn = Learner(db,model.cuda(),loss_func=dice)"
      ],
      "execution_count": 0,
      "outputs": []
    },
    {
      "metadata": {
        "id": "Dsw2wfjJHZ7Y",
        "colab_type": "code",
        "outputId": "1f1ceeb5-28ae-40c9-a34b-86439d9f0101",
        "colab": {
          "base_uri": "https://localhost:8080/",
          "height": 68
        }
      },
      "cell_type": "code",
      "source": [
        "learn.lr_find()"
      ],
      "execution_count": 56,
      "outputs": [
        {
          "output_type": "display_data",
          "data": {
            "text/html": [
              ""
            ],
            "text/plain": [
              "<IPython.core.display.HTML object>"
            ]
          },
          "metadata": {
            "tags": []
          }
        },
        {
          "output_type": "stream",
          "text": [
            "/usr/local/lib/python3.6/dist-packages/torch/serialization.py:251: UserWarning: Couldn't retrieve source code for container of type BasicBlock. It won't be checked for correctness upon loading.\n",
            "  \"type \" + obj.__name__ + \". It won't be checked \"\n"
          ],
          "name": "stderr"
        },
        {
          "output_type": "stream",
          "text": [
            "LR Finder is complete, type {learner_name}.recorder.plot() to see the graph.\n"
          ],
          "name": "stdout"
        }
      ]
    },
    {
      "metadata": {
        "id": "XOR70STII9_O",
        "colab_type": "code",
        "outputId": "44c11bc5-d8ba-494a-8295-5211c275d03d",
        "colab": {
          "base_uri": "https://localhost:8080/",
          "height": 361
        }
      },
      "cell_type": "code",
      "source": [
        "learn.recorder.plot()"
      ],
      "execution_count": 57,
      "outputs": [
        {
          "output_type": "display_data",
          "data": {
            "image/png": "[encoded data removed]",
            "text/plain": [
              "<Figure size 576x396 with 1 Axes>"
            ]
          },
          "metadata": {
            "tags": []
          }
        }
      ]
    },
    {
      "metadata": {
        "id": "63seJZlp0I7b",
        "colab_type": "code",
        "outputId": "3ea9f0eb-a520-4292-e62f-f0ab7797314d",
        "colab": {
          "base_uri": "https://localhost:8080/",
          "height": 196
        }
      },
      "cell_type": "code",
      "source": [
        "learn.fit_one_cycle(4,max_lr=1e-2) #4"
      ],
      "execution_count": 65,
      "outputs": [
        {
          "output_type": "display_data",
          "data": {
            "text/html": [
              "Total time: 1:02:21 <p><table border=\"1\" class=\"dataframe\">\n",
              "  <thead>\n",
              "    <tr style=\"text-align: left;\">\n",
              "      <th>epoch</th>\n",
              "      <th>train_loss</th>\n",
              "      <th>valid_loss</th>\n",
              "      <th>time</th>\n",
              "    </tr>\n",
              "  </thead>\n",
              "  <tbody>\n",
              "    <tr>\n",
              "      <td>1</td>\n",
              "      <td>0.073472</td>\n",
              "      <td></td>\n",
              "      <td>15:38</td>\n",
              "    </tr>\n",
              "    <tr>\n",
              "      <td>2</td>\n",
              "      <td>0.042517</td>\n",
              "      <td></td>\n",
              "      <td>15:33</td>\n",
              "    </tr>\n",
              "    <tr>\n",
              "      <td>3</td>\n",
              "      <td>0.019163</td>\n",
              "      <td></td>\n",
              "      <td>15:33</td>\n",
              "    </tr>\n",
              "    <tr>\n",
              "      <td>4</td>\n",
              "      <td>0.013329</td>\n",
              "      <td></td>\n",
              "      <td>15:35</td>\n",
              "    </tr>\n",
              "  </tbody>\n",
              "</table>"
            ],
            "text/plain": [
              "<IPython.core.display.HTML object>"
            ]
          },
          "metadata": {
            "tags": []
          }
        }
      ]
    },
    {
      "metadata": {
        "id": "nv8I7UGnt4FA",
        "colab_type": "text"
      },
      "cell_type": "markdown",
      "source": [
        "# Analysis"
      ]
    },
    {
      "metadata": {
        "id": "EVuXTBDstbhM",
        "colab_type": "code",
        "colab": {}
      },
      "cell_type": "code",
      "source": [
        "x,y = db.one_batch()"
      ],
      "execution_count": 0,
      "outputs": []
    },
    {
      "metadata": {
        "id": "EyLBrscenttn",
        "colab_type": "text"
      },
      "cell_type": "markdown",
      "source": [
        "The model is quite accurate for many profiles:"
      ]
    },
    {
      "metadata": {
        "id": "dk_rNR3sgyW8",
        "colab_type": "code",
        "colab": {
          "base_uri": "https://localhost:8080/",
          "height": 269
        },
        "outputId": "e257bcdd-4ceb-4601-cdee-c22eb4c90a16"
      },
      "cell_type": "code",
      "source": [
        "i = 3\n",
        "lin_plot(list(zip(xs,x[i].squeeze())),learn.model(x[i].unsqueeze(0).cuda()).round().squeeze(),[0,10],[0,5]) # Predicted labels"
      ],
      "execution_count": 94,
      "outputs": [
        {
          "output_type": "display_data",
          "data": {
            "image/png": "[encoded data removed]",
            "text/plain": [
              "<Figure size 360x288 with 1 Axes>"
            ]
          },
          "metadata": {
            "tags": []
          }
        }
      ]
    },
    {
      "metadata": {
        "id": "0NXDiTppPI6Y",
        "colab_type": "code",
        "colab": {
          "base_uri": "https://localhost:8080/",
          "height": 269
        },
        "outputId": "3024eaad-5490-4774-984a-9525483318f6"
      },
      "cell_type": "code",
      "source": [
        "lin_plot(list(zip(xs,x[i].squeeze())),y[i].squeeze(),[0,10],[0,5]) # Actual labels"
      ],
      "execution_count": 95,
      "outputs": [
        {
          "output_type": "display_data",
          "data": {
            "image/png": "[encoded data removed]",
            "text/plain": [
              "<Figure size 360x288 with 1 Axes>"
            ]
          },
          "metadata": {
            "tags": []
          }
        }
      ]
    },
    {
      "metadata": {
        "id": "LDvIgwGJoDzK",
        "colab_type": "text"
      },
      "cell_type": "markdown",
      "source": [
        "However, it has some issues with falsely labeling real data as fake, particularly when no gaps are present in a profile:"
      ]
    },
    {
      "metadata": {
        "id": "8Is2eI3Kn9f_",
        "colab_type": "code",
        "colab": {
          "base_uri": "https://localhost:8080/",
          "height": 269
        },
        "outputId": "6bb73157-cf74-42ef-b453-236cb8a31129"
      },
      "cell_type": "code",
      "source": [
        "i = 15\n",
        "lin_plot(list(zip(xs,x[i].squeeze())),learn.model(x[i].unsqueeze(0).cuda()).round().squeeze(),[0,10],[0,5]) # Predicted labels"
      ],
      "execution_count": 89,
      "outputs": [
        {
          "output_type": "display_data",
          "data": {
            "image/png": "[encoded data removed]",
            "text/plain": [
              "<Figure size 360x288 with 1 Axes>"
            ]
          },
          "metadata": {
            "tags": []
          }
        }
      ]
    },
    {
      "metadata": {
        "id": "CwsR8qecn-4J",
        "colab_type": "code",
        "colab": {
          "base_uri": "https://localhost:8080/",
          "height": 269
        },
        "outputId": "bfbbbdaa-9a59-49cf-ce5c-36c41bacb0c1"
      },
      "cell_type": "code",
      "source": [
        "lin_plot(list(zip(xs,x[i].squeeze())),y[i].squeeze(),[0,10],[0,5]) # Actual labels"
      ],
      "execution_count": 90,
      "outputs": [
        {
          "output_type": "display_data",
          "data": {
            "image/png": "[encoded data removed]",
            "text/plain": [
              "<Figure size 360x288 with 1 Axes>"
            ]
          },
          "metadata": {
            "tags": []
          }
        }
      ]
    },
    {
      "metadata": {
        "id": "eJwUAtNlO6cq",
        "colab_type": "code",
        "colab": {}
      },
      "cell_type": "code",
      "source": [
        "db.train_ds.items[28]"
      ],
      "execution_count": 0,
      "outputs": []
    },
    {
      "metadata": {
        "id": "JqetT1L20gwS",
        "colab_type": "code",
        "colab": {}
      },
      "cell_type": "code",
      "source": [
        "model(x[i].unsqueeze(0).cuda()).round().squeeze()[5001]"
      ],
      "execution_count": 0,
      "outputs": []
    },
    {
      "metadata": {
        "id": "oUleNMDrtSBh",
        "colab_type": "code",
        "colab": {}
      },
      "cell_type": "code",
      "source": [
        "y[i][6000]"
      ],
      "execution_count": 0,
      "outputs": []
    },
    {
      "metadata": {
        "id": "EoJ7TQ3fiSny",
        "colab_type": "code",
        "colab": {}
      },
      "cell_type": "code",
      "source": [
        ""
      ],
      "execution_count": 0,
      "outputs": []
    },
    {
      "metadata": {
        "id": "7AdwETV4iTTD",
        "colab_type": "text"
      },
      "cell_type": "markdown",
      "source": [
        "# Conclusion"
      ]
    },
    {
      "metadata": {
        "id": "DkOTM2YqiWuC",
        "colab_type": "text"
      },
      "cell_type": "markdown",
      "source": [
        "The performance of the model is very good on the simulated data.  More information from the team would be needed to see whether the model would work as well on the real data.  Training on simulated data is generally a vulnerable process, and it would be preferrable to train on actual profiles, but it's unknown to me how much real data is available.  The model as it was demonstrated in this notebook had essentially unlimited data with which to train.  If real data is scarce, perhaps the real data could be analyzed to improve the quality of the simulated data to make it better for training.\n",
        "\n",
        "Assuming this model is suitable for the task, it can probably be simplified in a way that maintains or improves accuracy while decreasing training and inference time.  Other areas of potential improvement are:\n",
        "\n",
        "* Normalize input data\n",
        "* Increase receptive field sizes\n",
        "\n",
        "Hopefully this model can be helpful to the OAG data science team."
      ]
    }
  ]
}