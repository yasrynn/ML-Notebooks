{
  "nbformat": 4,
  "nbformat_minor": 0,
  "metadata": {
    "colab": {
      "name": "production-seg.ipynb",
      "version": "0.3.2",
      "provenance": [],
      "collapsed_sections": []
    },
    "kernelspec": {
      "name": "python3",
      "display_name": "Python 3"
    },
    "accelerator": "GPU"
  },
  "cells": [
    {
      "metadata": {
        "colab_type": "text",
        "id": "bRSXktZrcGrX"
      },
      "cell_type": "markdown",
      "source": [
        "# Introduction"
      ]
    },
    {
      "metadata": {
        "colab_type": "text",
        "id": "9AZg2G7VcPPV"
      },
      "cell_type": "markdown",
      "source": [
        "While meeting with the team on March 1st, a problem was described to me where the team received a dataset that described a profile of a producing oil well in terms of production amount vs. time.  The team's objective was to produce a model predicting such profiles.  The team described how there would be time periods with zero production, and time periods with missing data, but those could easily be identified and removed from the dataset.  A more difficult issue was the presence of non-zero, but artificially lowered periods of production, after which production would return to previous levels (or levels consistent with a curve).  These \"gaps\" were difficult to algorithmically identify, and would cause problems for the predictive model when included in the training dataset.\n",
        "\n",
        "After the meeting, I thought about the problem of identifying these \"gaps\", and had the thought that the problem could be treated as a segmentation problem, with a model that predicts whether each data point could be included in the dataset.\n",
        "\n",
        "To test my model I have created this notebook to create simulated data, train a model, and analyze the performance of the model."
      ]
    },
    {
      "metadata": {
        "colab_type": "text",
        "id": "aIKo3jQicN02"
      },
      "cell_type": "markdown",
      "source": [
        "# Setup"
      ]
    },
    {
      "metadata": {
        "colab_type": "text",
        "id": "ZWm0f6Rzo8di"
      },
      "cell_type": "markdown",
      "source": [
        "We'll need the [fast.ai library]()"
      ]
    },
    {
      "metadata": {
        "colab_type": "code",
        "id": "omIz-65Kian6",
        "colab": {}
      },
      "cell_type": "code",
      "source": [
        "# !curl -s https://course.fast.ai/setup/colab | bash"
      ],
      "execution_count": 0,
      "outputs": []
    },
    {
      "metadata": {
        "colab_type": "code",
        "id": "ffWFrE53JuAB",
        "colab": {}
      },
      "cell_type": "code",
      "source": [
        "# !pip uninstall fastai # In case there are issues with the version installed by the above line."
      ],
      "execution_count": 0,
      "outputs": []
    },
    {
      "metadata": {
        "colab_type": "code",
        "id": "-TbcgNSaJ3hx",
        "colab": {}
      },
      "cell_type": "code",
      "source": [
        "# !pip install fastai"
      ],
      "execution_count": 0,
      "outputs": []
    },
    {
      "metadata": {
        "colab_type": "code",
        "id": "Byjb6toRjDEz",
        "colab": {}
      },
      "cell_type": "code",
      "source": [
        "%reload_ext autoreload\n",
        "%autoreload 2"
      ],
      "execution_count": 0,
      "outputs": []
    },
    {
      "metadata": {
        "colab_type": "code",
        "id": "rJ-dIhd8jVSP",
        "colab": {}
      },
      "cell_type": "code",
      "source": [
        "from fastai import *\n",
        "from fastai.data_block import *\n",
        "from fastai.torch_core import *\n",
        "from fastai.layers import *\n",
        "from fastai.basic_train import *\n",
        "from fastai.train import *\n",
        "from fastai.callbacks.hooks import *\n",
        "\n",
        "import matplotlib.pyplot as plt\n",
        "from matplotlib import patches, patheffects\n",
        "import numpy as np\n",
        "import functools as ft"
      ],
      "execution_count": 0,
      "outputs": []
    },
    {
      "metadata": {
        "colab_type": "text",
        "id": "UPbCmyJNtG8y"
      },
      "cell_type": "markdown",
      "source": [
        "We'll also be looking at the simulated profiles."
      ]
    },
    {
      "metadata": {
        "colab_type": "code",
        "id": "1TiSYq2tjXYM",
        "colab": {}
      },
      "cell_type": "code",
      "source": [
        "def lin_plot(vs,mask,*args):\n",
        "    assert len(args)%2 == 0, \"Expected even number of axis views.\"\n",
        "    for arg in args:\n",
        "        assert len(arg) == 2, \"Arguments >0 must be value range pairs.\"\n",
        "        for x in arg:\n",
        "            assert isinstance(x,float) or isinstance(x,int), \\\n",
        "                \"Expected numerical values in value range pairs.\"\n",
        "    \n",
        "    xranges,yranges = args[0::2],args[1::2]\n",
        "    fig = plt.figure(figsize=(4*len(xranges)+len(xranges), 4))\n",
        "    \n",
        "    mask = [1 for v in vs] if mask is None else mask\n",
        "    \n",
        "    if isinstance(vs, torch.Tensor):\n",
        "      vs = to_np(vs)\n",
        "    \n",
        "    n = len(xranges)\n",
        "    \n",
        "    for i,(xrange,yrange) in enumerate(zip(xranges,yranges)):\n",
        "        ax = fig.add_subplot(1,n,i+1)\n",
        "        \n",
        "        vs_split = []\n",
        "        acc = []\n",
        "        lastm = 1\n",
        "        for m,v in zip(mask,vs):\n",
        "          if m == lastm:\n",
        "            acc.append(v)\n",
        "          else:\n",
        "            if acc: vs_split.append((lastm,acc))\n",
        "            acc = [v]\n",
        "          lastm = m\n",
        "        vs_split.append((m,torch.Tensor(acc)))\n",
        "        \n",
        "        for m,v_list in vs_split:\n",
        "          path = patches.Path(v_list)\n",
        "          color = 'blue' if bool(m == 1) else 'red'\n",
        "          alpha = 1.0\n",
        "\n",
        "          pathpatch = patches.PathPatch(path, facecolor='none', edgecolor=patches.colors.to_rgba(color,alpha))\n",
        "          patch = ax.add_patch(pathpatch)\n",
        "        ax.set_xlim(xrange[0],xrange[1])\n",
        "        ax.set_ylim(yrange[0],yrange[1])\n",
        "    plt.show()"
      ],
      "execution_count": 0,
      "outputs": []
    },
    {
      "metadata": {
        "colab_type": "text",
        "id": "zitxbEqEiyn8"
      },
      "cell_type": "markdown",
      "source": [
        "# Generating fake production profiles"
      ]
    },
    {
      "metadata": {
        "colab_type": "text",
        "id": "QIg8nT6CkP0P"
      },
      "cell_type": "markdown",
      "source": [
        "We want to train the model on simulated data to find artificially low levels of production.  The idea will be that the network will flag those data points for removal.  The sample graph that was drawn for me looked roughly like a noisy exponential decay curve with gaps of artificially lower production, so this is the type of simulated data we'll create.\n",
        "\n",
        "First we'll choose a data set size.  Since the data is simulated, it can be as large as we want."
      ]
    },
    {
      "metadata": {
        "colab_type": "code",
        "id": "LRDSpwFvkQg5",
        "colab": {}
      },
      "cell_type": "code",
      "source": [
        "data_sz = 50000"
      ],
      "execution_count": 0,
      "outputs": []
    },
    {
      "metadata": {
        "colab_type": "text",
        "id": "jbsqZBAIifzR"
      },
      "cell_type": "markdown",
      "source": [
        "We don't want to store all the data points from every profile, so we want a way to take a few parameters and generate a profile on-the-fly.  We'll start by generating a profile with no gaps..."
      ]
    },
    {
      "metadata": {
        "colab_type": "code",
        "id": "kskVn5YClua_",
        "colab": {}
      },
      "cell_type": "code",
      "source": [
        "def f(a, b, k, x):\n",
        "  return a*torch.exp(-x*k)+b"
      ],
      "execution_count": 0,
      "outputs": []
    },
    {
      "metadata": {
        "colab_type": "code",
        "id": "4D4kPuTYe7zM",
        "colab": {}
      },
      "cell_type": "code",
      "source": [
        "def getprofile(length,interval,a,b,k):\n",
        "  xs = torch.Tensor([interval[1]*i/length+interval[0] for i in range(length)])\n",
        "  return xs,f(a,b,k,xs)"
      ],
      "execution_count": 0,
      "outputs": []
    },
    {
      "metadata": {
        "colab_type": "text",
        "id": "SxV_yCdyjMCv"
      },
      "cell_type": "markdown",
      "source": [
        "Let's have a look at a sample profile."
      ]
    },
    {
      "metadata": {
        "colab_type": "code",
        "id": "peF98t19kUvA",
        "colab": {}
      },
      "cell_type": "code",
      "source": [
        "interval = (0.0,10.0)\n",
        "length = 10000\n",
        "\n",
        "xs,ys = getprofile(length,interval,1.0,0.0,0.2)\n",
        "vs = torch.stack([xs,ys]).transpose(0,1)"
      ],
      "execution_count": 0,
      "outputs": []
    },
    {
      "metadata": {
        "colab_type": "code",
        "id": "8m9aEw9um7Zg",
        "outputId": "0ee83057-5cd1-4e92-f99b-b6f2085853b2",
        "colab": {
          "base_uri": "https://localhost:8080/",
          "height": 269
        }
      },
      "cell_type": "code",
      "source": [
        "lin_plot(vs, None, [0,10], [0,1])"
      ],
      "execution_count": 8,
      "outputs": [
        {
          "output_type": "display_data",
          "data": {
            "image/png": "[encoded data removed]",
            "text/plain": [
              "<Figure size 360x288 with 1 Axes>"
            ]
          },
          "metadata": {
            "tags": []
          }
        }
      ]
    },
    {
      "metadata": {
        "colab_type": "text",
        "id": "4ZKp-70pkXlx"
      },
      "cell_type": "markdown",
      "source": [
        "We also want the profile to be noisy, so here's how we'll add some noise to it."
      ]
    },
    {
      "metadata": {
        "colab_type": "code",
        "id": "NPVG0BuRvZol",
        "colab": {}
      },
      "cell_type": "code",
      "source": [
        "std = 0.01\n",
        "noise = std * torch.randn(length)"
      ],
      "execution_count": 0,
      "outputs": []
    },
    {
      "metadata": {
        "colab_type": "code",
        "id": "on-Eu3AROxNj",
        "colab": {}
      },
      "cell_type": "code",
      "source": [
        "x = ys.add_(noise).clamp(0.,5.)"
      ],
      "execution_count": 0,
      "outputs": []
    },
    {
      "metadata": {
        "colab_type": "code",
        "id": "2LUBVB3SuV0-",
        "outputId": "c01bfdd6-2744-4c17-b98b-379287e3f035",
        "colab": {
          "base_uri": "https://localhost:8080/",
          "height": 34
        }
      },
      "cell_type": "code",
      "source": [
        "vs = torch.stack([torch.Tensor(xs),x]).transpose(0,1); vs.shape"
      ],
      "execution_count": 11,
      "outputs": [
        {
          "output_type": "execute_result",
          "data": {
            "text/plain": [
              "torch.Size([10000, 2])"
            ]
          },
          "metadata": {
            "tags": []
          },
          "execution_count": 11
        }
      ]
    },
    {
      "metadata": {
        "colab_type": "code",
        "id": "Cp6coWmPujJJ",
        "outputId": "464ba222-7f8c-4c44-fd01-3269b67c54f6",
        "colab": {
          "base_uri": "https://localhost:8080/",
          "height": 269
        }
      },
      "cell_type": "code",
      "source": [
        "lin_plot(vs, None, [0,10], [0,1])"
      ],
      "execution_count": 12,
      "outputs": [
        {
          "output_type": "display_data",
          "data": {
            "image/png": "[encoded data removed]",
            "text/plain": [
              "<Figure size 360x288 with 1 Axes>"
            ]
          },
          "metadata": {
            "tags": []
          }
        }
      ]
    },
    {
      "metadata": {
        "colab_type": "text",
        "id": "IwPfcyxd8lkh"
      },
      "cell_type": "markdown",
      "source": [
        "Now we need to add gaps in the data.   We'll start by generating integers that represent the number of gaps in each profile."
      ]
    },
    {
      "metadata": {
        "colab_type": "code",
        "id": "C-KpanAHyIMc",
        "outputId": "0215d9a6-44bb-4d87-eead-e97d2bcedf57",
        "colab": {
          "base_uri": "https://localhost:8080/",
          "height": 34
        }
      },
      "cell_type": "code",
      "source": [
        "num_gaps = np.stack([np.random.normal(1.,1.,data_sz).astype(int),np.zeros((data_sz,),dtype=int)]).max(0); num_gaps[0:10]"
      ],
      "execution_count": 13,
      "outputs": [
        {
          "output_type": "execute_result",
          "data": {
            "text/plain": [
              "array([0, 1, 0, 2, 0, 1, 2, 1, 1, 0])"
            ]
          },
          "metadata": {
            "tags": []
          },
          "execution_count": 13
        }
      ]
    },
    {
      "metadata": {
        "colab_type": "text",
        "id": "9N-UxxXA8t26"
      },
      "cell_type": "markdown",
      "source": [
        "Each gap is generated randomly as below.  `interval` is the total (fake) time interval on which the data is defined, `avg_size` is the nominal average size desired for gaps, but not quite because we will arbitrarily truncate the randomly generated gaps to exist only on the appropriate time interval (which shortens the actual average) and sometimes the gaps will overlap and be effectively a single gap (which increases the actual average).\n",
        "\n",
        "The function returns the start and end of the gap (in terms of the time axis), and the factor by which the data will be multiplied (between 0 and 1)."
      ]
    },
    {
      "metadata": {
        "colab_type": "code",
        "id": "4zb2e61w6z5-",
        "colab": {}
      },
      "cell_type": "code",
      "source": [
        "def random_gap(interval, avg_size):\n",
        "  low,high = interval\n",
        "  middle = np.random.uniform(low,high)\n",
        "  size = np.abs(np.random.normal(0.,avg_size))\n",
        "  start = max(middle-size/2,low)\n",
        "  end   = min(middle+size/2,high)\n",
        "  drop_factor = np.random.uniform(0.,1.)\n",
        "  return start,end,drop_factor"
      ],
      "execution_count": 0,
      "outputs": []
    },
    {
      "metadata": {
        "colab_type": "code",
        "id": "AdWinKEE739T",
        "outputId": "93327660-c95f-4d43-ccd6-3a88541cb8a0",
        "colab": {
          "base_uri": "https://localhost:8080/",
          "height": 34
        }
      },
      "cell_type": "code",
      "source": [
        "random_gap(interval,avg_size=1) # Start x-value, end x-value, factor of decrease."
      ],
      "execution_count": 15,
      "outputs": [
        {
          "output_type": "execute_result",
          "data": {
            "text/plain": [
              "(3.4951823865345344, 3.6129715321260814, 0.7173126329557896)"
            ]
          },
          "metadata": {
            "tags": []
          },
          "execution_count": 15
        }
      ]
    },
    {
      "metadata": {
        "colab_type": "text",
        "id": "LT1JiEfwD1kF"
      },
      "cell_type": "markdown",
      "source": [
        "The above will be passed to our new `ItemList` class.  Now we need a way to take a curve and add the gaps..."
      ]
    },
    {
      "metadata": {
        "colab_type": "code",
        "id": "Z-iAu22Tm5JU",
        "colab": {}
      },
      "cell_type": "code",
      "source": [
        "def getmults(xs, gaplist):\n",
        "  mults = torch.ones_like(xs)\n",
        "  for gap in gaplist:\n",
        "    start,end,mult = gap\n",
        "    mask = (torch.lt((start*torch.ones_like(xs)),xs)*torch.lt(xs,(end*torch.ones_like(xs)))).to(dtype=torch.float32)\n",
        "    mults =  mults * ((mask*mult) + (1.-mask))\n",
        "  return mults  "
      ],
      "execution_count": 0,
      "outputs": []
    },
    {
      "metadata": {
        "colab_type": "text",
        "id": "emAjh63fh7Dj"
      },
      "cell_type": "markdown",
      "source": [
        "...and a way to generate labels, i.e. which data points on the profile we want the model to identify as gaps."
      ]
    },
    {
      "metadata": {
        "colab_type": "code",
        "id": "Cu9iA_5_pasa",
        "colab": {}
      },
      "cell_type": "code",
      "source": [
        "def getlabels(xs, gaplist):\n",
        "  labels = torch.zeros_like(xs)\n",
        "  for gap in gaplist:\n",
        "    start,end,mult = gap\n",
        "    mask = (torch.lt((start*torch.ones_like(xs)),xs)*torch.lt(xs,(end*torch.ones_like(xs)))).to(dtype=torch.float32)\n",
        "    labels = labels + mask\n",
        "  return 1.-labels.clamp(0.,1.)"
      ],
      "execution_count": 0,
      "outputs": []
    },
    {
      "metadata": {
        "colab_type": "text",
        "id": "cJWRdnWeIOkZ"
      },
      "cell_type": "markdown",
      "source": [
        "Here's a sample of what we'll multiply a profile by, elementwise.  First create a list of gaps then generate the multipliers."
      ]
    },
    {
      "metadata": {
        "colab_type": "code",
        "id": "dKo7b23bDtWj",
        "colab": {}
      },
      "cell_type": "code",
      "source": [
        "gaplist = [(7.895473695650945, 8.5611717232079, 0.7412393215396834),\n",
        " (9.42338378189132, 10.0, 0.49183629537436746),\n",
        " (3.267080298267579, 4.566375305422216, 0.9222552666207067)]"
      ],
      "execution_count": 0,
      "outputs": []
    },
    {
      "metadata": {
        "colab_type": "code",
        "id": "gJvPa1csoEHv",
        "outputId": "5cf0b526-c8e9-42df-8eb0-90c4fa5d34e1",
        "colab": {
          "base_uri": "https://localhost:8080/",
          "height": 51
        }
      },
      "cell_type": "code",
      "source": [
        "%time mults = getmults(xs,gaplist)"
      ],
      "execution_count": 19,
      "outputs": [
        {
          "output_type": "stream",
          "text": [
            "CPU times: user 944 µs, sys: 988 µs, total: 1.93 ms\n",
            "Wall time: 6.01 ms\n"
          ],
          "name": "stdout"
        }
      ]
    },
    {
      "metadata": {
        "colab_type": "text",
        "id": "uj3YDdq6lZvQ"
      },
      "cell_type": "markdown",
      "source": [
        "Now let's incorporate the gaps in our sample profile."
      ]
    },
    {
      "metadata": {
        "colab_type": "code",
        "id": "d_X-4Q74YwPG",
        "colab": {}
      },
      "cell_type": "code",
      "source": [
        "x = ys*mults"
      ],
      "execution_count": 0,
      "outputs": []
    },
    {
      "metadata": {
        "colab_type": "code",
        "id": "mP2bX1z9YwPK",
        "outputId": "9d2d6e84-34b4-49d0-e6c1-15fcd0aa0911",
        "colab": {
          "base_uri": "https://localhost:8080/",
          "height": 34
        }
      },
      "cell_type": "code",
      "source": [
        "vs = to_np(torch.stack([torch.Tensor(xs),x]).transpose(0,1)); vs.shape"
      ],
      "execution_count": 21,
      "outputs": [
        {
          "output_type": "execute_result",
          "data": {
            "text/plain": [
              "(10000, 2)"
            ]
          },
          "metadata": {
            "tags": []
          },
          "execution_count": 21
        }
      ]
    },
    {
      "metadata": {
        "colab_type": "text",
        "id": "sMj8mS5jhnDD"
      },
      "cell_type": "markdown",
      "source": [
        "Here's the result, with a demo of labelling."
      ]
    },
    {
      "metadata": {
        "colab_type": "code",
        "id": "IlVzlGNWYwPQ",
        "outputId": "30654661-7922-44a2-c5bd-bbdc200d1f2d",
        "colab": {
          "base_uri": "https://localhost:8080/",
          "height": 269
        }
      },
      "cell_type": "code",
      "source": [
        "lin_plot(vs, getlabels(xs,gaplist), [0,10], [0,1])"
      ],
      "execution_count": 22,
      "outputs": [
        {
          "output_type": "display_data",
          "data": {
            "image/png": "[encoded data removed]",
            "text/plain": [
              "<Figure size 360x288 with 1 Axes>"
            ]
          },
          "metadata": {
            "tags": []
          }
        }
      ]
    },
    {
      "metadata": {
        "colab_type": "text",
        "id": "g4Qhmrutq9Su"
      },
      "cell_type": "markdown",
      "source": [
        "# Generate dataset"
      ]
    },
    {
      "metadata": {
        "colab_type": "text",
        "id": "gc9BrCw2-v0d"
      },
      "cell_type": "markdown",
      "source": [
        "This is what we'll store in the dataset to generate the gaps."
      ]
    },
    {
      "metadata": {
        "colab_type": "code",
        "id": "9LYB0zBd4zA2",
        "colab": {}
      },
      "cell_type": "code",
      "source": [
        "avg_size = 1.\n",
        "gaps = [[random_gap(interval,avg_size) for i in range(n)] for n in num_gaps]"
      ],
      "execution_count": 0,
      "outputs": []
    },
    {
      "metadata": {
        "colab_type": "code",
        "id": "FzCVo_sKlt1w",
        "colab": {}
      },
      "cell_type": "code",
      "source": [
        "a_list = np.random.uniform(.8,5.,data_sz)\n",
        "b_list = np.random.uniform(0.,.3,data_sz)\n",
        "k_list = np.random.uniform(0.1,0.4,data_sz)\n",
        "profile_params = np.array( list(zip(list(zip(list(a_list),list(b_list),list(k_list))),gaps)) )"
      ],
      "execution_count": 0,
      "outputs": []
    },
    {
      "metadata": {
        "colab_type": "code",
        "id": "MqmPVqy2-rWW",
        "colab": {}
      },
      "cell_type": "code",
      "source": [
        "items = array(gaps, dtype=object)"
      ],
      "execution_count": 0,
      "outputs": []
    },
    {
      "metadata": {
        "colab_type": "text",
        "id": "5M-eEf8ollCh"
      },
      "cell_type": "markdown",
      "source": [
        "# An ItemList to handle the data in fast.ai."
      ]
    },
    {
      "metadata": {
        "colab_type": "text",
        "id": "pmcZqpGkrrB2"
      },
      "cell_type": "markdown",
      "source": [
        "The `ProfileItemList` (subclassing a fast.ai wrapper for PyTorch datasets, sort of) will store the parameters for all profiles in (regular) memory and build and serve full profiles to the dataloader on the fly as PyTorch `Tensor`s, which will end up in GPU memory one batch at a time.  The noise is generated randomly, so the profile won't be exactly the same each time it's served, but this is fine (even desirable)."
      ]
    },
    {
      "metadata": {
        "colab_type": "code",
        "id": "m9IW38t6oIK-",
        "colab": {}
      },
      "cell_type": "code",
      "source": [
        "class ProfileLabelItemList(ItemList):\n",
        "\n",
        "    def __init__(self, items, noise_mag=0.01, length=10000, interval=(0.,10.), **kwargs):\n",
        "        super().__init__(items, **kwargs)\n",
        "        self.noise_mag,self.length,self.interval = noise_mag,length,interval\n",
        "        \n",
        "    def get(self, i): \n",
        "        noise = self.noise_mag * torch.randn(self.length)\n",
        "        xs,ys = getprofile(self.length,self.interval,*self.items[i][0])\n",
        "        label = getlabels(xs,self.items[i][1])\n",
        "        return label"
      ],
      "execution_count": 0,
      "outputs": []
    },
    {
      "metadata": {
        "colab_type": "code",
        "id": "NvIj9p2EyVOg",
        "colab": {}
      },
      "cell_type": "code",
      "source": [
        "class ProfileItemList(ItemList):\n",
        "    _label_cls = ProfileLabelItemList\n",
        "\n",
        "    def __init__(self, items, noise_mag=0.01, length=10000, interval=(0.,10.), **kwargs):\n",
        "        super().__init__(items, **kwargs)\n",
        "        self.noise_mag,self.length,self.interval = noise_mag,length,interval\n",
        "        \n",
        "    def get(self, i): \n",
        "        noise = self.noise_mag * torch.randn(self.length)\n",
        "        xs,ys = getprofile(self.length,self.interval,*self.items[i][0])\n",
        "        mults = getmults(xs,self.items[i][1])\n",
        "        return (ys.add_(noise)*mults).unsqueeze(0)"
      ],
      "execution_count": 0,
      "outputs": []
    },
    {
      "metadata": {
        "colab_type": "code",
        "id": "_DOdu6Qwn0DP",
        "colab": {}
      },
      "cell_type": "code",
      "source": [
        "il = ProfileItemList(profile_params, 0.01, 10000, (0.,10.))"
      ],
      "execution_count": 0,
      "outputs": []
    },
    {
      "metadata": {
        "colab_type": "code",
        "id": "2QcQuYOyrk07",
        "colab": {}
      },
      "cell_type": "code",
      "source": [
        "labels = ProfileLabelItemList(profile_params, 0.01, 10000, (0.,10.))"
      ],
      "execution_count": 0,
      "outputs": []
    },
    {
      "metadata": {
        "colab_type": "code",
        "id": "FxzHXkEVxic3",
        "outputId": "36f00f27-ac84-4297-fd3f-8120e66d6e54",
        "colab": {
          "base_uri": "https://localhost:8080/",
          "height": 51
        }
      },
      "cell_type": "code",
      "source": [
        "i = 1\n",
        "\n",
        "il.items[i]"
      ],
      "execution_count": 30,
      "outputs": [
        {
          "output_type": "execute_result",
          "data": {
            "text/plain": [
              "array([(4.961788549401235, 0.022716785384513393, 0.14696096126719152),\n",
              "       list([(1.8886709044246537, 2.291718115448127, 0.2738205469771482)])], dtype=object)"
            ]
          },
          "metadata": {
            "tags": []
          },
          "execution_count": 30
        }
      ]
    },
    {
      "metadata": {
        "colab_type": "code",
        "id": "ysOgbAbzqj7V",
        "outputId": "9185771a-7444-4b9b-a2a7-5983ffd8543c",
        "colab": {
          "base_uri": "https://localhost:8080/",
          "height": 269
        }
      },
      "cell_type": "code",
      "source": [
        "lin_plot(list(zip(xs,il[i].squeeze())),labels[i],[0,10],[0,5])"
      ],
      "execution_count": 31,
      "outputs": [
        {
          "output_type": "display_data",
          "data": {
            "image/png": "[encoded data removed]",
            "text/plain": [
              "<Figure size 360x288 with 1 Axes>"
            ]
          },
          "metadata": {
            "tags": []
          }
        }
      ]
    },
    {
      "metadata": {
        "colab_type": "code",
        "id": "UH1zCLTvyiLr",
        "colab": {}
      },
      "cell_type": "code",
      "source": [
        "il,labels = il.no_split(),labels.no_split()"
      ],
      "execution_count": 0,
      "outputs": []
    },
    {
      "metadata": {
        "colab_type": "code",
        "id": "dR-RwDuPt5lV",
        "colab": {}
      },
      "cell_type": "code",
      "source": [
        "train,valid = LabelList(il.train,labels.train),LabelList(il.valid,labels.valid)"
      ],
      "execution_count": 0,
      "outputs": []
    },
    {
      "metadata": {
        "colab_type": "code",
        "id": "uwBmovImoE89",
        "colab": {}
      },
      "cell_type": "code",
      "source": [
        "lls = LabelLists('.',train,valid)"
      ],
      "execution_count": 0,
      "outputs": []
    },
    {
      "metadata": {
        "colab_type": "code",
        "id": "S4B7Br3-tmWb",
        "colab": {}
      },
      "cell_type": "code",
      "source": [
        "db = lls.databunch()"
      ],
      "execution_count": 0,
      "outputs": []
    },
    {
      "metadata": {
        "colab_type": "text",
        "id": "MVr1iM3AqD-n"
      },
      "cell_type": "markdown",
      "source": [
        "# Model"
      ]
    },
    {
      "metadata": {
        "id": "Sx59YdkgRLhr",
        "colab_type": "text"
      },
      "cell_type": "markdown",
      "source": [
        "## Framework"
      ]
    },
    {
      "metadata": {
        "colab_type": "text",
        "id": "jV1DzOaJaq3n"
      },
      "cell_type": "markdown",
      "source": [
        "We will use a variation on the [U-net](https://arxiv.org/abs/1505.04597) model which was developed for image segmentation.  We are not processing images here, but we are trying to predict a mask on a 1-d set of data points, which is similar.  Therefore, we will use a 1-d convolutional model that uses an encoder/decoder structure with nested skip-connections."
      ]
    },
    {
      "metadata": {
        "colab_type": "text",
        "id": "Ccj1hrZP8Jtt"
      },
      "cell_type": "markdown",
      "source": [
        "Much of the following was modified from the fast.ai library."
      ]
    },
    {
      "metadata": {
        "id": "xTlC9NilRLhy",
        "colab_type": "text"
      },
      "cell_type": "markdown",
      "source": [
        "TODO\n",
        "\n",
        "* Make upsampling dynamic by letting the interpolate look at the captured data."
      ]
    },
    {
      "metadata": {
        "colab_type": "code",
        "id": "gcYrZQGl2iJK",
        "colab": {}
      },
      "cell_type": "code",
      "source": [
        "def _bn(ni, init_zero=False):\n",
        "    \"Batchnorm layer with 0 initialization\"\n",
        "    m = nn.BatchNorm1d(ni)\n",
        "    m.weight.data.fill_(0 if init_zero else 1)\n",
        "    m.bias.data.zero_()\n",
        "    return m\n",
        "  \n",
        "def bn_relu_conv(ni, nf, ks, stride, init_zero=False):\n",
        "    bn_initzero = _bn(ni, init_zero=init_zero)\n",
        "    return nn.Sequential(bn_initzero, nn.ReLU(inplace=True), conv1d(ni, nf, ks, stride))\n",
        "\n",
        "class BasicBlock(nn.Module):\n",
        "    \"Block from a wide ResNet.\"\n",
        "    def __init__(self, ni, nf, stride, drop_p=0.0):\n",
        "        super().__init__()\n",
        "        self.bn = nn.BatchNorm1d(ni)\n",
        "        self.conv1 = conv1d(ni, nf, bb_kernel_sz, stride)\n",
        "        self.conv2 = bn_relu_conv(nf, nf, bb_kernel_sz, 1)\n",
        "        self.drop = nn.Dropout(drop_p, inplace=True) if drop_p else None\n",
        "        self.shortcut = conv1d(ni, nf, 1, stride) if (ni != nf or stride != 1) else noop\n",
        "\n",
        "    def forward(self, x):\n",
        "        x2 = F.relu(self.bn(x), inplace=True)\n",
        "        r = self.shortcut(x2)\n",
        "        x = self.conv1(x2)\n",
        "        if self.drop: x = self.drop(x)\n",
        "        x = self.conv2(x) * 0.2\n",
        "        return x.add_(r)"
      ],
      "execution_count": 0,
      "outputs": []
    },
    {
      "metadata": {
        "colab_type": "code",
        "id": "S2_TaxXnHZWa",
        "colab": {}
      },
      "cell_type": "code",
      "source": [
        "def conv1d(ni:int, no:int, ks:int=1, stride:int=1, padding=None, bias:bool=False):\n",
        "    \"Create and initialize `nn.Conv1d` layer.\"\n",
        "    if padding is None: padding = ks//2\n",
        "    conv = nn.Conv1d(ni, no, ks, stride=stride, padding=padding, bias=bias)\n",
        "    nn.init.kaiming_normal_(conv.weight)\n",
        "    if bias: conv.bias.data.zero_()\n",
        "    return spectral_norm(conv)"
      ],
      "execution_count": 0,
      "outputs": []
    },
    {
      "metadata": {
        "colab_type": "code",
        "id": "UDo9eu703UMu",
        "colab": {}
      },
      "cell_type": "code",
      "source": [
        "class UpSample(nn.Module):\n",
        "    def __init__(self,feat_in,feat_out):\n",
        "        super().__init__()\n",
        "        self.conv = nn.Conv1d(feat_in,feat_out,kernel_size=bb_kernel_sz,stride=1,padding=bb_kernel_sz//2)\n",
        "    \n",
        "    def forward(self,x):\n",
        "        return self.conv(\n",
        "              nn.functional.interpolate(\n",
        "                x,size=self.hook.stored.shape[-1],scale_factor=None,mode='linear',align_corners=True))"
      ],
      "execution_count": 0,
      "outputs": []
    },
    {
      "metadata": {
        "colab_type": "code",
        "id": "sioCkD5gnql7",
        "colab": {}
      },
      "cell_type": "code",
      "source": [
        "def basic_up(ni:int, no:int):\n",
        "  return nn.Sequential(UpSample(ni, no),nn.ReLU()) "
      ],
      "execution_count": 0,
      "outputs": []
    },
    {
      "metadata": {
        "colab_type": "code",
        "id": "uSWUUcNqjuXi",
        "colab": {}
      },
      "cell_type": "code",
      "source": [
        "class Dec_wrapper(nn.Module):\n",
        "  def __init__(self,module,hook,add_mode):\n",
        "    super().__init__()\n",
        "    self.module,self.hook,self.add_mode = module,hook,add_mode\n",
        "  def forward(self,x):\n",
        "    return self.module(x)+self.hook.stored if self.add_mode else torch.cat([self.module(x),self.hook.stored],dim=1)"
      ],
      "execution_count": 0,
      "outputs": []
    },
    {
      "metadata": {
        "colab_type": "code",
        "id": "fnu88yOBR9Cl",
        "colab": {}
      },
      "cell_type": "code",
      "source": [
        "class Decoder(SequentialEx):\n",
        "    def __init__(self, encoder:nn.Module, decoderlist, add_mode=True):\n",
        "        self.sfs = hook_outputs(encoder[:-1])\n",
        "\n",
        "        layers = []\n",
        "        for dec,hook in zip(decoderlist[:-1],reversed(self.sfs)):\n",
        "          dec[0][0].hook = hook\n",
        "          layers.append(Dec_wrapper(dec,hook,add_mode))\n",
        "        layers.append(decoderlist[-1])\n",
        "        \n",
        "        super().__init__(*layers)\n"
      ],
      "execution_count": 0,
      "outputs": []
    },
    {
      "metadata": {
        "id": "NwAnePJCgywI",
        "colab_type": "code",
        "colab": {}
      },
      "cell_type": "code",
      "source": [
        "class Noop_module(nn.Module):\n",
        "  def forward(self,x):\n",
        "    return noop(x)"
      ],
      "execution_count": 0,
      "outputs": []
    },
    {
      "metadata": {
        "colab_type": "code",
        "id": "BZT2IuohXpz3",
        "colab": {}
      },
      "cell_type": "code",
      "source": [
        "def sequentialize(l):\n",
        "  return SequentialEx(*list(l)).cuda()"
      ],
      "execution_count": 0,
      "outputs": []
    },
    {
      "metadata": {
        "id": "3gI4z6iBRLiT",
        "colab_type": "text"
      },
      "cell_type": "markdown",
      "source": [
        "## Construction"
      ]
    },
    {
      "metadata": {
        "colab_type": "text",
        "id": "9HWMf96cmu0S"
      },
      "cell_type": "markdown",
      "source": [
        "We now have the pieces needed to build the encoder and decoder."
      ]
    },
    {
      "metadata": {
        "colab_type": "code",
        "id": "vzSarrrAfa2M",
        "colab": {
          "base_uri": "https://localhost:8080/",
          "height": 34
        },
        "outputId": "f298d105-d5ff-4f68-9581-bc80727d17d8"
      },
      "cell_type": "code",
      "source": [
        "bb_kernel_sz = 3 # 3\n",
        "min_feat = 16 # 64\n",
        "max_feat = 64 # 256\n",
        "n_lay = 6 # 6\n",
        "scaling = 2 # 2\n",
        "add_mode = True # True\n",
        "feats = [(min(max_feat, min_feat*(2 ** i)), min(max_feat, min_feat*(2 ** (i+1)))) for i in range(n_lay)]\n",
        "\n",
        "feats"
      ],
      "execution_count": 199,
      "outputs": [
        {
          "output_type": "execute_result",
          "data": {
            "text/plain": [
              "[(16, 32), (32, 64), (64, 64), (64, 64), (64, 64), (64, 64)]"
            ]
          },
          "metadata": {
            "tags": []
          },
          "execution_count": 199
        }
      ]
    },
    {
      "metadata": {
        "colab_type": "code",
        "id": "U0B9aHsAbDNH",
        "colab": {}
      },
      "cell_type": "code",
      "source": [
        "enc_layers = [\n",
        "              [BasicBlock(in_f,out_f,scaling),BasicBlock(out_f,out_f,1)]\n",
        "              for (in_f,out_f) in feats\n",
        "             ]\n",
        "\n",
        "initial = Noop_module()\n",
        "hook = hook_output(initial)\n",
        "\n",
        "enc_layers = [[initial,conv1d(1,min_feat,9,3,None,True),nn.ReLU(),BasicBlock(min_feat,min_feat,1)]] + enc_layers\n",
        "\n",
        "enc = list(map(sequentialize, enc_layers))\n",
        "\n",
        "# enc = [Input_wrapper(conv1d(1,min_feat,9,3,None,True),nn.ReLU(),BasicBlock(min_feat,min_feat,1))] + enc"
      ],
      "execution_count": 0,
      "outputs": []
    },
    {
      "metadata": {
        "colab_type": "code",
        "id": "mkEjyNxPQ4Mk",
        "colab": {}
      },
      "cell_type": "code",
      "source": [
        "encoder = SequentialEx(*enc)"
      ],
      "execution_count": 0,
      "outputs": []
    },
    {
      "metadata": {
        "colab_type": "text",
        "id": "grrw_2l5m2Zh"
      },
      "cell_type": "markdown",
      "source": [
        "For the decoder we first construct the layers..."
      ]
    },
    {
      "metadata": {
        "colab_type": "code",
        "id": "ROGOIYRflsVB",
        "colab": {}
      },
      "cell_type": "code",
      "source": [
        "def iszeroth(i,n):\n",
        "    return n*2 if (i != 0 and not add_mode) else n\n",
        "\n",
        "dec_layers = [\n",
        "              [basic_up(iszeroth(i,in_f),out_f),BasicBlock(out_f,out_f,1)] \n",
        "              for i,(out_f,in_f) in enumerate(reversed(feats)) \n",
        "             ]\n",
        "\n",
        "last_f = feats[0][0]\n",
        "\n",
        "last_up = basic_up(last_f*(2 ** (1-int(add_mode))),last_f)\n",
        "list(last_up.children())[0].hook = hook\n",
        "\n",
        "dec_layers += [[last_up,BasicBlock(last_f,last_f,1),conv1d(last_f,1,3,1,None,True),nn.Sigmoid()]]\n",
        "\n",
        "dec = list(map(sequentialize, dec_layers))"
      ],
      "execution_count": 0,
      "outputs": []
    },
    {
      "metadata": {
        "colab_type": "text",
        "id": "7IClYGcam6gA"
      },
      "cell_type": "markdown",
      "source": [
        "...then we wrap them with hooks from the encoder layers so they can receive additional input across many layers."
      ]
    },
    {
      "metadata": {
        "colab_type": "code",
        "id": "VuQcRq7fVWvg",
        "colab": {}
      },
      "cell_type": "code",
      "source": [
        "decoder = Decoder(encoder,dec,add_mode)"
      ],
      "execution_count": 0,
      "outputs": []
    },
    {
      "metadata": {
        "colab_type": "code",
        "id": "4yVd-0y-qErs",
        "colab": {}
      },
      "cell_type": "code",
      "source": [
        "model = nn.Sequential(encoder,decoder)"
      ],
      "execution_count": 0,
      "outputs": []
    },
    {
      "metadata": {
        "id": "TDeAk7KrRLjL",
        "colab_type": "code",
        "colab": {
          "base_uri": "https://localhost:8080/",
          "height": 34
        },
        "outputId": "c9280705-1442-448d-9b54-04c2937ddc83"
      },
      "cell_type": "code",
      "source": [
        "dummy_eval(model,(5000,)).shape"
      ],
      "execution_count": 205,
      "outputs": [
        {
          "output_type": "execute_result",
          "data": {
            "text/plain": [
              "torch.Size([1, 1, 5000])"
            ]
          },
          "metadata": {
            "tags": []
          },
          "execution_count": 205
        }
      ]
    },
    {
      "metadata": {
        "colab_type": "text",
        "id": "gJYmgMEZuffb"
      },
      "cell_type": "markdown",
      "source": [
        "# Loss Function"
      ]
    },
    {
      "metadata": {
        "colab_type": "text",
        "id": "5nU70IV_aEVC"
      },
      "cell_type": "markdown",
      "source": [
        "For a loss function we use a variation on the DICE loss function (described [here](https://www.jeremyjordan.me/semantic-segmentation/#loss))."
      ]
    },
    {
      "metadata": {
        "colab_type": "code",
        "id": "vVMrr0Hq0l9s",
        "colab": {}
      },
      "cell_type": "code",
      "source": [
        "def dice(preds,targs):\n",
        "  return .5-((1.-preds.squeeze())*(1.-targs)).mean()/((1.-preds.squeeze()).mean()+(1.-targs).mean())"
      ],
      "execution_count": 0,
      "outputs": []
    },
    {
      "metadata": {
        "colab_type": "text",
        "id": "gFsKTzxCt1Ls"
      },
      "cell_type": "markdown",
      "source": [
        "# Training"
      ]
    },
    {
      "metadata": {
        "colab_type": "code",
        "id": "vIzEJON2ud9M",
        "colab": {}
      },
      "cell_type": "code",
      "source": [
        "learn = Learner(db,model.cuda(),loss_func=dice)"
      ],
      "execution_count": 0,
      "outputs": []
    },
    {
      "metadata": {
        "colab_type": "code",
        "id": "Dsw2wfjJHZ7Y",
        "outputId": "5ece8787-4f10-4d40-afb8-07051baa5f2b",
        "colab": {
          "base_uri": "https://localhost:8080/",
          "height": 204
        }
      },
      "cell_type": "code",
      "source": [
        "learn.lr_find()"
      ],
      "execution_count": 208,
      "outputs": [
        {
          "output_type": "display_data",
          "data": {
            "text/html": [
              ""
            ],
            "text/plain": [
              "<IPython.core.display.HTML object>"
            ]
          },
          "metadata": {
            "tags": []
          }
        },
        {
          "output_type": "stream",
          "text": [
            "/usr/local/lib/python3.6/dist-packages/torch/serialization.py:251: UserWarning: Couldn't retrieve source code for container of type Noop_module. It won't be checked for correctness upon loading.\n",
            "  \"type \" + obj.__name__ + \". It won't be checked \"\n",
            "/usr/local/lib/python3.6/dist-packages/torch/serialization.py:251: UserWarning: Couldn't retrieve source code for container of type BasicBlock. It won't be checked for correctness upon loading.\n",
            "  \"type \" + obj.__name__ + \". It won't be checked \"\n",
            "/usr/local/lib/python3.6/dist-packages/torch/serialization.py:251: UserWarning: Couldn't retrieve source code for container of type Decoder. It won't be checked for correctness upon loading.\n",
            "  \"type \" + obj.__name__ + \". It won't be checked \"\n",
            "/usr/local/lib/python3.6/dist-packages/torch/serialization.py:251: UserWarning: Couldn't retrieve source code for container of type Dec_wrapper. It won't be checked for correctness upon loading.\n",
            "  \"type \" + obj.__name__ + \". It won't be checked \"\n",
            "/usr/local/lib/python3.6/dist-packages/torch/serialization.py:251: UserWarning: Couldn't retrieve source code for container of type UpSample. It won't be checked for correctness upon loading.\n",
            "  \"type \" + obj.__name__ + \". It won't be checked \"\n"
          ],
          "name": "stderr"
        },
        {
          "output_type": "stream",
          "text": [
            "LR Finder is complete, type {learner_name}.recorder.plot() to see the graph.\n"
          ],
          "name": "stdout"
        }
      ]
    },
    {
      "metadata": {
        "colab_type": "code",
        "id": "XOR70STII9_O",
        "outputId": "b051e641-ba80-4466-caf6-f3b94d009303",
        "colab": {
          "base_uri": "https://localhost:8080/",
          "height": 361
        }
      },
      "cell_type": "code",
      "source": [
        "learn.recorder.plot()"
      ],
      "execution_count": 209,
      "outputs": [
        {
          "output_type": "display_data",
          "data": {
            "image/png": "[encoded data removed]",
            "text/plain": [
              "<Figure size 576x396 with 1 Axes>"
            ]
          },
          "metadata": {
            "tags": []
          }
        }
      ]
    },
    {
      "metadata": {
        "id": "SU2q-PnhjVM2",
        "colab_type": "code",
        "colab": {
          "base_uri": "https://localhost:8080/",
          "height": 196
        },
        "outputId": "e56ffe6a-eec5-40aa-c540-cb3719d77eaa"
      },
      "cell_type": "code",
      "source": [
        "learn.fit_one_cycle(4,max_lr=1e-1)"
      ],
      "execution_count": 210,
      "outputs": [
        {
          "output_type": "display_data",
          "data": {
            "text/html": [
              "Total time: 18:49 <p><table border=\"1\" class=\"dataframe\">\n",
              "  <thead>\n",
              "    <tr style=\"text-align: left;\">\n",
              "      <th>epoch</th>\n",
              "      <th>train_loss</th>\n",
              "      <th>valid_loss</th>\n",
              "      <th>time</th>\n",
              "    </tr>\n",
              "  </thead>\n",
              "  <tbody>\n",
              "    <tr>\n",
              "      <td>1</td>\n",
              "      <td>0.085612</td>\n",
              "      <td></td>\n",
              "      <td>04:45</td>\n",
              "    </tr>\n",
              "    <tr>\n",
              "      <td>2</td>\n",
              "      <td>0.026220</td>\n",
              "      <td></td>\n",
              "      <td>04:45</td>\n",
              "    </tr>\n",
              "    <tr>\n",
              "      <td>3</td>\n",
              "      <td>0.018142</td>\n",
              "      <td></td>\n",
              "      <td>04:38</td>\n",
              "    </tr>\n",
              "    <tr>\n",
              "      <td>4</td>\n",
              "      <td>0.010928</td>\n",
              "      <td></td>\n",
              "      <td>04:40</td>\n",
              "    </tr>\n",
              "  </tbody>\n",
              "</table>"
            ],
            "text/plain": [
              "<IPython.core.display.HTML object>"
            ]
          },
          "metadata": {
            "tags": []
          }
        }
      ]
    },
    {
      "metadata": {
        "id": "IFPLVJ7zNgb2",
        "colab_type": "code",
        "colab": {
          "base_uri": "https://localhost:8080/",
          "height": 196
        },
        "outputId": "80d59297-d7f3-4c8b-ebd9-6a24665db37c"
      },
      "cell_type": "code",
      "source": [
        "learn.fit_one_cycle(4,max_lr=1e-3)"
      ],
      "execution_count": 211,
      "outputs": [
        {
          "output_type": "display_data",
          "data": {
            "text/html": [
              "Total time: 18:58 <p><table border=\"1\" class=\"dataframe\">\n",
              "  <thead>\n",
              "    <tr style=\"text-align: left;\">\n",
              "      <th>epoch</th>\n",
              "      <th>train_loss</th>\n",
              "      <th>valid_loss</th>\n",
              "      <th>time</th>\n",
              "    </tr>\n",
              "  </thead>\n",
              "  <tbody>\n",
              "    <tr>\n",
              "      <td>1</td>\n",
              "      <td>0.009521</td>\n",
              "      <td></td>\n",
              "      <td>04:46</td>\n",
              "    </tr>\n",
              "    <tr>\n",
              "      <td>2</td>\n",
              "      <td>0.010192</td>\n",
              "      <td></td>\n",
              "      <td>04:44</td>\n",
              "    </tr>\n",
              "    <tr>\n",
              "      <td>3</td>\n",
              "      <td>0.008651</td>\n",
              "      <td></td>\n",
              "      <td>04:43</td>\n",
              "    </tr>\n",
              "    <tr>\n",
              "      <td>4</td>\n",
              "      <td>0.009717</td>\n",
              "      <td></td>\n",
              "      <td>04:43</td>\n",
              "    </tr>\n",
              "  </tbody>\n",
              "</table>"
            ],
            "text/plain": [
              "<IPython.core.display.HTML object>"
            ]
          },
          "metadata": {
            "tags": []
          }
        }
      ]
    },
    {
      "metadata": {
        "colab_type": "code",
        "id": "63seJZlp0I7b",
        "outputId": "d72f4c81-ceef-4ca9-a7cc-c6fee3c31b39",
        "colab": {
          "base_uri": "https://localhost:8080/",
          "height": 95
        }
      },
      "cell_type": "code",
      "source": [
        "# learn.fit_one_cycle(4,max_lr=1e-2) #kernel size 9"
      ],
      "execution_count": 0,
      "outputs": [
        {
          "output_type": "display_data",
          "data": {
            "text/html": [
              "Total time: 1:04:10 <p><table border=\"1\" class=\"dataframe\">\n",
              "  <thead>\n",
              "    <tr style=\"text-align: left;\">\n",
              "      <th>epoch</th>\n",
              "      <th>train_loss</th>\n",
              "      <th>valid_loss</th>\n",
              "    </tr>\n",
              "  </thead>\n",
              "  <tbody>\n",
              "    <tr>\n",
              "      <td>1</td>\n",
              "      <td>0.146296</td>\n",
              "      <td></td>\n",
              "    </tr>\n",
              "    <tr>\n",
              "      <td>2</td>\n",
              "      <td>0.032849</td>\n",
              "      <td></td>\n",
              "    </tr>\n",
              "    <tr>\n",
              "      <td>3</td>\n",
              "      <td>0.013838</td>\n",
              "      <td></td>\n",
              "    </tr>\n",
              "    <tr>\n",
              "      <td>4</td>\n",
              "      <td>0.008498</td>\n",
              "      <td></td>\n",
              "    </tr>\n",
              "  </tbody>\n",
              "</table>"
            ],
            "text/plain": [
              "<IPython.core.display.HTML object>"
            ]
          },
          "metadata": {
            "tags": []
          }
        }
      ]
    },
    {
      "metadata": {
        "id": "JNKiwgZjRLj1",
        "colab_type": "code",
        "colab": {},
        "outputId": "b31a3ad9-f1ca-44ab-d1a3-ed2f79af1cb7"
      },
      "cell_type": "code",
      "source": [
        "learn.fit_one_cycle(4,max_lr=1e-2) # kernel size 3"
      ],
      "execution_count": 0,
      "outputs": [
        {
          "output_type": "display_data",
          "data": {
            "text/html": [
              "Total time: 11:25 <p><table border=\"1\" class=\"dataframe\">\n",
              "  <thead>\n",
              "    <tr style=\"text-align: left;\">\n",
              "      <th>epoch</th>\n",
              "      <th>train_loss</th>\n",
              "      <th>valid_loss</th>\n",
              "    </tr>\n",
              "  </thead>\n",
              "  <tbody>\n",
              "    <tr>\n",
              "      <td>1</td>\n",
              "      <td>0.215850</td>\n",
              "      <td></td>\n",
              "    </tr>\n",
              "    <tr>\n",
              "      <td>2</td>\n",
              "      <td>0.025959</td>\n",
              "      <td></td>\n",
              "    </tr>\n",
              "    <tr>\n",
              "      <td>3</td>\n",
              "      <td>0.013210</td>\n",
              "      <td></td>\n",
              "    </tr>\n",
              "    <tr>\n",
              "      <td>4</td>\n",
              "      <td>0.008636</td>\n",
              "      <td></td>\n",
              "    </tr>\n",
              "  </tbody>\n",
              "</table>"
            ],
            "text/plain": [
              "<IPython.core.display.HTML object>"
            ]
          },
          "metadata": {
            "tags": []
          }
        }
      ]
    },
    {
      "metadata": {
        "id": "9bPVnsaaRLj-",
        "colab_type": "code",
        "colab": {},
        "outputId": "dae54070-00fa-4e76-cfd8-1762fdba77fa"
      },
      "cell_type": "code",
      "source": [
        "learn.fit_one_cycle(6,max_lr=1e-2,pct_start=0.4) # kernel size 5, scale factor 2, layers 7, add"
      ],
      "execution_count": 0,
      "outputs": [
        {
          "output_type": "display_data",
          "data": {
            "text/html": [
              "Total time: 23:12 <p><table border=\"1\" class=\"dataframe\">\n",
              "  <thead>\n",
              "    <tr style=\"text-align: left;\">\n",
              "      <th>epoch</th>\n",
              "      <th>train_loss</th>\n",
              "      <th>valid_loss</th>\n",
              "    </tr>\n",
              "  </thead>\n",
              "  <tbody>\n",
              "    <tr>\n",
              "      <td>1</td>\n",
              "      <td>0.206148</td>\n",
              "      <td></td>\n",
              "    </tr>\n",
              "    <tr>\n",
              "      <td>2</td>\n",
              "      <td>0.079131</td>\n",
              "      <td></td>\n",
              "    </tr>\n",
              "    <tr>\n",
              "      <td>3</td>\n",
              "      <td>0.072281</td>\n",
              "      <td></td>\n",
              "    </tr>\n",
              "    <tr>\n",
              "      <td>4</td>\n",
              "      <td>0.036109</td>\n",
              "      <td></td>\n",
              "    </tr>\n",
              "    <tr>\n",
              "      <td>5</td>\n",
              "      <td>0.026434</td>\n",
              "      <td></td>\n",
              "    </tr>\n",
              "    <tr>\n",
              "      <td>6</td>\n",
              "      <td>0.019754</td>\n",
              "      <td></td>\n",
              "    </tr>\n",
              "  </tbody>\n",
              "</table>"
            ],
            "text/plain": [
              "<IPython.core.display.HTML object>"
            ]
          },
          "metadata": {
            "tags": []
          }
        }
      ]
    },
    {
      "metadata": {
        "id": "aTb5gY89RLkF",
        "colab_type": "code",
        "colab": {},
        "outputId": "c5e6d73c-de6f-40f3-9667-d5bfeeffa2a7"
      },
      "cell_type": "code",
      "source": [
        "learn.recorder.plot_losses()"
      ],
      "execution_count": 0,
      "outputs": [
        {
          "output_type": "error",
          "ename": "ValueError",
          "evalue": "x and y must have same first dimension, but have shapes (6,) and (0,)",
          "traceback": [
            "\u001b[0;31m---------------------------------------------------------------------------\u001b[0m",
            "\u001b[0;31mValueError\u001b[0m                                Traceback (most recent call last)",
            "\u001b[0;32m<ipython-input-221-dcd199964d48>\u001b[0m in \u001b[0;36m<module>\u001b[0;34m\u001b[0m\n\u001b[0;32m----> 1\u001b[0;31m \u001b[0mlearn\u001b[0m\u001b[0;34m.\u001b[0m\u001b[0mrecorder\u001b[0m\u001b[0;34m.\u001b[0m\u001b[0mplot_losses\u001b[0m\u001b[0;34m(\u001b[0m\u001b[0;34m)\u001b[0m\u001b[0;34m\u001b[0m\u001b[0m\n\u001b[0m",
            "\u001b[0;32m~/fastai/alan/fastai/basic_train.py\u001b[0m in \u001b[0;36mplot_losses\u001b[0;34m(self, last)\u001b[0m\n\u001b[1;32m    471\u001b[0m         \u001b[0mval_iter\u001b[0m \u001b[0;34m=\u001b[0m \u001b[0mself\u001b[0m\u001b[0;34m.\u001b[0m\u001b[0mnb_batches\u001b[0m\u001b[0;34m[\u001b[0m\u001b[0;34m-\u001b[0m\u001b[0mlast\u001b[0m\u001b[0;34m:\u001b[0m\u001b[0;34m]\u001b[0m\u001b[0;34m\u001b[0m\u001b[0m\n\u001b[1;32m    472\u001b[0m         \u001b[0mval_iter\u001b[0m \u001b[0;34m=\u001b[0m \u001b[0mnp\u001b[0m\u001b[0;34m.\u001b[0m\u001b[0mcumsum\u001b[0m\u001b[0;34m(\u001b[0m\u001b[0mval_iter\u001b[0m\u001b[0;34m)\u001b[0m\u001b[0;34m+\u001b[0m\u001b[0mnp\u001b[0m\u001b[0;34m.\u001b[0m\u001b[0msum\u001b[0m\u001b[0;34m(\u001b[0m\u001b[0mself\u001b[0m\u001b[0;34m.\u001b[0m\u001b[0mnb_batches\u001b[0m\u001b[0;34m[\u001b[0m\u001b[0;34m:\u001b[0m\u001b[0;34m-\u001b[0m\u001b[0mlast\u001b[0m\u001b[0;34m]\u001b[0m\u001b[0;34m)\u001b[0m\u001b[0;34m\u001b[0m\u001b[0m\n\u001b[0;32m--> 473\u001b[0;31m         \u001b[0max\u001b[0m\u001b[0;34m.\u001b[0m\u001b[0mplot\u001b[0m\u001b[0;34m(\u001b[0m\u001b[0mval_iter\u001b[0m\u001b[0;34m,\u001b[0m \u001b[0mself\u001b[0m\u001b[0;34m.\u001b[0m\u001b[0mval_losses\u001b[0m\u001b[0;34m[\u001b[0m\u001b[0;34m-\u001b[0m\u001b[0mlast\u001b[0m\u001b[0;34m:\u001b[0m\u001b[0;34m]\u001b[0m\u001b[0;34m,\u001b[0m \u001b[0mlabel\u001b[0m\u001b[0;34m=\u001b[0m\u001b[0;34m'Validation'\u001b[0m\u001b[0;34m)\u001b[0m\u001b[0;34m\u001b[0m\u001b[0m\n\u001b[0m\u001b[1;32m    474\u001b[0m         \u001b[0max\u001b[0m\u001b[0;34m.\u001b[0m\u001b[0mset_ylabel\u001b[0m\u001b[0;34m(\u001b[0m\u001b[0;34m'Loss'\u001b[0m\u001b[0;34m)\u001b[0m\u001b[0;34m\u001b[0m\u001b[0m\n\u001b[1;32m    475\u001b[0m         \u001b[0max\u001b[0m\u001b[0;34m.\u001b[0m\u001b[0mset_xlabel\u001b[0m\u001b[0;34m(\u001b[0m\u001b[0;34m'Batches processed'\u001b[0m\u001b[0;34m)\u001b[0m\u001b[0;34m\u001b[0m\u001b[0m\n",
            "\u001b[0;32m~/anaconda3/envs/fastai/lib/python3.7/site-packages/matplotlib/__init__.py\u001b[0m in \u001b[0;36minner\u001b[0;34m(ax, data, *args, **kwargs)\u001b[0m\n\u001b[1;32m   1803\u001b[0m                         \u001b[0;34m\"the Matplotlib list!)\"\u001b[0m \u001b[0;34m%\u001b[0m \u001b[0;34m(\u001b[0m\u001b[0mlabel_namer\u001b[0m\u001b[0;34m,\u001b[0m \u001b[0mfunc\u001b[0m\u001b[0;34m.\u001b[0m\u001b[0m__name__\u001b[0m\u001b[0;34m)\u001b[0m\u001b[0;34m,\u001b[0m\u001b[0;34m\u001b[0m\u001b[0m\n\u001b[1;32m   1804\u001b[0m                         RuntimeWarning, stacklevel=2)\n\u001b[0;32m-> 1805\u001b[0;31m             \u001b[0;32mreturn\u001b[0m \u001b[0mfunc\u001b[0m\u001b[0;34m(\u001b[0m\u001b[0max\u001b[0m\u001b[0;34m,\u001b[0m \u001b[0;34m*\u001b[0m\u001b[0margs\u001b[0m\u001b[0;34m,\u001b[0m \u001b[0;34m**\u001b[0m\u001b[0mkwargs\u001b[0m\u001b[0;34m)\u001b[0m\u001b[0;34m\u001b[0m\u001b[0m\n\u001b[0m\u001b[1;32m   1806\u001b[0m \u001b[0;34m\u001b[0m\u001b[0m\n\u001b[1;32m   1807\u001b[0m         inner.__doc__ = _add_data_doc(inner.__doc__,\n",
            "\u001b[0;32m~/anaconda3/envs/fastai/lib/python3.7/site-packages/matplotlib/axes/_axes.py\u001b[0m in \u001b[0;36mplot\u001b[0;34m(self, scalex, scaley, *args, **kwargs)\u001b[0m\n\u001b[1;32m   1601\u001b[0m         \u001b[0mkwargs\u001b[0m \u001b[0;34m=\u001b[0m \u001b[0mcbook\u001b[0m\u001b[0;34m.\u001b[0m\u001b[0mnormalize_kwargs\u001b[0m\u001b[0;34m(\u001b[0m\u001b[0mkwargs\u001b[0m\u001b[0;34m,\u001b[0m \u001b[0mmlines\u001b[0m\u001b[0;34m.\u001b[0m\u001b[0mLine2D\u001b[0m\u001b[0;34m.\u001b[0m\u001b[0m_alias_map\u001b[0m\u001b[0;34m)\u001b[0m\u001b[0;34m\u001b[0m\u001b[0m\n\u001b[1;32m   1602\u001b[0m \u001b[0;34m\u001b[0m\u001b[0m\n\u001b[0;32m-> 1603\u001b[0;31m         \u001b[0;32mfor\u001b[0m \u001b[0mline\u001b[0m \u001b[0;32min\u001b[0m \u001b[0mself\u001b[0m\u001b[0;34m.\u001b[0m\u001b[0m_get_lines\u001b[0m\u001b[0;34m(\u001b[0m\u001b[0;34m*\u001b[0m\u001b[0margs\u001b[0m\u001b[0;34m,\u001b[0m \u001b[0;34m**\u001b[0m\u001b[0mkwargs\u001b[0m\u001b[0;34m)\u001b[0m\u001b[0;34m:\u001b[0m\u001b[0;34m\u001b[0m\u001b[0m\n\u001b[0m\u001b[1;32m   1604\u001b[0m             \u001b[0mself\u001b[0m\u001b[0;34m.\u001b[0m\u001b[0madd_line\u001b[0m\u001b[0;34m(\u001b[0m\u001b[0mline\u001b[0m\u001b[0;34m)\u001b[0m\u001b[0;34m\u001b[0m\u001b[0m\n\u001b[1;32m   1605\u001b[0m             \u001b[0mlines\u001b[0m\u001b[0;34m.\u001b[0m\u001b[0mappend\u001b[0m\u001b[0;34m(\u001b[0m\u001b[0mline\u001b[0m\u001b[0;34m)\u001b[0m\u001b[0;34m\u001b[0m\u001b[0m\n",
            "\u001b[0;32m~/anaconda3/envs/fastai/lib/python3.7/site-packages/matplotlib/axes/_base.py\u001b[0m in \u001b[0;36m_grab_next_args\u001b[0;34m(self, *args, **kwargs)\u001b[0m\n\u001b[1;32m    391\u001b[0m                 \u001b[0mthis\u001b[0m \u001b[0;34m+=\u001b[0m \u001b[0margs\u001b[0m\u001b[0;34m[\u001b[0m\u001b[0;36m0\u001b[0m\u001b[0;34m]\u001b[0m\u001b[0;34m,\u001b[0m\u001b[0;34m\u001b[0m\u001b[0m\n\u001b[1;32m    392\u001b[0m                 \u001b[0margs\u001b[0m \u001b[0;34m=\u001b[0m \u001b[0margs\u001b[0m\u001b[0;34m[\u001b[0m\u001b[0;36m1\u001b[0m\u001b[0;34m:\u001b[0m\u001b[0;34m]\u001b[0m\u001b[0;34m\u001b[0m\u001b[0m\n\u001b[0;32m--> 393\u001b[0;31m             \u001b[0;32myield\u001b[0m \u001b[0;32mfrom\u001b[0m \u001b[0mself\u001b[0m\u001b[0;34m.\u001b[0m\u001b[0m_plot_args\u001b[0m\u001b[0;34m(\u001b[0m\u001b[0mthis\u001b[0m\u001b[0;34m,\u001b[0m \u001b[0mkwargs\u001b[0m\u001b[0;34m)\u001b[0m\u001b[0;34m\u001b[0m\u001b[0m\n\u001b[0m\u001b[1;32m    394\u001b[0m \u001b[0;34m\u001b[0m\u001b[0m\n\u001b[1;32m    395\u001b[0m \u001b[0;34m\u001b[0m\u001b[0m\n",
            "\u001b[0;32m~/anaconda3/envs/fastai/lib/python3.7/site-packages/matplotlib/axes/_base.py\u001b[0m in \u001b[0;36m_plot_args\u001b[0;34m(self, tup, kwargs)\u001b[0m\n\u001b[1;32m    368\u001b[0m             \u001b[0mx\u001b[0m\u001b[0;34m,\u001b[0m \u001b[0my\u001b[0m \u001b[0;34m=\u001b[0m \u001b[0mindex_of\u001b[0m\u001b[0;34m(\u001b[0m\u001b[0mtup\u001b[0m\u001b[0;34m[\u001b[0m\u001b[0;34m-\u001b[0m\u001b[0;36m1\u001b[0m\u001b[0;34m]\u001b[0m\u001b[0;34m)\u001b[0m\u001b[0;34m\u001b[0m\u001b[0m\n\u001b[1;32m    369\u001b[0m \u001b[0;34m\u001b[0m\u001b[0m\n\u001b[0;32m--> 370\u001b[0;31m         \u001b[0mx\u001b[0m\u001b[0;34m,\u001b[0m \u001b[0my\u001b[0m \u001b[0;34m=\u001b[0m \u001b[0mself\u001b[0m\u001b[0;34m.\u001b[0m\u001b[0m_xy_from_xy\u001b[0m\u001b[0;34m(\u001b[0m\u001b[0mx\u001b[0m\u001b[0;34m,\u001b[0m \u001b[0my\u001b[0m\u001b[0;34m)\u001b[0m\u001b[0;34m\u001b[0m\u001b[0m\n\u001b[0m\u001b[1;32m    371\u001b[0m \u001b[0;34m\u001b[0m\u001b[0m\n\u001b[1;32m    372\u001b[0m         \u001b[0;32mif\u001b[0m \u001b[0mself\u001b[0m\u001b[0;34m.\u001b[0m\u001b[0mcommand\u001b[0m \u001b[0;34m==\u001b[0m \u001b[0;34m'plot'\u001b[0m\u001b[0;34m:\u001b[0m\u001b[0;34m\u001b[0m\u001b[0m\n",
            "\u001b[0;32m~/anaconda3/envs/fastai/lib/python3.7/site-packages/matplotlib/axes/_base.py\u001b[0m in \u001b[0;36m_xy_from_xy\u001b[0;34m(self, x, y)\u001b[0m\n\u001b[1;32m    229\u001b[0m         \u001b[0;32mif\u001b[0m \u001b[0mx\u001b[0m\u001b[0;34m.\u001b[0m\u001b[0mshape\u001b[0m\u001b[0;34m[\u001b[0m\u001b[0;36m0\u001b[0m\u001b[0;34m]\u001b[0m \u001b[0;34m!=\u001b[0m \u001b[0my\u001b[0m\u001b[0;34m.\u001b[0m\u001b[0mshape\u001b[0m\u001b[0;34m[\u001b[0m\u001b[0;36m0\u001b[0m\u001b[0;34m]\u001b[0m\u001b[0;34m:\u001b[0m\u001b[0;34m\u001b[0m\u001b[0m\n\u001b[1;32m    230\u001b[0m             raise ValueError(\"x and y must have same first dimension, but \"\n\u001b[0;32m--> 231\u001b[0;31m                              \"have shapes {} and {}\".format(x.shape, y.shape))\n\u001b[0m\u001b[1;32m    232\u001b[0m         \u001b[0;32mif\u001b[0m \u001b[0mx\u001b[0m\u001b[0;34m.\u001b[0m\u001b[0mndim\u001b[0m \u001b[0;34m>\u001b[0m \u001b[0;36m2\u001b[0m \u001b[0;32mor\u001b[0m \u001b[0my\u001b[0m\u001b[0;34m.\u001b[0m\u001b[0mndim\u001b[0m \u001b[0;34m>\u001b[0m \u001b[0;36m2\u001b[0m\u001b[0;34m:\u001b[0m\u001b[0;34m\u001b[0m\u001b[0m\n\u001b[1;32m    233\u001b[0m             raise ValueError(\"x and y can be no greater than 2-D, but have \"\n",
            "\u001b[0;31mValueError\u001b[0m: x and y must have same first dimension, but have shapes (6,) and (0,)"
          ]
        },
        {
          "output_type": "display_data",
          "data": {
            "image/png": "[encoded data removed]",
            "text/plain": [
              "<Figure size 432x288 with 1 Axes>"
            ]
          },
          "metadata": {
            "tags": [],
            "needs_background": "light"
          }
        }
      ]
    },
    {
      "metadata": {
        "id": "8aYJ6n95RLkM",
        "colab_type": "code",
        "colab": {},
        "outputId": "b82d953e-8db7-479e-e8ac-973fa6fbb24a"
      },
      "cell_type": "code",
      "source": [
        "learn.fit_one_cycle(4,max_lr=1e-1) # kernel size 3, scale factor 2, layers 5"
      ],
      "execution_count": 0,
      "outputs": [
        {
          "output_type": "display_data",
          "data": {
            "text/html": [
              "Total time: 12:44 <p><table border=\"1\" class=\"dataframe\">\n",
              "  <thead>\n",
              "    <tr style=\"text-align: left;\">\n",
              "      <th>epoch</th>\n",
              "      <th>train_loss</th>\n",
              "      <th>valid_loss</th>\n",
              "    </tr>\n",
              "  </thead>\n",
              "  <tbody>\n",
              "    <tr>\n",
              "      <td>1</td>\n",
              "      <td>0.203670</td>\n",
              "      <td></td>\n",
              "    </tr>\n",
              "    <tr>\n",
              "      <td>2</td>\n",
              "      <td>0.118773</td>\n",
              "      <td></td>\n",
              "    </tr>\n",
              "    <tr>\n",
              "      <td>3</td>\n",
              "      <td>0.028862</td>\n",
              "      <td></td>\n",
              "    </tr>\n",
              "    <tr>\n",
              "      <td>4</td>\n",
              "      <td>0.023105</td>\n",
              "      <td></td>\n",
              "    </tr>\n",
              "  </tbody>\n",
              "</table>"
            ],
            "text/plain": [
              "<IPython.core.display.HTML object>"
            ]
          },
          "metadata": {
            "tags": []
          }
        }
      ]
    },
    {
      "metadata": {
        "id": "O58pFK3QRLkQ",
        "colab_type": "code",
        "colab": {},
        "outputId": "93413f94-7ee9-4042-b899-6cc8e77322fc"
      },
      "cell_type": "code",
      "source": [
        "learn.fit_one_cycle(4,max_lr=1e-2) # kernel size 3, scale factor 2, concat"
      ],
      "execution_count": 0,
      "outputs": [
        {
          "output_type": "display_data",
          "data": {
            "text/html": [
              "Total time: 15:07 <p><table border=\"1\" class=\"dataframe\">\n",
              "  <thead>\n",
              "    <tr style=\"text-align: left;\">\n",
              "      <th>epoch</th>\n",
              "      <th>train_loss</th>\n",
              "      <th>valid_loss</th>\n",
              "    </tr>\n",
              "  </thead>\n",
              "  <tbody>\n",
              "    <tr>\n",
              "      <td>1</td>\n",
              "      <td>0.105276</td>\n",
              "      <td></td>\n",
              "    </tr>\n",
              "    <tr>\n",
              "      <td>2</td>\n",
              "      <td>0.049572</td>\n",
              "      <td></td>\n",
              "    </tr>\n",
              "    <tr>\n",
              "      <td>3</td>\n",
              "      <td>0.028856</td>\n",
              "      <td></td>\n",
              "    </tr>\n",
              "    <tr>\n",
              "      <td>4</td>\n",
              "      <td>0.018294</td>\n",
              "      <td></td>\n",
              "    </tr>\n",
              "  </tbody>\n",
              "</table>"
            ],
            "text/plain": [
              "<IPython.core.display.HTML object>"
            ]
          },
          "metadata": {
            "tags": []
          }
        }
      ]
    },
    {
      "metadata": {
        "id": "W6fT_BHvRLkV",
        "colab_type": "code",
        "colab": {},
        "outputId": "0bcdb77f-5d89-48bc-d628-3da58cf29d50"
      },
      "cell_type": "code",
      "source": [
        "learn.fit_one_cycle(4,max_lr=1e-4) # kernel size 3, scale factor 2, concat"
      ],
      "execution_count": 0,
      "outputs": [
        {
          "output_type": "display_data",
          "data": {
            "text/html": [
              "Total time: 14:45 <p><table border=\"1\" class=\"dataframe\">\n",
              "  <thead>\n",
              "    <tr style=\"text-align: left;\">\n",
              "      <th>epoch</th>\n",
              "      <th>train_loss</th>\n",
              "      <th>valid_loss</th>\n",
              "    </tr>\n",
              "  </thead>\n",
              "  <tbody>\n",
              "    <tr>\n",
              "      <td>1</td>\n",
              "      <td>0.017256</td>\n",
              "      <td></td>\n",
              "    </tr>\n",
              "    <tr>\n",
              "      <td>2</td>\n",
              "      <td>0.018445</td>\n",
              "      <td></td>\n",
              "    </tr>\n",
              "    <tr>\n",
              "      <td>3</td>\n",
              "      <td>0.017197</td>\n",
              "      <td></td>\n",
              "    </tr>\n",
              "    <tr>\n",
              "      <td>4</td>\n",
              "      <td>0.018827</td>\n",
              "      <td></td>\n",
              "    </tr>\n",
              "  </tbody>\n",
              "</table>"
            ],
            "text/plain": [
              "<IPython.core.display.HTML object>"
            ]
          },
          "metadata": {
            "tags": []
          }
        }
      ]
    },
    {
      "metadata": {
        "id": "-qbiEtf6RLkZ",
        "colab_type": "code",
        "colab": {},
        "outputId": "9879d168-4248-444a-dd4b-858e34680586"
      },
      "cell_type": "code",
      "source": [
        "learn.fit_one_cycle(4,max_lr=4e-2)"
      ],
      "execution_count": 0,
      "outputs": [
        {
          "output_type": "display_data",
          "data": {
            "text/html": [
              "Total time: 14:39 <p><table border=\"1\" class=\"dataframe\">\n",
              "  <thead>\n",
              "    <tr style=\"text-align: left;\">\n",
              "      <th>epoch</th>\n",
              "      <th>train_loss</th>\n",
              "      <th>valid_loss</th>\n",
              "    </tr>\n",
              "  </thead>\n",
              "  <tbody>\n",
              "    <tr>\n",
              "      <td>1</td>\n",
              "      <td>0.179769</td>\n",
              "      <td></td>\n",
              "    </tr>\n",
              "    <tr>\n",
              "      <td>2</td>\n",
              "      <td>0.063107</td>\n",
              "      <td></td>\n",
              "    </tr>\n",
              "    <tr>\n",
              "      <td>3</td>\n",
              "      <td>0.027834</td>\n",
              "      <td></td>\n",
              "    </tr>\n",
              "    <tr>\n",
              "      <td>4</td>\n",
              "      <td>0.013499</td>\n",
              "      <td></td>\n",
              "    </tr>\n",
              "  </tbody>\n",
              "</table>"
            ],
            "text/plain": [
              "<IPython.core.display.HTML object>"
            ]
          },
          "metadata": {
            "tags": []
          }
        }
      ]
    },
    {
      "metadata": {
        "id": "BaRgfySXRLkf",
        "colab_type": "code",
        "colab": {},
        "outputId": "6fc149aa-e88e-429a-8de0-2d793b63a6ca"
      },
      "cell_type": "code",
      "source": [
        "learn.fit_one_cycle(1,max_lr=1e-4)"
      ],
      "execution_count": 0,
      "outputs": [
        {
          "output_type": "display_data",
          "data": {
            "text/html": [
              "Total time: 03:01 <p><table border=\"1\" class=\"dataframe\">\n",
              "  <thead>\n",
              "    <tr style=\"text-align: left;\">\n",
              "      <th>epoch</th>\n",
              "      <th>train_loss</th>\n",
              "      <th>valid_loss</th>\n",
              "    </tr>\n",
              "  </thead>\n",
              "  <tbody>\n",
              "    <tr>\n",
              "      <td>1</td>\n",
              "      <td>0.037221</td>\n",
              "      <td></td>\n",
              "    </tr>\n",
              "  </tbody>\n",
              "</table>"
            ],
            "text/plain": [
              "<IPython.core.display.HTML object>"
            ]
          },
          "metadata": {
            "tags": []
          }
        }
      ]
    },
    {
      "metadata": {
        "colab_type": "text",
        "id": "nv8I7UGnt4FA"
      },
      "cell_type": "markdown",
      "source": [
        "# Analysis"
      ]
    },
    {
      "metadata": {
        "colab_type": "code",
        "id": "EVuXTBDstbhM",
        "colab": {}
      },
      "cell_type": "code",
      "source": [
        "x,y = db.one_batch()"
      ],
      "execution_count": 0,
      "outputs": []
    },
    {
      "metadata": {
        "colab_type": "text",
        "id": "EyLBrscenttn"
      },
      "cell_type": "markdown",
      "source": [
        "The model is quite accurate for many profiles:"
      ]
    },
    {
      "metadata": {
        "colab_type": "code",
        "id": "dk_rNR3sgyW8",
        "outputId": "1e5a807e-8598-4c50-8b43-fa39bedcea15",
        "colab": {
          "base_uri": "https://localhost:8080/",
          "height": 269
        }
      },
      "cell_type": "code",
      "source": [
        "i = 8\n",
        "lin_plot(list(zip(xs,x[i].squeeze())),learn.model(x[i].unsqueeze(0).cuda()).round().squeeze(),[0,10],[0,5]) # Predicted labels"
      ],
      "execution_count": 0,
      "outputs": [
        {
          "output_type": "display_data",
          "data": {
            "image/png": "[encoded data removed]",
            "text/plain": [
              "<Figure size 360x288 with 1 Axes>"
            ]
          },
          "metadata": {
            "tags": [],
            "needs_background": "light"
          }
        }
      ]
    },
    {
      "metadata": {
        "colab_type": "code",
        "id": "0NXDiTppPI6Y",
        "outputId": "82ed84b0-a27c-40c6-b6c9-ee70d0268cd8",
        "colab": {
          "base_uri": "https://localhost:8080/",
          "height": 269
        }
      },
      "cell_type": "code",
      "source": [
        "lin_plot(list(zip(xs,x[i].squeeze())),y[i].squeeze(),[0,10],[0,5]) # Actual labels"
      ],
      "execution_count": 0,
      "outputs": [
        {
          "output_type": "display_data",
          "data": {
            "image/png": "[encoded data removed]",
            "text/plain": [
              "<Figure size 360x288 with 1 Axes>"
            ]
          },
          "metadata": {
            "tags": [],
            "needs_background": "light"
          }
        }
      ]
    },
    {
      "metadata": {
        "colab_type": "text",
        "id": "LDvIgwGJoDzK"
      },
      "cell_type": "markdown",
      "source": [
        "However, it has some issues with falsely labeling real data as fake, particularly when no gaps are present in a profile:"
      ]
    },
    {
      "metadata": {
        "colab_type": "code",
        "id": "8Is2eI3Kn9f_",
        "outputId": "b8d67828-7c58-4fb3-9cea-edf849461a34",
        "colab": {
          "base_uri": "https://localhost:8080/",
          "height": 269
        }
      },
      "cell_type": "code",
      "source": [
        "i = 1\n",
        "lin_plot(list(zip(xs,x[i].squeeze())),learn.model(x[i].unsqueeze(0).cuda()).round().squeeze(),[0,10],[0,3.5]) # Predicted labels"
      ],
      "execution_count": 0,
      "outputs": [
        {
          "output_type": "display_data",
          "data": {
            "image/png": "[encoded data removed]",
            "text/plain": [
              "<Figure size 360x288 with 1 Axes>"
            ]
          },
          "metadata": {
            "tags": []
          }
        }
      ]
    },
    {
      "metadata": {
        "colab_type": "code",
        "id": "CwsR8qecn-4J",
        "outputId": "3f232721-5fd9-4468-f271-2efd8239bd05",
        "colab": {
          "base_uri": "https://localhost:8080/",
          "height": 269
        }
      },
      "cell_type": "code",
      "source": [
        "lin_plot(list(zip(xs,x[i].squeeze())),y[i].squeeze(),[0,10],[0,3.5]) # Actual labels"
      ],
      "execution_count": 0,
      "outputs": [
        {
          "output_type": "display_data",
          "data": {
            "image/png": "[encoded data removed]",
            "text/plain": [
              "<Figure size 360x288 with 1 Axes>"
            ]
          },
          "metadata": {
            "tags": []
          }
        }
      ]
    },
    {
      "metadata": {
        "colab_type": "text",
        "id": "7AdwETV4iTTD"
      },
      "cell_type": "markdown",
      "source": [
        "# Conclusion"
      ]
    },
    {
      "metadata": {
        "colab_type": "text",
        "id": "DkOTM2YqiWuC"
      },
      "cell_type": "markdown",
      "source": [
        "Despite some issues with false positives, the performance of the model is quite good on the simulated data.  More information from the team would be needed to see whether the model would work as well on the real data.  Training on simulated data is generally a vulnerable process, and it would be preferrable to train on actual profiles, but it's unknown to me how much real data is available.  The model as it was demonstrated in this notebook had essentially unlimited data with which to train.  If real data is scarce, perhaps the real data could be analyzed to improve the quality of the simulated data to make it better for training.\n",
        "\n",
        "Assuming this model is suitable for the task, it can probably be simplified in a way that maintains or improves accuracy while decreasing training and inference time.  Other areas of potential improvement are:\n",
        "\n",
        "* Normalize input data\n",
        "* Increase receptive field sizes\n",
        "* Experiment with other skip connection styles, e.g. concatenation rather than addition\n",
        "* Integrate this model with the predictive model for single-pass training and prediction\n",
        "\n",
        "Hopefully this model can be helpful to the OAG data science team."
      ]
    }
  ]
}