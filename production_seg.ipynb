{
 "cells": [
  {
   "cell_type": "markdown",
   "metadata": {
    "colab_type": "text",
    "id": "bRSXktZrcGrX"
   },
   "source": [
    "# Introduction"
   ]
  },
  {
   "cell_type": "markdown",
   "metadata": {
    "colab_type": "text",
    "id": "9AZg2G7VcPPV"
   },
   "source": [
    "While meeting with the team on March 1st, a problem was described to me where the team received a dataset that described a profile of a producing oil well in terms of production amount vs. time.  The team's objective was to produce a model predicting such profiles.  The team described how there would be time periods with zero production, and time periods with missing data, but those could easily be identified and removed from the dataset.  A more difficult issue was the presence of non-zero, but artificially lowered periods of production, after which production would return to previous levels (or levels consistent with a curve).  These \"gaps\" were difficult to algorithmically identify, and would cause problems for the predictive model when included in the training dataset.\n",
    "\n",
    "After the meeting, I thought about the problem of identifying these \"gaps\", and had the thought that the problem could be treated as a segmentation problem, with a model that predicts whether each data point could be included in the dataset.\n",
    "\n",
    "To test my model I have created this notebook to create simulated data, train a model, and analyze the performance of the model."
   ]
  },
  {
   "cell_type": "markdown",
   "metadata": {
    "colab_type": "text",
    "heading_collapsed": true,
    "id": "aIKo3jQicN02"
   },
   "source": [
    "# Setup"
   ]
  },
  {
   "cell_type": "markdown",
   "metadata": {
    "colab_type": "text",
    "hidden": true,
    "id": "ZWm0f6Rzo8di"
   },
   "source": [
    "We'll need the [fast.ai library]()"
   ]
  },
  {
   "cell_type": "code",
   "execution_count": 1,
   "metadata": {
    "colab": {},
    "colab_type": "code",
    "hidden": true,
    "id": "omIz-65Kian6"
   },
   "outputs": [],
   "source": [
    "# !curl -s https://course.fast.ai/setup/colab | bash # Uncomment to set up a version of fast.ai in colab."
   ]
  },
  {
   "cell_type": "code",
   "execution_count": 2,
   "metadata": {
    "colab": {},
    "colab_type": "code",
    "hidden": true,
    "id": "ffWFrE53JuAB"
   },
   "outputs": [],
   "source": [
    "# !pip uninstall fastai # In case there are issues with the version installed by the above line."
   ]
  },
  {
   "cell_type": "code",
   "execution_count": 3,
   "metadata": {
    "colab": {},
    "colab_type": "code",
    "hidden": true,
    "id": "-TbcgNSaJ3hx"
   },
   "outputs": [],
   "source": [
    "# !pip install fastai"
   ]
  },
  {
   "cell_type": "code",
   "execution_count": 4,
   "metadata": {
    "colab": {},
    "colab_type": "code",
    "hidden": true,
    "id": "Byjb6toRjDEz"
   },
   "outputs": [],
   "source": [
    "%reload_ext autoreload\n",
    "%autoreload 2"
   ]
  },
  {
   "cell_type": "code",
   "execution_count": 5,
   "metadata": {
    "colab": {},
    "colab_type": "code",
    "hidden": true,
    "id": "rJ-dIhd8jVSP"
   },
   "outputs": [],
   "source": [
    "from fastai import *\n",
    "from fastai.data_block import *\n",
    "from fastai.torch_core import *\n",
    "from fastai.layers import *\n",
    "from fastai.basic_train import *\n",
    "from fastai.train import *\n",
    "from fastai.callbacks.hooks import *\n",
    "\n",
    "import matplotlib.pyplot as plt\n",
    "from matplotlib import patches, patheffects\n",
    "import numpy as np\n",
    "import functools as ft"
   ]
  },
  {
   "cell_type": "markdown",
   "metadata": {
    "colab_type": "text",
    "hidden": true,
    "id": "UPbCmyJNtG8y"
   },
   "source": [
    "We'll also be looking at the simulated profiles."
   ]
  },
  {
   "cell_type": "code",
   "execution_count": 6,
   "metadata": {
    "colab": {},
    "colab_type": "code",
    "hidden": true,
    "id": "1TiSYq2tjXYM"
   },
   "outputs": [],
   "source": [
    "def lin_plot(vs,mask,*args):\n",
    "    assert len(args)%2 == 0, \"Expected even number of axis views.\"\n",
    "    for arg in args:\n",
    "        assert len(arg) == 2, \"Arguments >0 must be value range pairs.\"\n",
    "        for x in arg:\n",
    "            assert isinstance(x,float) or isinstance(x,int), \\\n",
    "                \"Expected numerical values in value range pairs.\"\n",
    "    \n",
    "    xranges,yranges = args[0::2],args[1::2]\n",
    "    fig = plt.figure(figsize=(4*len(xranges)+len(xranges), 4))\n",
    "    \n",
    "    mask = [1 for v in vs] if mask is None else mask\n",
    "    \n",
    "    if isinstance(vs, torch.Tensor):\n",
    "      vs = to_np(vs)\n",
    "    \n",
    "    n = len(xranges)\n",
    "    \n",
    "    for i,(xrange,yrange) in enumerate(zip(xranges,yranges)):\n",
    "        ax = fig.add_subplot(1,n,i+1)\n",
    "        \n",
    "        vs_split = []\n",
    "        acc = []\n",
    "        lastm = 1\n",
    "        for m,v in zip(mask,vs):\n",
    "          if m == lastm:\n",
    "            acc.append(v)\n",
    "          else:\n",
    "            if acc: vs_split.append((lastm,acc))\n",
    "            acc = [v]\n",
    "          lastm = m\n",
    "        vs_split.append((m,torch.Tensor(acc)))\n",
    "        \n",
    "        for m,v_list in vs_split:\n",
    "          path = patches.Path(v_list)\n",
    "          color = 'blue' if bool(m == 1) else 'red'\n",
    "          alpha = 1.0\n",
    "\n",
    "          pathpatch = patches.PathPatch(path, facecolor='none', edgecolor=patches.colors.to_rgba(color,alpha))\n",
    "          patch = ax.add_patch(pathpatch)\n",
    "        ax.set_xlim(xrange[0],xrange[1])\n",
    "        ax.set_ylim(yrange[0],yrange[1])\n",
    "    plt.show()"
   ]
  },
  {
   "cell_type": "markdown",
   "metadata": {
    "colab_type": "text",
    "heading_collapsed": true,
    "id": "zitxbEqEiyn8"
   },
   "source": [
    "# Generating fake production profiles"
   ]
  },
  {
   "cell_type": "markdown",
   "metadata": {
    "colab_type": "text",
    "hidden": true,
    "id": "QIg8nT6CkP0P"
   },
   "source": [
    "We want to train the model on simulated data to find artificially low levels of production.  The idea will be that the network will flag those data points for removal.  The sample graph that was drawn for me looked roughly like a noisy exponential decay curve with gaps of artificially lower production, so this is the type of simulated data we'll create.\n",
    "\n",
    "First we'll choose a data set size.  Since the data is simulated, it can be as large as we want."
   ]
  },
  {
   "cell_type": "code",
   "execution_count": 40,
   "metadata": {
    "colab": {},
    "colab_type": "code",
    "hidden": true,
    "id": "LRDSpwFvkQg5"
   },
   "outputs": [],
   "source": [
    "data_sz = 50000"
   ]
  },
  {
   "cell_type": "markdown",
   "metadata": {
    "colab_type": "text",
    "hidden": true,
    "id": "jbsqZBAIifzR"
   },
   "source": [
    "We don't want to store all the data points from every profile, so we want a way to take a few parameters and generate a profile on-the-fly.  We'll start by generating a profile with no gaps..."
   ]
  },
  {
   "cell_type": "code",
   "execution_count": 41,
   "metadata": {
    "colab": {},
    "colab_type": "code",
    "hidden": true,
    "id": "kskVn5YClua_"
   },
   "outputs": [],
   "source": [
    "def f(a, b, k, x):\n",
    "  return a*torch.exp(-x*k)+b"
   ]
  },
  {
   "cell_type": "code",
   "execution_count": 42,
   "metadata": {
    "colab": {},
    "colab_type": "code",
    "hidden": true,
    "id": "4D4kPuTYe7zM"
   },
   "outputs": [],
   "source": [
    "def getprofile(length,interval,a,b,k):\n",
    "  xs = torch.Tensor([interval[1]*i/length+interval[0] for i in range(length)])\n",
    "  return xs,f(a,b,k,xs)"
   ]
  },
  {
   "cell_type": "markdown",
   "metadata": {
    "colab_type": "text",
    "hidden": true,
    "id": "SxV_yCdyjMCv"
   },
   "source": [
    "Let's have a look at a sample profile."
   ]
  },
  {
   "cell_type": "code",
   "execution_count": 43,
   "metadata": {
    "colab": {},
    "colab_type": "code",
    "hidden": true,
    "id": "peF98t19kUvA"
   },
   "outputs": [],
   "source": [
    "interval = (0.0,10.0)\n",
    "length = 10000\n",
    "\n",
    "xs,ys = getprofile(length,interval,1.0,0.0,0.2)\n",
    "vs = torch.stack([xs,ys]).transpose(0,1)"
   ]
  },
  {
   "cell_type": "code",
   "execution_count": 44,
   "metadata": {
    "colab": {
     "base_uri": "https://localhost:8080/",
     "height": 269
    },
    "colab_type": "code",
    "hidden": true,
    "id": "8m9aEw9um7Zg",
    "outputId": "0ee83057-5cd1-4e92-f99b-b6f2085853b2"
   },
   "outputs": [
    {
     "data": {
      "image/png": "[encoded data removed]",
      "text/plain": [
       "<Figure size 360x288 with 1 Axes>"
      ]
     },
     "metadata": {
      "needs_background": "light"
     },
     "output_type": "display_data"
    }
   ],
   "source": [
    "lin_plot(vs, None, [0,10], [0,1])"
   ]
  },
  {
   "cell_type": "markdown",
   "metadata": {
    "colab_type": "text",
    "hidden": true,
    "id": "4ZKp-70pkXlx"
   },
   "source": [
    "We also want the profile to be noisy, so here's how we'll add some noise to it."
   ]
  },
  {
   "cell_type": "code",
   "execution_count": 45,
   "metadata": {
    "colab": {},
    "colab_type": "code",
    "hidden": true,
    "id": "NPVG0BuRvZol"
   },
   "outputs": [],
   "source": [
    "std = 0.01\n",
    "noise = std * torch.randn(length)"
   ]
  },
  {
   "cell_type": "code",
   "execution_count": 46,
   "metadata": {
    "colab": {},
    "colab_type": "code",
    "hidden": true,
    "id": "on-Eu3AROxNj"
   },
   "outputs": [],
   "source": [
    "x = ys.add_(noise).clamp(0.,5.)"
   ]
  },
  {
   "cell_type": "code",
   "execution_count": 47,
   "metadata": {
    "colab": {
     "base_uri": "https://localhost:8080/",
     "height": 34
    },
    "colab_type": "code",
    "hidden": true,
    "id": "2LUBVB3SuV0-",
    "outputId": "c01bfdd6-2744-4c17-b98b-379287e3f035"
   },
   "outputs": [
    {
     "data": {
      "text/plain": [
       "torch.Size([10000, 2])"
      ]
     },
     "execution_count": 47,
     "metadata": {},
     "output_type": "execute_result"
    }
   ],
   "source": [
    "vs = torch.stack([torch.Tensor(xs),x]).transpose(0,1); vs.shape"
   ]
  },
  {
   "cell_type": "code",
   "execution_count": 48,
   "metadata": {
    "colab": {
     "base_uri": "https://localhost:8080/",
     "height": 269
    },
    "colab_type": "code",
    "hidden": true,
    "id": "Cp6coWmPujJJ",
    "outputId": "464ba222-7f8c-4c44-fd01-3269b67c54f6"
   },
   "outputs": [
    {
     "data": {
      "image/png": "[encoded data removed]",
      "text/plain": [
       "<Figure size 360x288 with 1 Axes>"
      ]
     },
     "metadata": {
      "needs_background": "light"
     },
     "output_type": "display_data"
    }
   ],
   "source": [
    "lin_plot(vs, None, [0,10], [0,1])"
   ]
  },
  {
   "cell_type": "markdown",
   "metadata": {
    "colab_type": "text",
    "hidden": true,
    "id": "IwPfcyxd8lkh"
   },
   "source": [
    "Now we need to add gaps in the data.   We'll start by generating integers that represent the number of gaps in each profile."
   ]
  },
  {
   "cell_type": "code",
   "execution_count": 49,
   "metadata": {
    "colab": {
     "base_uri": "https://localhost:8080/",
     "height": 34
    },
    "colab_type": "code",
    "hidden": true,
    "id": "C-KpanAHyIMc",
    "outputId": "0215d9a6-44bb-4d87-eead-e97d2bcedf57"
   },
   "outputs": [
    {
     "data": {
      "text/plain": [
       "array([0, 0, 2, 3, 1, 1, 0, 1, 1, 2])"
      ]
     },
     "execution_count": 49,
     "metadata": {},
     "output_type": "execute_result"
    }
   ],
   "source": [
    "num_gaps = np.stack([np.random.normal(1.,1.,data_sz).astype(int),np.zeros((data_sz,),dtype=int)]).max(0); num_gaps[0:10]"
   ]
  },
  {
   "cell_type": "markdown",
   "metadata": {
    "colab_type": "text",
    "hidden": true,
    "id": "9N-UxxXA8t26"
   },
   "source": [
    "Each gap is generated randomly as below.  `interval` is the total (fake) time interval on which the data is defined, `avg_size` is the nominal average size desired for gaps, but not quite because we will arbitrarily truncate the randomly generated gaps to exist only on the appropriate time interval (which shortens the actual average) and sometimes the gaps will overlap and be effectively a single gap (which increases the actual average).\n",
    "\n",
    "The function returns the start and end of the gap (in terms of the time axis), and the factor by which the data will be multiplied (between 0 and 1)."
   ]
  },
  {
   "cell_type": "code",
   "execution_count": 50,
   "metadata": {
    "colab": {},
    "colab_type": "code",
    "hidden": true,
    "id": "4zb2e61w6z5-"
   },
   "outputs": [],
   "source": [
    "def random_gap(interval, avg_size):\n",
    "  low,high = interval\n",
    "  middle = np.random.uniform(low,high)\n",
    "  size = np.abs(np.random.normal(0.,avg_size))\n",
    "  start = max(middle-size/2,low)\n",
    "  end   = min(middle+size/2,high)\n",
    "  drop_factor = np.random.uniform(0.,.8)\n",
    "  return start,end,drop_factor"
   ]
  },
  {
   "cell_type": "code",
   "execution_count": 51,
   "metadata": {
    "colab": {
     "base_uri": "https://localhost:8080/",
     "height": 34
    },
    "colab_type": "code",
    "hidden": true,
    "id": "AdWinKEE739T",
    "outputId": "93327660-c95f-4d43-ccd6-3a88541cb8a0"
   },
   "outputs": [
    {
     "data": {
      "text/plain": [
       "(7.235528470411803, 7.471299481730493, 0.23526648348762125)"
      ]
     },
     "execution_count": 51,
     "metadata": {},
     "output_type": "execute_result"
    }
   ],
   "source": [
    "random_gap(interval,avg_size=1) # Start x-value, end x-value, factor of decrease."
   ]
  },
  {
   "cell_type": "markdown",
   "metadata": {
    "colab_type": "text",
    "hidden": true,
    "id": "LT1JiEfwD1kF"
   },
   "source": [
    "The above will be passed to our new `ItemList` class.  Now we need a way to take a curve and add the gaps..."
   ]
  },
  {
   "cell_type": "code",
   "execution_count": 52,
   "metadata": {
    "colab": {},
    "colab_type": "code",
    "hidden": true,
    "id": "Z-iAu22Tm5JU"
   },
   "outputs": [],
   "source": [
    "def getmults(xs, gaplist):\n",
    "  mults = torch.ones_like(xs)\n",
    "  for gap in gaplist:\n",
    "    start,end,mult = gap\n",
    "    mask = (torch.lt((start*torch.ones_like(xs)),xs)*torch.lt(xs,(end*torch.ones_like(xs)))).to(dtype=torch.float32)\n",
    "    mults =  mults * ((mask*mult) + (1.-mask))\n",
    "  return mults  "
   ]
  },
  {
   "cell_type": "markdown",
   "metadata": {
    "colab_type": "text",
    "hidden": true,
    "id": "emAjh63fh7Dj"
   },
   "source": [
    "...and a way to generate labels, i.e. which data points on the profile we want the model to identify as gaps."
   ]
  },
  {
   "cell_type": "code",
   "execution_count": 53,
   "metadata": {
    "colab": {},
    "colab_type": "code",
    "hidden": true,
    "id": "Cu9iA_5_pasa"
   },
   "outputs": [],
   "source": [
    "def getlabels(xs, gaplist):\n",
    "  labels = torch.zeros_like(xs)\n",
    "  for gap in gaplist:\n",
    "    start,end,mult = gap\n",
    "    mask = (torch.lt((start*torch.ones_like(xs)),xs)*torch.lt(xs,(end*torch.ones_like(xs)))).to(dtype=torch.float32)\n",
    "    labels = labels + mask\n",
    "  return 1.-labels.clamp(0.,1.)"
   ]
  },
  {
   "cell_type": "markdown",
   "metadata": {
    "colab_type": "text",
    "hidden": true,
    "id": "cJWRdnWeIOkZ"
   },
   "source": [
    "Here's a sample of what we'll multiply a profile by, elementwise.  First create a list of gaps then generate the multipliers."
   ]
  },
  {
   "cell_type": "code",
   "execution_count": 125,
   "metadata": {
    "colab": {},
    "colab_type": "code",
    "hidden": true,
    "id": "dKo7b23bDtWj"
   },
   "outputs": [],
   "source": [
    "gaplist = [(7.895473695650945, 8.5611717232079, 0.7412393215396834),\n",
    " (9.42338378189132, 10.0, 0.49183629537436746),\n",
    " (3.267080298267579, 4.566375305422216, 0.7222552666207067)]"
   ]
  },
  {
   "cell_type": "code",
   "execution_count": 126,
   "metadata": {
    "colab": {
     "base_uri": "https://localhost:8080/",
     "height": 51
    },
    "colab_type": "code",
    "hidden": true,
    "id": "gJvPa1csoEHv",
    "outputId": "5cf0b526-c8e9-42df-8eb0-90c4fa5d34e1"
   },
   "outputs": [
    {
     "name": "stdout",
     "output_type": "stream",
     "text": [
      "CPU times: user 0 ns, sys: 4 ms, total: 4 ms\n",
      "Wall time: 1.04 ms\n"
     ]
    }
   ],
   "source": [
    "%time mults = getmults(xs,gaplist)"
   ]
  },
  {
   "cell_type": "markdown",
   "metadata": {
    "colab_type": "text",
    "hidden": true,
    "id": "uj3YDdq6lZvQ"
   },
   "source": [
    "Now let's incorporate the gaps in our sample profile."
   ]
  },
  {
   "cell_type": "code",
   "execution_count": 127,
   "metadata": {
    "colab": {},
    "colab_type": "code",
    "hidden": true,
    "id": "d_X-4Q74YwPG"
   },
   "outputs": [],
   "source": [
    "x = ys*mults"
   ]
  },
  {
   "cell_type": "code",
   "execution_count": 128,
   "metadata": {
    "colab": {
     "base_uri": "https://localhost:8080/",
     "height": 34
    },
    "colab_type": "code",
    "hidden": true,
    "id": "mP2bX1z9YwPK",
    "outputId": "9d2d6e84-34b4-49d0-e6c1-15fcd0aa0911"
   },
   "outputs": [
    {
     "data": {
      "text/plain": [
       "(10000, 2)"
      ]
     },
     "execution_count": 128,
     "metadata": {},
     "output_type": "execute_result"
    }
   ],
   "source": [
    "vs = to_np(torch.stack([torch.Tensor(xs),x]).transpose(0,1)); vs.shape"
   ]
  },
  {
   "cell_type": "markdown",
   "metadata": {
    "colab_type": "text",
    "hidden": true,
    "id": "sMj8mS5jhnDD"
   },
   "source": [
    "Here's the result, with a demo of labelling.  Gaps are indicated in red, non-gaps in blue."
   ]
  },
  {
   "cell_type": "code",
   "execution_count": 129,
   "metadata": {
    "colab": {
     "base_uri": "https://localhost:8080/",
     "height": 269
    },
    "colab_type": "code",
    "hidden": true,
    "id": "IlVzlGNWYwPQ",
    "outputId": "30654661-7922-44a2-c5bd-bbdc200d1f2d",
    "scrolled": true
   },
   "outputs": [
    {
     "data": {
      "image/png": "[encoded data removed]",
      "text/plain": [
       "<Figure size 360x288 with 1 Axes>"
      ]
     },
     "metadata": {
      "needs_background": "light"
     },
     "output_type": "display_data"
    }
   ],
   "source": [
    "lin_plot(vs, getlabels(xs,gaplist), [0,10], [0,1])"
   ]
  },
  {
   "cell_type": "markdown",
   "metadata": {
    "colab_type": "text",
    "heading_collapsed": true,
    "id": "g4Qhmrutq9Su"
   },
   "source": [
    "# Generate dataset"
   ]
  },
  {
   "cell_type": "markdown",
   "metadata": {
    "colab_type": "text",
    "hidden": true,
    "id": "gc9BrCw2-v0d"
   },
   "source": [
    "This is what we'll store in the dataset to generate the gaps."
   ]
  },
  {
   "cell_type": "code",
   "execution_count": 59,
   "metadata": {
    "colab": {},
    "colab_type": "code",
    "hidden": true,
    "id": "9LYB0zBd4zA2"
   },
   "outputs": [],
   "source": [
    "avg_size = 1.\n",
    "gaps = [[random_gap(interval,avg_size) for i in range(n)] for n in num_gaps]"
   ]
  },
  {
   "cell_type": "code",
   "execution_count": 60,
   "metadata": {
    "colab": {},
    "colab_type": "code",
    "hidden": true,
    "id": "FzCVo_sKlt1w"
   },
   "outputs": [],
   "source": [
    "a_list = np.random.uniform(.8,5.,data_sz)\n",
    "b_list = np.random.uniform(0.,.3,data_sz)\n",
    "k_list = np.random.uniform(0.1,0.4,data_sz)\n",
    "profile_params = np.array( list(zip(list(zip(list(a_list),list(b_list),list(k_list))),gaps)) )"
   ]
  },
  {
   "cell_type": "code",
   "execution_count": 61,
   "metadata": {
    "colab": {},
    "colab_type": "code",
    "hidden": true,
    "id": "MqmPVqy2-rWW"
   },
   "outputs": [],
   "source": [
    "items = array(gaps, dtype=object)"
   ]
  },
  {
   "cell_type": "markdown",
   "metadata": {
    "colab_type": "text",
    "heading_collapsed": true,
    "id": "5M-eEf8ollCh"
   },
   "source": [
    "# An ItemList to handle the data in fast.ai."
   ]
  },
  {
   "cell_type": "markdown",
   "metadata": {
    "colab_type": "text",
    "hidden": true,
    "id": "pmcZqpGkrrB2"
   },
   "source": [
    "The `ProfileItemList` (subclassing a fast.ai wrapper for PyTorch datasets, sort of) will store the parameters for all profiles in (regular) memory and build and serve full profiles to the dataloader on the fly as PyTorch `Tensor`s, which will end up in GPU memory one batch at a time.  The noise is generated randomly, so the profile won't be exactly the same each time it's served, but this is fine (even desirable)."
   ]
  },
  {
   "cell_type": "code",
   "execution_count": 62,
   "metadata": {
    "colab": {},
    "colab_type": "code",
    "hidden": true,
    "id": "m9IW38t6oIK-"
   },
   "outputs": [],
   "source": [
    "class ProfileLabelItemList(ItemList):\n",
    "\n",
    "    def __init__(self, items, noise_mag=0.01, length=10000, interval=(0.,10.), **kwargs):\n",
    "        super().__init__(items, **kwargs)\n",
    "        self.noise_mag,self.length,self.interval = noise_mag,length,interval\n",
    "        \n",
    "    def get(self, i): \n",
    "        noise = self.noise_mag * torch.randn(self.length)\n",
    "        xs,ys = getprofile(self.length,self.interval,*self.items[i][0])\n",
    "        label = getlabels(xs,self.items[i][1])\n",
    "        return label"
   ]
  },
  {
   "cell_type": "code",
   "execution_count": 63,
   "metadata": {
    "colab": {},
    "colab_type": "code",
    "hidden": true,
    "id": "NvIj9p2EyVOg"
   },
   "outputs": [],
   "source": [
    "class ProfileItemList(ItemList):\n",
    "    _label_cls = ProfileLabelItemList\n",
    "\n",
    "    def __init__(self, items, noise_mag=0.01, length=10000, interval=(0.,10.), **kwargs):\n",
    "        super().__init__(items, **kwargs)\n",
    "        self.noise_mag,self.length,self.interval = noise_mag,length,interval\n",
    "        \n",
    "    def get(self, i): \n",
    "        noise = self.noise_mag * torch.randn(self.length)\n",
    "        xs,ys = getprofile(self.length,self.interval,*self.items[i][0])\n",
    "        mults = getmults(xs,self.items[i][1])\n",
    "        return (ys.add_(noise)*mults).unsqueeze(0)"
   ]
  },
  {
   "cell_type": "code",
   "execution_count": 64,
   "metadata": {
    "colab": {},
    "colab_type": "code",
    "hidden": true,
    "id": "_DOdu6Qwn0DP"
   },
   "outputs": [],
   "source": [
    "il = ProfileItemList(profile_params, 0.01, 10000, (0.,10.))"
   ]
  },
  {
   "cell_type": "code",
   "execution_count": 65,
   "metadata": {
    "colab": {},
    "colab_type": "code",
    "hidden": true,
    "id": "2QcQuYOyrk07"
   },
   "outputs": [],
   "source": [
    "labels = ProfileLabelItemList(profile_params, 0.01, 10000, (0.,10.))"
   ]
  },
  {
   "cell_type": "code",
   "execution_count": 72,
   "metadata": {
    "colab": {
     "base_uri": "https://localhost:8080/",
     "height": 51
    },
    "colab_type": "code",
    "hidden": true,
    "id": "FxzHXkEVxic3",
    "outputId": "36f00f27-ac84-4297-fd3f-8120e66d6e54"
   },
   "outputs": [
    {
     "data": {
      "text/plain": [
       "array([(2.512106671263984, 0.25488381703424073, 0.19770237637012128),\n",
       "       list([(8.48164384258578, 9.335452526989636, 0.2844981838857179), (7.619975739970262, 9.626918397820685, 0.36926657461193113)])],\n",
       "      dtype=object)"
      ]
     },
     "execution_count": 72,
     "metadata": {},
     "output_type": "execute_result"
    }
   ],
   "source": [
    "i = 2\n",
    "\n",
    "il.items[i]"
   ]
  },
  {
   "cell_type": "code",
   "execution_count": 73,
   "metadata": {
    "colab": {
     "base_uri": "https://localhost:8080/",
     "height": 269
    },
    "colab_type": "code",
    "hidden": true,
    "id": "ysOgbAbzqj7V",
    "outputId": "9185771a-7444-4b9b-a2a7-5983ffd8543c"
   },
   "outputs": [
    {
     "data": {
      "image/png": "[encoded data removed]",
      "text/plain": [
       "<Figure size 360x288 with 1 Axes>"
      ]
     },
     "metadata": {
      "needs_background": "light"
     },
     "output_type": "display_data"
    }
   ],
   "source": [
    "lin_plot(list(zip(xs,il[i].squeeze())),labels[i],[0,10],[0,5])"
   ]
  },
  {
   "cell_type": "code",
   "execution_count": 74,
   "metadata": {
    "colab": {},
    "colab_type": "code",
    "hidden": true,
    "id": "UH1zCLTvyiLr"
   },
   "outputs": [],
   "source": [
    "ils,lils = il.no_split(),labels.no_split()"
   ]
  },
  {
   "cell_type": "code",
   "execution_count": 75,
   "metadata": {
    "colab": {},
    "colab_type": "code",
    "hidden": true,
    "id": "dR-RwDuPt5lV"
   },
   "outputs": [],
   "source": [
    "train,valid = LabelList(ils.train,lils.train),LabelList(ils.valid,lils.valid)"
   ]
  },
  {
   "cell_type": "code",
   "execution_count": 76,
   "metadata": {
    "colab": {},
    "colab_type": "code",
    "hidden": true,
    "id": "S4B7Br3-tmWb"
   },
   "outputs": [],
   "source": [
    "db = LabelLists('.',train,valid).databunch()"
   ]
  },
  {
   "cell_type": "markdown",
   "metadata": {
    "colab_type": "text",
    "heading_collapsed": true,
    "id": "MVr1iM3AqD-n"
   },
   "source": [
    "# Model"
   ]
  },
  {
   "cell_type": "markdown",
   "metadata": {
    "colab_type": "text",
    "hidden": true,
    "id": "Sx59YdkgRLhr"
   },
   "source": [
    "## Framework"
   ]
  },
  {
   "cell_type": "markdown",
   "metadata": {
    "colab_type": "text",
    "hidden": true,
    "id": "jV1DzOaJaq3n"
   },
   "source": [
    "We will use a variation on the [U-net](https://arxiv.org/abs/1505.04597) model which was developed for image segmentation.  We are not processing images here, but we are trying to predict a mask on a 1-d set of data points, which is similar.  Therefore, we will use a 1-d convolutional model that uses an encoder/decoder structure with nested skip-connections."
   ]
  },
  {
   "cell_type": "markdown",
   "metadata": {
    "colab_type": "text",
    "hidden": true,
    "id": "Ccj1hrZP8Jtt"
   },
   "source": [
    "Much of the following was modified from the fast.ai library."
   ]
  },
  {
   "cell_type": "code",
   "execution_count": 77,
   "metadata": {
    "colab": {},
    "colab_type": "code",
    "hidden": true,
    "id": "gcYrZQGl2iJK"
   },
   "outputs": [],
   "source": [
    "def _bn(ni, init_zero=False):\n",
    "    \"Batchnorm layer with 0 initialization\"\n",
    "    m = nn.BatchNorm1d(ni)\n",
    "    m.weight.data.fill_(0 if init_zero else 1)\n",
    "    m.bias.data.zero_()\n",
    "    return m\n",
    "  \n",
    "def bn_relu_conv(ni, nf, ks, stride, init_zero=False):\n",
    "    bn_initzero = _bn(ni, init_zero=init_zero)\n",
    "    return nn.Sequential(bn_initzero, nn.ReLU(inplace=True), conv1d(ni, nf, ks, stride))\n",
    "\n",
    "class BasicBlock(nn.Module):\n",
    "    \"Block from a wide ResNet.\"\n",
    "    def __init__(self, ni, nf, ks, stride, drop_p=0.0):\n",
    "        super().__init__()\n",
    "        self.bn = nn.BatchNorm1d(ni)\n",
    "        self.conv1 = conv1d(ni, nf, ks, stride)\n",
    "        self.conv2 = bn_relu_conv(nf, nf, ks, 1)\n",
    "        self.drop = nn.Dropout(drop_p, inplace=True) if drop_p else None\n",
    "        self.shortcut = conv1d(ni, nf, 1, stride) if (ni != nf or stride != 1) else noop\n",
    "\n",
    "    def forward(self, x):\n",
    "        x2 = F.relu(self.bn(x), inplace=True)\n",
    "        r = self.shortcut(x2)\n",
    "        x = self.conv1(x2)\n",
    "        if self.drop: x = self.drop(x)\n",
    "        x = self.conv2(x) * 0.2\n",
    "        return x.add_(r)"
   ]
  },
  {
   "cell_type": "code",
   "execution_count": 78,
   "metadata": {
    "colab": {},
    "colab_type": "code",
    "hidden": true,
    "id": "S2_TaxXnHZWa"
   },
   "outputs": [],
   "source": [
    "def conv1d(ni:int, no:int, ks:int=1, stride:int=1, padding=None, bias:bool=False):\n",
    "    \"Create and initialize `nn.Conv1d` layer.\"\n",
    "    if padding is None: padding = ks//2\n",
    "    conv = nn.Conv1d(ni, no, ks, stride=stride, padding=padding, bias=bias)\n",
    "    nn.init.kaiming_normal_(conv.weight)\n",
    "    if bias: conv.bias.data.zero_()\n",
    "    return spectral_norm(conv)"
   ]
  },
  {
   "cell_type": "code",
   "execution_count": 79,
   "metadata": {
    "colab": {},
    "colab_type": "code",
    "hidden": true,
    "id": "uSWUUcNqjuXi"
   },
   "outputs": [],
   "source": [
    "class UnetBlock(nn.Module):\n",
    "    \"A quasi-UNet block, using `PixelShuffle_ICNR upsampling`.\"\n",
    "    def __init__(self, dn_in_c:int, dn_out_c:int, x_c:int, in_hook:Hook, out_hook:Hook, final_div:bool=True, \n",
    "                 blur:bool=False, leaky:float=None, self_attention:bool=False, add_mode=True):\n",
    "        super().__init__()\n",
    "        self.in_hook,self.out_hook = in_hook,out_hook\n",
    "        self.bn = nn.BatchNorm1d(x_c)\n",
    "        with torch.no_grad():\n",
    "            self.bn.bias.fill_(1e-3)\n",
    "            self.bn.weight.fill_(1.)\n",
    "        \n",
    "        conv_in = x_c if add_mode else 2*x_c\n",
    "        \n",
    "        self.conv1 = conv_layer(conv_in, dn_out_c, leaky=leaky, is_1d=True)\n",
    "        self.conv2 = conv_layer(dn_out_c, dn_in_c, leaky=leaky, self_attention=self_attention, is_1d=True)\n",
    "#         self.relu = relu(leaky=leaky)\n",
    "\n",
    "    def forward(self, up_in:Tensor) -> Tensor:\n",
    "        s = self.in_hook.stored\n",
    "        ssh = s.shape[-1:]\n",
    "        out_sz = self.out_hook.stored.shape[-1:]\n",
    "#         up_out = F.interpolate(up_in, ssh, mode='linear')\n",
    "        up_out = up_in\n",
    "#         cat_x = self.relu(torch.cat([up_out, self.bn(s)], dim=1))\n",
    "        cat_x = up_out + self.bn(s) if add_mode \\\n",
    "            else torch.cat([up_out, self.bn(s)], dim=1)\n",
    "        \n",
    "        return self.conv2(F.interpolate(self.conv1(cat_x),out_sz, mode='linear', align_corners=False))"
   ]
  },
  {
   "cell_type": "code",
   "execution_count": 80,
   "metadata": {
    "colab": {},
    "colab_type": "code",
    "hidden": true,
    "id": "NwAnePJCgywI"
   },
   "outputs": [],
   "source": [
    "class Noop_module(nn.Module): # Used to easily hook the raw input to the network\n",
    "  def forward(self,x):\n",
    "    return noop(x)"
   ]
  },
  {
   "cell_type": "code",
   "execution_count": 81,
   "metadata": {
    "colab": {},
    "colab_type": "code",
    "hidden": true,
    "id": "BZT2IuohXpz3"
   },
   "outputs": [],
   "source": [
    "def sequentialize(l):\n",
    "  return SequentialEx(*list(l))"
   ]
  },
  {
   "cell_type": "markdown",
   "metadata": {
    "colab_type": "text",
    "hidden": true,
    "id": "3gI4z6iBRLiT"
   },
   "source": [
    "## Construction"
   ]
  },
  {
   "cell_type": "markdown",
   "metadata": {
    "colab_type": "text",
    "hidden": true,
    "id": "9HWMf96cmu0S"
   },
   "source": [
    "We now have the pieces needed to build the encoder and decoder."
   ]
  },
  {
   "cell_type": "markdown",
   "metadata": {
    "hidden": true
   },
   "source": [
    "### Encoder"
   ]
  },
  {
   "cell_type": "code",
   "execution_count": 82,
   "metadata": {
    "colab": {
     "base_uri": "https://localhost:8080/",
     "height": 34
    },
    "colab_type": "code",
    "hidden": true,
    "id": "vzSarrrAfa2M",
    "outputId": "f298d105-d5ff-4f68-9581-bc80727d17d8"
   },
   "outputs": [
    {
     "data": {
      "text/plain": [
       "[(16, 32), (32, 64), (64, 64), (64, 64), (64, 64), (64, 64)]"
      ]
     },
     "execution_count": 82,
     "metadata": {},
     "output_type": "execute_result"
    }
   ],
   "source": [
    "# Parameter           # Value for best performer\n",
    "\n",
    "bb_kernel_sz = 3      # 3\n",
    "min_feat     = 16     # 16\n",
    "max_feat     = 64     # 64\n",
    "n_lay        = 6      # 6\n",
    "scaling      = 2      # 2\n",
    "add_mode     = True   # True\n",
    "trans_ker    = 9      # 9\n",
    "\n",
    "feats = [(min(max_feat, min_feat*(2 ** i)), min(max_feat, min_feat*(2 ** (i+1)))) for i in range(n_lay)]\n",
    "\n",
    "feats"
   ]
  },
  {
   "cell_type": "code",
   "execution_count": 83,
   "metadata": {
    "colab": {},
    "colab_type": "code",
    "hidden": true,
    "id": "U0B9aHsAbDNH"
   },
   "outputs": [],
   "source": [
    "enc_layers = [\n",
    "              [BasicBlock(in_f,out_f,bb_kernel_sz,scaling),BasicBlock(out_f,out_f,bb_kernel_sz,1)]\n",
    "              for (in_f,out_f) in feats\n",
    "             ]\n",
    "\n",
    "initial = Noop_module()\n",
    "hook = hook_output(initial)\n",
    "\n",
    "enc_layers = [[initial,BasicBlock(1,min_feat,9,2),BasicBlock(min_feat,min_feat,bb_kernel_sz,1)]] + enc_layers\n",
    "\n",
    "enc = list(map(sequentialize, enc_layers))"
   ]
  },
  {
   "cell_type": "code",
   "execution_count": 84,
   "metadata": {
    "colab": {},
    "colab_type": "code",
    "hidden": true,
    "id": "mkEjyNxPQ4Mk"
   },
   "outputs": [],
   "source": [
    "encoder = SequentialEx(*enc)"
   ]
  },
  {
   "cell_type": "markdown",
   "metadata": {
    "hidden": true
   },
   "source": [
    "### Transition"
   ]
  },
  {
   "cell_type": "code",
   "execution_count": 85,
   "metadata": {
    "hidden": true
   },
   "outputs": [],
   "source": [
    "encoded_feats = feats[-1][1]\n",
    "\n",
    "trans = BasicBlock(encoded_feats,encoded_feats,trans_ker,1)"
   ]
  },
  {
   "cell_type": "markdown",
   "metadata": {
    "hidden": true
   },
   "source": [
    "### Decoder"
   ]
  },
  {
   "cell_type": "markdown",
   "metadata": {
    "colab_type": "text",
    "hidden": true,
    "id": "grrw_2l5m2Zh"
   },
   "source": [
    "For the decoder we construct the layers, hooking the outputs from the encoder layers as partial inputs."
   ]
  },
  {
   "cell_type": "code",
   "execution_count": 86,
   "metadata": {
    "colab": {},
    "colab_type": "code",
    "hidden": true,
    "id": "ROGOIYRflsVB"
   },
   "outputs": [],
   "source": [
    "sfs = hook_outputs(encoder)\n",
    "\n",
    "dec_layers = [UnetBlock(out_f,in_f,in_f,in_hook,out_hook,add_mode=add_mode) \n",
    "              for (i,(out_f,in_f)),in_hook,out_hook in zip(enumerate(feats),sfs[1:],sfs[:-1])\n",
    "             ]\n",
    "\n",
    "last_in_f,last_out_f = 1,feats[0][0]\n",
    "last_up = UnetBlock(last_out_f,last_out_f,last_out_f,sfs[0],hook,add_mode=add_mode)\n",
    "last_conv = conv_layer(last_out_f, last_in_f, is_1d=True, use_activ=False)\n",
    "sig = nn.Sigmoid()\n",
    "\n",
    "dec_layers = list(reversed(dec_layers)) + [last_up,last_conv,sig]\n"
   ]
  },
  {
   "cell_type": "code",
   "execution_count": 87,
   "metadata": {
    "hidden": true
   },
   "outputs": [],
   "source": [
    "decoder = SequentialEx(*dec_layers)"
   ]
  },
  {
   "cell_type": "markdown",
   "metadata": {
    "hidden": true
   },
   "source": [
    "### Combined model"
   ]
  },
  {
   "cell_type": "code",
   "execution_count": 88,
   "metadata": {
    "colab": {},
    "colab_type": "code",
    "hidden": true,
    "id": "4yVd-0y-qErs"
   },
   "outputs": [],
   "source": [
    "model = nn.Sequential(encoder,trans,decoder)"
   ]
  },
  {
   "cell_type": "markdown",
   "metadata": {
    "colab_type": "text",
    "heading_collapsed": true,
    "id": "gJYmgMEZuffb"
   },
   "source": [
    "# Loss Function"
   ]
  },
  {
   "cell_type": "markdown",
   "metadata": {
    "colab_type": "text",
    "hidden": true,
    "id": "5nU70IV_aEVC"
   },
   "source": [
    "For a loss function we use a variation on the DICE loss function (described [here](https://www.jeremyjordan.me/semantic-segmentation/#loss))."
   ]
  },
  {
   "cell_type": "code",
   "execution_count": 90,
   "metadata": {
    "colab": {},
    "colab_type": "code",
    "hidden": true,
    "id": "vVMrr0Hq0l9s"
   },
   "outputs": [],
   "source": [
    "def dice(preds,targs):\n",
    "  return .5-((1.-preds.squeeze())*(1.-targs)).mean()/((1.-preds.squeeze()).mean()+(1.-targs).mean())"
   ]
  },
  {
   "cell_type": "markdown",
   "metadata": {
    "colab_type": "text",
    "id": "gFsKTzxCt1Ls"
   },
   "source": [
    "# Training"
   ]
  },
  {
   "cell_type": "code",
   "execution_count": 91,
   "metadata": {
    "colab": {},
    "colab_type": "code",
    "id": "vIzEJON2ud9M"
   },
   "outputs": [],
   "source": [
    "learn = Learner(db,model.cuda(),loss_func=dice)"
   ]
  },
  {
   "cell_type": "code",
   "execution_count": 92,
   "metadata": {
    "colab": {
     "base_uri": "https://localhost:8080/",
     "height": 204
    },
    "colab_type": "code",
    "id": "Dsw2wfjJHZ7Y",
    "outputId": "5ece8787-4f10-4d40-afb8-07051baa5f2b"
   },
   "outputs": [
    {
     "data": {
      "text/html": [],
      "text/plain": [
       "<IPython.core.display.HTML object>"
      ]
     },
     "metadata": {},
     "output_type": "display_data"
    },
    {
     "name": "stdout",
     "output_type": "stream",
     "text": [
      "LR Finder is complete, type {learner_name}.recorder.plot() to see the graph.\n"
     ]
    }
   ],
   "source": [
    "learn.lr_find()"
   ]
  },
  {
   "cell_type": "code",
   "execution_count": 93,
   "metadata": {
    "colab": {
     "base_uri": "https://localhost:8080/",
     "height": 361
    },
    "colab_type": "code",
    "id": "XOR70STII9_O",
    "outputId": "b051e641-ba80-4466-caf6-f3b94d009303",
    "scrolled": true
   },
   "outputs": [
    {
     "name": "stdout",
     "output_type": "stream",
     "text": [
      "Min numerical gradient: 9.12E-03\n"
     ]
    },
    {
     "data": {
      "image/png": "[encoded data removed]",
      "text/plain": [
       "<Figure size 432x288 with 1 Axes>"
      ]
     },
     "metadata": {
      "needs_background": "light"
     },
     "output_type": "display_data"
    }
   ],
   "source": [
    "learn.recorder.plot()"
   ]
  },
  {
   "cell_type": "code",
   "execution_count": 94,
   "metadata": {
    "colab": {
     "base_uri": "https://localhost:8080/",
     "height": 196
    },
    "colab_type": "code",
    "id": "SU2q-PnhjVM2",
    "outputId": "e56ffe6a-eec5-40aa-c540-cb3719d77eaa"
   },
   "outputs": [
    {
     "data": {
      "text/html": [
       "Total time: 13:35 <p><table border=\"1\" class=\"dataframe\">\n",
       "  <thead>\n",
       "    <tr style=\"text-align: left;\">\n",
       "      <th>epoch</th>\n",
       "      <th>train_loss</th>\n",
       "      <th>valid_loss</th>\n",
       "    </tr>\n",
       "  </thead>\n",
       "  <tbody>\n",
       "    <tr>\n",
       "      <td>1</td>\n",
       "      <td>0.047250</td>\n",
       "      <td></td>\n",
       "    </tr>\n",
       "    <tr>\n",
       "      <td>2</td>\n",
       "      <td>0.021519</td>\n",
       "      <td></td>\n",
       "    </tr>\n",
       "    <tr>\n",
       "      <td>3</td>\n",
       "      <td>0.003346</td>\n",
       "      <td></td>\n",
       "    </tr>\n",
       "    <tr>\n",
       "      <td>4</td>\n",
       "      <td>0.002914</td>\n",
       "      <td></td>\n",
       "    </tr>\n",
       "  </tbody>\n",
       "</table>"
      ],
      "text/plain": [
       "<IPython.core.display.HTML object>"
      ]
     },
     "metadata": {},
     "output_type": "display_data"
    }
   ],
   "source": [
    "learn.fit_one_cycle(4,max_lr=5e-2)"
   ]
  },
  {
   "cell_type": "markdown",
   "metadata": {
    "colab_type": "text",
    "id": "nv8I7UGnt4FA"
   },
   "source": [
    "# Analysis"
   ]
  },
  {
   "cell_type": "code",
   "execution_count": 95,
   "metadata": {
    "colab": {},
    "colab_type": "code",
    "id": "EVuXTBDstbhM"
   },
   "outputs": [],
   "source": [
    "x,y = db.one_batch()"
   ]
  },
  {
   "cell_type": "markdown",
   "metadata": {
    "colab_type": "text",
    "id": "EyLBrscenttn"
   },
   "source": [
    "The model is quite accurate for many profiles:"
   ]
  },
  {
   "cell_type": "code",
   "execution_count": 122,
   "metadata": {
    "colab": {
     "base_uri": "https://localhost:8080/",
     "height": 269
    },
    "colab_type": "code",
    "id": "dk_rNR3sgyW8",
    "outputId": "1e5a807e-8598-4c50-8b43-fa39bedcea15"
   },
   "outputs": [
    {
     "data": {
      "image/png": "[encoded data removed]",
      "text/plain": [
       "<Figure size 360x288 with 1 Axes>"
      ]
     },
     "metadata": {
      "needs_background": "light"
     },
     "output_type": "display_data"
    }
   ],
   "source": [
    "i = 21\n",
    "lin_plot(list(zip(xs,x[i].squeeze())),learn.model(x[i].unsqueeze(0).cuda()).round().squeeze(),[0,10],[0,3]) # Predicted labels"
   ]
  },
  {
   "cell_type": "code",
   "execution_count": 121,
   "metadata": {
    "colab": {
     "base_uri": "https://localhost:8080/",
     "height": 269
    },
    "colab_type": "code",
    "id": "0NXDiTppPI6Y",
    "outputId": "82ed84b0-a27c-40c6-b6c9-ee70d0268cd8"
   },
   "outputs": [
    {
     "data": {
      "image/png": "[encoded data removed]",
      "text/plain": [
       "<Figure size 360x288 with 1 Axes>"
      ]
     },
     "metadata": {
      "needs_background": "light"
     },
     "output_type": "display_data"
    }
   ],
   "source": [
    "lin_plot(list(zip(xs,x[i].squeeze())),y[i].squeeze(),[0,10],[0,3]) # Actual labels"
   ]
  },
  {
   "cell_type": "markdown",
   "metadata": {
    "colab_type": "text",
    "id": "LDvIgwGJoDzK"
   },
   "source": [
    "However, it has some issues with falsely labeling real data as fake, particularly when no gaps are present in a profile:"
   ]
  },
  {
   "cell_type": "code",
   "execution_count": 123,
   "metadata": {
    "colab": {
     "base_uri": "https://localhost:8080/",
     "height": 269
    },
    "colab_type": "code",
    "id": "8Is2eI3Kn9f_",
    "outputId": "b8d67828-7c58-4fb3-9cea-edf849461a34"
   },
   "outputs": [
    {
     "data": {
      "image/png": "[encoded data removed]",
      "text/plain": [
       "<Figure size 360x288 with 1 Axes>"
      ]
     },
     "metadata": {
      "needs_background": "light"
     },
     "output_type": "display_data"
    }
   ],
   "source": [
    "i = 1\n",
    "lin_plot(list(zip(xs,x[i].squeeze())),learn.model(x[i].unsqueeze(0).cuda()).round().squeeze(),[0,10],[0,5]) # Predicted labels"
   ]
  },
  {
   "cell_type": "code",
   "execution_count": 124,
   "metadata": {
    "colab": {
     "base_uri": "https://localhost:8080/",
     "height": 269
    },
    "colab_type": "code",
    "id": "CwsR8qecn-4J",
    "outputId": "3f232721-5fd9-4468-f271-2efd8239bd05"
   },
   "outputs": [
    {
     "data": {
      "image/png": "[encoded data removed]",
      "text/plain": [
       "<Figure size 360x288 with 1 Axes>"
      ]
     },
     "metadata": {
      "needs_background": "light"
     },
     "output_type": "display_data"
    }
   ],
   "source": [
    "lin_plot(list(zip(xs,x[i].squeeze())),y[i].squeeze(),[0,10],[0,5]) # Actual labels"
   ]
  },
  {
   "cell_type": "markdown",
   "metadata": {},
   "source": [
    "The model occasionally labels some, but not all data points of particular gaps."
   ]
  },
  {
   "cell_type": "code",
   "execution_count": 115,
   "metadata": {
    "colab": {
     "base_uri": "https://localhost:8080/",
     "height": 269
    },
    "colab_type": "code",
    "id": "dk_rNR3sgyW8",
    "outputId": "1e5a807e-8598-4c50-8b43-fa39bedcea15"
   },
   "outputs": [
    {
     "data": {
      "image/png": "[encoded data removed]",
      "text/plain": [
       "<Figure size 360x288 with 1 Axes>"
      ]
     },
     "metadata": {
      "needs_background": "light"
     },
     "output_type": "display_data"
    }
   ],
   "source": [
    "i = 18\n",
    "lin_plot(list(zip(xs,x[i].squeeze())),learn.model(x[i].unsqueeze(0).cuda()).round().squeeze(),[0,10],[0,2]) # Predicted labels"
   ]
  },
  {
   "cell_type": "code",
   "execution_count": 114,
   "metadata": {
    "colab": {
     "base_uri": "https://localhost:8080/",
     "height": 269
    },
    "colab_type": "code",
    "id": "0NXDiTppPI6Y",
    "outputId": "82ed84b0-a27c-40c6-b6c9-ee70d0268cd8"
   },
   "outputs": [
    {
     "data": {
      "image/png": "[encoded data removed]",
      "text/plain": [
       "<Figure size 360x288 with 1 Axes>"
      ]
     },
     "metadata": {
      "needs_background": "light"
     },
     "output_type": "display_data"
    }
   ],
   "source": [
    "lin_plot(list(zip(xs,x[i].squeeze())),y[i].squeeze(),[0,10],[0,2]) # Actual labels"
   ]
  },
  {
   "cell_type": "markdown",
   "metadata": {
    "colab_type": "text",
    "id": "7AdwETV4iTTD"
   },
   "source": [
    "# Conclusion"
   ]
  },
  {
   "cell_type": "markdown",
   "metadata": {
    "colab_type": "text",
    "id": "DkOTM2YqiWuC"
   },
   "source": [
    "Despite some issues with false positives, the performance of the model is quite good on the simulated data.  More information from the team would be needed to see whether the model would work as well on the real data.  Training on simulated data is generally a vulnerable process, and it would be preferrable to train on actual profiles, but it's unknown to me how much real data is available.  The model as it was demonstrated in this notebook had essentially unlimited data with which to train.  If real data is scarce, perhaps the real data could be analyzed to improve the quality of the simulated data to make it better for training.\n",
    "\n",
    "Areas of potential improvement for the model are:\n",
    "\n",
    "* Among various methods of implementing U-net style skip connections, addition and concatenation of the outputs of earlier layers with the input of the previous layer are common.  For this model, addition showed superior performance.  A hybrid method using concatenation but initializing the weights of the next layer to emulate an addition operation, could potentially give the performance of addition with the flexibility of concatenation.\n",
    "* Experiment with integration of a recurrent network for better parsing of gap start and end positions.\n",
    "* Integrate this model with the predictive model for single-pass training and prediction.\n",
    "\n",
    "Hopefully this model can be helpful to the OAG data science team."
   ]
  }
 ],
 "metadata": {
  "accelerator": "GPU",
  "colab": {
   "collapsed_sections": [],
   "name": "production-seg.ipynb",
   "provenance": [],
   "version": "0.3.2"
  },
  "kernelspec": {
   "display_name": "Python 3",
   "language": "python",
   "name": "python3"
  },
  "language_info": {
   "codemirror_mode": {
    "name": "ipython",
    "version": 3
   },
   "file_extension": ".py",
   "mimetype": "text/x-python",
   "name": "python",
   "nbconvert_exporter": "python",
   "pygments_lexer": "ipython3",
   "version": "3.7.0"
  }
 },
 "nbformat": 4,
 "nbformat_minor": 1
}
